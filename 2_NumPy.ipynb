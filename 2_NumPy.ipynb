{
  "nbformat": 4,
  "nbformat_minor": 0,
  "metadata": {
    "colab": {
      "provenance": [],
      "toc_visible": true,
      "authorship_tag": "ABX9TyOnqMca8L6U8TlRoThfRPez",
      "include_colab_link": true
    },
    "kernelspec": {
      "name": "python3",
      "display_name": "Python 3"
    },
    "language_info": {
      "name": "python"
    }
  },
  "cells": [
    {
      "cell_type": "markdown",
      "metadata": {
        "id": "view-in-github",
        "colab_type": "text"
      },
      "source": [
        "<a href=\"https://colab.research.google.com/github/pablocurcodev/machine_learning/blob/main/2_NumPy.ipynb\" target=\"_parent\"><img src=\"https://colab.research.google.com/assets/colab-badge.svg\" alt=\"Open In Colab\"/></a>"
      ]
    },
    {
      "cell_type": "markdown",
      "source": [
        "# **NumPy Basics: Arrays and Vectorized Computation**\n",
        "\n",
        "NumPy, short for Numerical Python, is one of the most important foundational packages for numerical computing in Python. Many computational packages providing scientific functionality use NumPy’s array objects as one of the standard interface lingua francas for data exchange. Much of the knowledge about NumPy that I cover is transferable to pandas as well.\n",
        "\n",
        "Here are some of the things you’ll find in NumPy:\n",
        "\n",
        "ndarray, an efficient multidimensional array providing fast array-oriented arithmetic operations and flexible broadcasting capabilities\n",
        "\n",
        "Mathematical functions for fast operations on entire arrays of data without having to write loops\n",
        "\n",
        "Tools for reading/writing array data to disk and working with memory-mapped files\n",
        "\n",
        "Linear algebra, random number generation, and Fourier transform capabilities\n",
        "\n",
        "A C API for connecting NumPy with libraries written in C, C++, or FORTRAN\n",
        "\n",
        "Source: https://learning.oreilly.com/library/view/python-for-data/9781098104023/ch04.html"
      ],
      "metadata": {
        "id": "Y-hBu_QOgpC_"
      }
    },
    {
      "cell_type": "markdown",
      "source": [
        "For most data analysis applications, the main areas of functionality are:\n",
        "\n",
        "Fast array-based operations for data munging and cleaning, subsetting and filtering, transformation, and any other kind of computation\n",
        "\n",
        "Common array algorithms like sorting, unique, and set operations\n",
        "\n",
        "Efficient descriptive statistics and aggregating/summarizing data\n",
        "\n",
        "Data alignment and relational data manipulations for merging and joining heterogeneous datasets\n",
        "\n",
        "Expressing conditional logic as array expressions instead of loops with if-elif-else branches\n",
        "\n",
        "Group-wise data manipulations (aggregation, transformation, and function application)"
      ],
      "metadata": {
        "id": "jA4BoF5phFb2"
      }
    },
    {
      "cell_type": "markdown",
      "source": [
        "*   https://numpy.org/\n",
        "*   https://numpy.org/doc/stable/\n",
        "*   https://numpy.org/doc/stable/user/absolute_beginners.html\n",
        "\n",
        "\n",
        "\n",
        "\n",
        "\n",
        "\n",
        "\n"
      ],
      "metadata": {
        "id": "XuchOMfDcXVt"
      }
    },
    {
      "cell_type": "code",
      "source": [
        "import numpy as np\n",
        "\n",
        "my_arr = np.arange(1_000_000)\n",
        "\n",
        "my_list = list(range(1_000_000))\n",
        "\n",
        "%timeit my_arr2 = my_arr * 2\n",
        "\n",
        "%timeit my_list2 = [x * 2 for x in my_list]\n",
        "\n",
        "# NumPy-based algorithms are generally 10 to 100 times faster (or more) than their pure Python counterparts and use significantly less memory.\n"
      ],
      "metadata": {
        "colab": {
          "base_uri": "https://localhost:8080/"
        },
        "id": "OeWx9kgWg5rU",
        "outputId": "a7dfdc50-2983-4eb6-cc93-508ed92ce402"
      },
      "execution_count": null,
      "outputs": [
        {
          "output_type": "stream",
          "name": "stdout",
          "text": [
            "650 µs ± 33.3 µs per loop (mean ± std. dev. of 7 runs, 1000 loops each)\n",
            "84.8 ms ± 20.1 ms per loop (mean ± std. dev. of 7 runs, 10 loops each)\n"
          ]
        }
      ]
    },
    {
      "cell_type": "markdown",
      "source": [
        "## **The NumPy ndarray: A Multidimensional Array Object**\n",
        "\n",
        "One of the key features of NumPy is its N-dimensional array object, or ndarray, which is a fast, flexible container for large datasets in Python. Arrays enable you to perform mathematical operations on whole blocks of data using similar syntax to the equivalent operations between scalar elements."
      ],
      "metadata": {
        "id": "sdmsRcVNh575"
      }
    },
    {
      "cell_type": "code",
      "source": [
        "import numpy as np\n",
        "\n",
        "data = np.array([[1.5, -0.1, 3], [0, -3, 6.5]])\n",
        "\n",
        "print(data)\n",
        "\n",
        "print(data * 10)\n",
        "\n",
        "print(data + data)"
      ],
      "metadata": {
        "colab": {
          "base_uri": "https://localhost:8080/"
        },
        "id": "6kot5kgbh7lC",
        "outputId": "625125c5-7459-4c71-bcb9-147d792ea1f2"
      },
      "execution_count": null,
      "outputs": [
        {
          "output_type": "stream",
          "name": "stdout",
          "text": [
            "[[ 1.5 -0.1  3. ]\n",
            " [ 0.  -3.   6.5]]\n",
            "[[ 15.  -1.  30.]\n",
            " [  0. -30.  65.]]\n",
            "[[ 3.  -0.2  6. ]\n",
            " [ 0.  -6.  13. ]]\n"
          ]
        }
      ]
    },
    {
      "cell_type": "markdown",
      "source": [
        "An ndarray is a generic multidimensional container for homogeneous data; that is, all of the elements must be the same type. Every array has a shape, a tuple indicating the size of each dimension, and a dtype, an object describing the data type of the array"
      ],
      "metadata": {
        "id": "1AUT-CfOinct"
      }
    },
    {
      "cell_type": "code",
      "source": [
        "print(data.shape)\n",
        "print(data.dtype)"
      ],
      "metadata": {
        "colab": {
          "base_uri": "https://localhost:8080/"
        },
        "id": "wI7E0yXXikLr",
        "outputId": "49804f20-8146-4e5e-e699-94116514625d"
      },
      "execution_count": null,
      "outputs": [
        {
          "output_type": "stream",
          "name": "stdout",
          "text": [
            "(2, 3)\n",
            "float64\n"
          ]
        }
      ]
    },
    {
      "cell_type": "markdown",
      "source": [
        "The easiest way to create an array is to use the array function. This accepts any sequence-like object (including other arrays) and produces a new NumPy array containing the passed data. For example, a list is a good candidate for conversion"
      ],
      "metadata": {
        "id": "IbPF2R9AizkF"
      }
    },
    {
      "cell_type": "code",
      "source": [
        "data1 = [6, 7.5, 8, 0, 1]\n",
        "arr1 = np.array(data1)\n",
        "print(arr1)"
      ],
      "metadata": {
        "colab": {
          "base_uri": "https://localhost:8080/"
        },
        "id": "WLObDUh_ivUz",
        "outputId": "73f1d924-e8ac-451e-cfc8-7415b3d68b71"
      },
      "execution_count": null,
      "outputs": [
        {
          "output_type": "stream",
          "name": "stdout",
          "text": [
            "[6.  7.5 8.  0.  1. ]\n"
          ]
        }
      ]
    },
    {
      "cell_type": "markdown",
      "source": [
        "Nested sequences, like a list of equal-length lists, will be converted into a multidimensional array:"
      ],
      "metadata": {
        "id": "lwqx2A2ojFox"
      }
    },
    {
      "cell_type": "code",
      "source": [
        "data2 = [[1, 2, 3, 4], [5, 6, 7, 8]]\n",
        "arr2 = np.array(data2)\n",
        "\n",
        "arr2"
      ],
      "metadata": {
        "colab": {
          "base_uri": "https://localhost:8080/"
        },
        "id": "GXoM_Zqwi3-F",
        "outputId": "c63deb87-8a01-4ad9-b1b1-1df42a78c0ab"
      },
      "execution_count": null,
      "outputs": [
        {
          "output_type": "execute_result",
          "data": {
            "text/plain": [
              "array([[1, 2, 3, 4],\n",
              "       [5, 6, 7, 8]])"
            ]
          },
          "metadata": {},
          "execution_count": 7
        }
      ]
    },
    {
      "cell_type": "markdown",
      "source": [
        "Since data2 was a list of lists, the NumPy array arr2 has two dimensions, with shape inferred from the data. We can confirm this by inspecting the ndim and shape attributes"
      ],
      "metadata": {
        "id": "Jtp0UuSajRDD"
      }
    },
    {
      "cell_type": "code",
      "source": [
        "print(arr2.ndim)\n",
        "print(arr2.shape)"
      ],
      "metadata": {
        "colab": {
          "base_uri": "https://localhost:8080/"
        },
        "id": "LpbUxs4bjTQH",
        "outputId": "e2e4943b-7906-48d9-ffbc-6b55a96403c4"
      },
      "execution_count": null,
      "outputs": [
        {
          "output_type": "stream",
          "name": "stdout",
          "text": [
            "2\n",
            "(2, 4)\n"
          ]
        }
      ]
    },
    {
      "cell_type": "markdown",
      "source": [
        "In addition to numpy.array, there are a number of other functions for creating new arrays. As examples, numpy.zeros and numpy.ones create arrays of 0s or 1s, respectively, with a given length or shape. numpy.empty creates an array without initializing its values to any particular value. To create a higher dimensional array with these methods, pass a tuple for the shape"
      ],
      "metadata": {
        "id": "UkHqDBy_kq3z"
      }
    },
    {
      "cell_type": "code",
      "source": [
        "np.zeros(10)"
      ],
      "metadata": {
        "colab": {
          "base_uri": "https://localhost:8080/"
        },
        "id": "JcdOukOzkrzi",
        "outputId": "1345c451-0b7c-4964-96e6-94ecc08a9759"
      },
      "execution_count": null,
      "outputs": [
        {
          "output_type": "execute_result",
          "data": {
            "text/plain": [
              "array([0., 0., 0., 0., 0., 0., 0., 0., 0., 0.])"
            ]
          },
          "metadata": {},
          "execution_count": 9
        }
      ]
    },
    {
      "cell_type": "code",
      "source": [
        "np.zeros((3, 6))"
      ],
      "metadata": {
        "colab": {
          "base_uri": "https://localhost:8080/"
        },
        "id": "J1Bb-Lsxku0z",
        "outputId": "1fd389f9-3733-4ced-a686-c28f66cbcf6d"
      },
      "execution_count": null,
      "outputs": [
        {
          "output_type": "execute_result",
          "data": {
            "text/plain": [
              "array([[0., 0., 0., 0., 0., 0.],\n",
              "       [0., 0., 0., 0., 0., 0.],\n",
              "       [0., 0., 0., 0., 0., 0.]])"
            ]
          },
          "metadata": {},
          "execution_count": 10
        }
      ]
    },
    {
      "cell_type": "code",
      "source": [
        "np.empty((2, 3, 2))"
      ],
      "metadata": {
        "id": "e_wiyajhkxXy",
        "outputId": "ef453182-04e3-4c03-8ee4-f7b944a960e0",
        "colab": {
          "base_uri": "https://localhost:8080/"
        }
      },
      "execution_count": null,
      "outputs": [
        {
          "output_type": "execute_result",
          "data": {
            "text/plain": [
              "array([[[4.78402986e-310, 0.00000000e+000],\n",
              "        [0.00000000e+000, 0.00000000e+000],\n",
              "        [0.00000000e+000, 0.00000000e+000]],\n",
              "\n",
              "       [[0.00000000e+000, 0.00000000e+000],\n",
              "        [0.00000000e+000, 0.00000000e+000],\n",
              "        [0.00000000e+000, 0.00000000e+000]]])"
            ]
          },
          "metadata": {},
          "execution_count": 11
        }
      ]
    },
    {
      "cell_type": "markdown",
      "source": [
        "It’s not safe to assume that numpy.empty will return an array of all zeros. This function returns uninitialized memory and thus may contain nonzero “garbage” values. You should use this function only if you intend to populate the new array with data."
      ],
      "metadata": {
        "id": "FOSIz2c4Sf8q"
      }
    },
    {
      "cell_type": "markdown",
      "source": [
        "numpy.arange is an array-valued version of the built-in Python range function"
      ],
      "metadata": {
        "id": "tYegRdIOSl9F"
      }
    },
    {
      "cell_type": "code",
      "source": [
        "np.arange(15)"
      ],
      "metadata": {
        "colab": {
          "base_uri": "https://localhost:8080/"
        },
        "id": "dWsvQqOXSk5y",
        "outputId": "fbf333f7-b9f1-420b-a991-5db72338ca21"
      },
      "execution_count": null,
      "outputs": [
        {
          "output_type": "execute_result",
          "data": {
            "text/plain": [
              "array([ 0,  1,  2,  3,  4,  5,  6,  7,  8,  9, 10, 11, 12, 13, 14])"
            ]
          },
          "metadata": {},
          "execution_count": 12
        }
      ]
    },
    {
      "cell_type": "markdown",
      "source": [
        "You can also use np.linspace() to create an array with values that are spaced linearly in a specified interval"
      ],
      "metadata": {
        "id": "h9e9qT-_eerj"
      }
    },
    {
      "cell_type": "code",
      "source": [
        "np.linspace(0, 10, num=5)"
      ],
      "metadata": {
        "colab": {
          "base_uri": "https://localhost:8080/"
        },
        "id": "aRVKT2iteZnT",
        "outputId": "2fdffe58-4ada-43dd-8023-0969cbda8215"
      },
      "execution_count": null,
      "outputs": [
        {
          "output_type": "execute_result",
          "data": {
            "text/plain": [
              "array([ 0. ,  2.5,  5. ,  7.5, 10. ])"
            ]
          },
          "metadata": {},
          "execution_count": 112
        }
      ]
    },
    {
      "cell_type": "markdown",
      "source": [
        "## **Data Types for ndarrays**\n",
        "\n",
        "The data type or dtype is a special object containing the information (or metadata, data about data) the ndarray needs to interpret a chunk of memory as a particular type of data"
      ],
      "metadata": {
        "id": "7WcFq7sFS3yx"
      }
    },
    {
      "cell_type": "code",
      "source": [
        "arr1 = np.array([1, 2, 3], dtype=np.float64)\n",
        "arr2 = np.array([1, 2, 3], dtype=np.int32)\n",
        "\n",
        "print(arr1.dtype)\n",
        "print(arr2.dtype)"
      ],
      "metadata": {
        "colab": {
          "base_uri": "https://localhost:8080/"
        },
        "id": "9jZa2-sfS6hJ",
        "outputId": "61c732e9-be29-4b79-f86d-787e69a143fc"
      },
      "execution_count": null,
      "outputs": [
        {
          "output_type": "stream",
          "name": "stdout",
          "text": [
            "float64\n",
            "int32\n"
          ]
        }
      ]
    },
    {
      "cell_type": "code",
      "source": [
        "arr = np.array([1, 2, 3, 4, 5])\n",
        "print(arr.dtype)\n",
        "\n",
        "float_arr = arr.astype(np.float64)\n",
        "print(float_arr.dtype)"
      ],
      "metadata": {
        "colab": {
          "base_uri": "https://localhost:8080/"
        },
        "id": "2srsk4dWzgkr",
        "outputId": "9d588b6f-6fcd-486b-a16b-222fbdb640ae"
      },
      "execution_count": null,
      "outputs": [
        {
          "output_type": "stream",
          "name": "stdout",
          "text": [
            "int64\n",
            "float64\n"
          ]
        }
      ]
    },
    {
      "cell_type": "code",
      "source": [
        "float_arr = arr.astype(np.float64)\n",
        "print(float_arr)"
      ],
      "metadata": {
        "colab": {
          "base_uri": "https://localhost:8080/"
        },
        "id": "qu93s3H01-b1",
        "outputId": "9b6542e4-ee55-4c95-98ad-479a9be3a803"
      },
      "execution_count": null,
      "outputs": [
        {
          "output_type": "stream",
          "name": "stdout",
          "text": [
            "[1. 2. 3. 4. 5.]\n"
          ]
        }
      ]
    },
    {
      "cell_type": "code",
      "source": [
        "print(float_arr.dtype)"
      ],
      "metadata": {
        "colab": {
          "base_uri": "https://localhost:8080/"
        },
        "id": "qsqqv4502AOd",
        "outputId": "b4dd5435-d36e-4e3b-b740-00afe919e5d7"
      },
      "execution_count": null,
      "outputs": [
        {
          "output_type": "stream",
          "name": "stdout",
          "text": [
            "float64\n"
          ]
        }
      ]
    },
    {
      "cell_type": "code",
      "source": [
        "# In this example, integers were cast to floating point. If I cast some floating-point numbers to be of integer data type, the decimal part will be truncated:\n",
        "\n",
        "arr = np.array([3.7, -1.2, -2.6, 0.5, 12.9, 10.1])\n",
        "print(arr)\n",
        "print(arr.dtype)\n",
        "arr = arr.astype(np.int32)\n",
        "print(arr)\n",
        "print(arr.dtype)\n"
      ],
      "metadata": {
        "colab": {
          "base_uri": "https://localhost:8080/"
        },
        "id": "CSr8qlRH2NvQ",
        "outputId": "32b753c5-e610-4d79-b701-16298b796271"
      },
      "execution_count": null,
      "outputs": [
        {
          "output_type": "stream",
          "name": "stdout",
          "text": [
            "[ 3.7 -1.2 -2.6  0.5 12.9 10.1]\n",
            "float64\n",
            "[ 3 -1 -2  0 12 10]\n",
            "int32\n"
          ]
        }
      ]
    },
    {
      "cell_type": "markdown",
      "source": [
        "There are shorthand type code strings you can also use to refer to a dtype:"
      ],
      "metadata": {
        "id": "wRM1wJUGS_9S"
      }
    },
    {
      "cell_type": "code",
      "source": [
        "zeros_uint32 = np.zeros(8, dtype=\"u4\")\n",
        "zeros_uint32"
      ],
      "metadata": {
        "colab": {
          "base_uri": "https://localhost:8080/"
        },
        "id": "ruCWSPODTBAk",
        "outputId": "a72c4f2f-21ea-4be2-8b71-e2a27a4cffb0"
      },
      "execution_count": null,
      "outputs": [
        {
          "output_type": "execute_result",
          "data": {
            "text/plain": [
              "array([0, 0, 0, 0, 0, 0, 0, 0], dtype=uint32)"
            ]
          },
          "metadata": {},
          "execution_count": 18
        }
      ]
    },
    {
      "cell_type": "markdown",
      "source": [
        "## **Arithmetic with NumPy Arrays**\n",
        "\n",
        "Arrays are important because they enable you to express batch operations on data without writing any for loops. NumPy users call this vectorization. Any arithmetic operations between equal-size arrays apply the operation element-wise"
      ],
      "metadata": {
        "id": "kNXqe_i-TP8l"
      }
    },
    {
      "cell_type": "code",
      "source": [
        "arr = np.array([[1., 2., 3.], [4., 5., 6.]])\n",
        "\n",
        "print(arr)\n",
        "print(arr * arr)\n",
        "print(arr - arr)\n",
        "print(1 / arr)\n",
        "print(arr ** 2)"
      ],
      "metadata": {
        "colab": {
          "base_uri": "https://localhost:8080/"
        },
        "id": "TEUozWYRTV0h",
        "outputId": "47c188ea-6839-4d7b-a32f-ad0140795a79"
      },
      "execution_count": null,
      "outputs": [
        {
          "output_type": "stream",
          "name": "stdout",
          "text": [
            "[[1. 2. 3.]\n",
            " [4. 5. 6.]]\n",
            "[[ 1.  4.  9.]\n",
            " [16. 25. 36.]]\n",
            "[[0. 0. 0.]\n",
            " [0. 0. 0.]]\n",
            "[[1.         0.5        0.33333333]\n",
            " [0.25       0.2        0.16666667]]\n",
            "[[ 1.  4.  9.]\n",
            " [16. 25. 36.]]\n"
          ]
        }
      ]
    },
    {
      "cell_type": "code",
      "source": [
        "# Evaluating operations between differently sized arrays is called broadcasting\n",
        "arr2 = np.array([[0., 4., 1.], [7., 2., 12.]])\n",
        "print(arr2 > arr)"
      ],
      "metadata": {
        "colab": {
          "base_uri": "https://localhost:8080/"
        },
        "id": "g_PdajlYTcfc",
        "outputId": "9ed7f21d-10f7-4f27-ddb4-85b500a6a3ae"
      },
      "execution_count": null,
      "outputs": [
        {
          "output_type": "stream",
          "name": "stdout",
          "text": [
            "[[False  True False]\n",
            " [ True False  True]]\n"
          ]
        }
      ]
    },
    {
      "cell_type": "markdown",
      "source": [
        "## **Basic Indexing and Slicing**"
      ],
      "metadata": {
        "id": "9HmBYwrzagkb"
      }
    },
    {
      "cell_type": "code",
      "source": [
        "arr = np.arange(10)\n",
        "print(arr)\n",
        "print(arr[5])\n",
        "print(arr[5:8])\n",
        "arr[5:8] = 12\n",
        "print(arr)\n",
        "arr_slice = arr[5:8]\n",
        "print(arr_slice)\n",
        "\n",
        "# Now, when I change values in arr_slice, the mutations are reflected in the original array arr:\n",
        "arr_slice[1] = 12345\n",
        "print(arr)"
      ],
      "metadata": {
        "colab": {
          "base_uri": "https://localhost:8080/"
        },
        "id": "MDjQpqNVVPJI",
        "outputId": "f52d6256-1abd-4f5c-d8af-05e6989c7efe"
      },
      "execution_count": null,
      "outputs": [
        {
          "output_type": "stream",
          "name": "stdout",
          "text": [
            "[0 1 2 3 4 5 6 7 8 9]\n",
            "5\n",
            "[5 6 7]\n",
            "[ 0  1  2  3  4 12 12 12  8  9]\n",
            "[12 12 12]\n",
            "[    0     1     2     3     4    12 12345    12     8     9]\n"
          ]
        }
      ]
    },
    {
      "cell_type": "code",
      "source": [
        "# The “bare” slice [:] will assign to all values in an array\n",
        "arr_slice[:] = 64\n",
        "print(arr)"
      ],
      "metadata": {
        "colab": {
          "base_uri": "https://localhost:8080/"
        },
        "id": "SsxSPNaQa78B",
        "outputId": "786b9162-d3d6-405f-ad0b-d260e8510909"
      },
      "execution_count": null,
      "outputs": [
        {
          "output_type": "stream",
          "name": "stdout",
          "text": [
            "[ 0  1  2  3  4 64 64 64  8  9]\n"
          ]
        }
      ]
    },
    {
      "cell_type": "code",
      "source": [
        "# If you want a copy of a slice of an ndarray instead of a view,\n",
        "# you will need to explicitly copy the array—for example,\n",
        "# arr[5:8].copy(). As you will see, pandas works this way, too."
      ],
      "metadata": {
        "id": "HX4SA8XIa8BI"
      },
      "execution_count": null,
      "outputs": []
    },
    {
      "cell_type": "markdown",
      "source": [
        "With higher dimensional arrays, you have many more options. In a two-dimensional array, the elements at each index are no longer scalars but rather one-dimensional arrays"
      ],
      "metadata": {
        "id": "vYubTEG_bZJ3"
      }
    },
    {
      "cell_type": "code",
      "source": [
        "arr2d = np.array([[1, 2, 3], [4, 5, 6], [7, 8, 9]])\n",
        "print(arr2d[2])\n",
        "\n",
        "# Thus, individual elements can be accessed recursively. But that is a bit too much work, so you can pass a comma-separated list of indices to select individual elements.\n",
        "print(arr2d[0][2])\n",
        "print(arr2d[0, 2])"
      ],
      "metadata": {
        "colab": {
          "base_uri": "https://localhost:8080/"
        },
        "id": "EAPla-oZbwW_",
        "outputId": "50446a36-872f-4c61-ed74-b623dd248bde"
      },
      "execution_count": null,
      "outputs": [
        {
          "output_type": "stream",
          "name": "stdout",
          "text": [
            "[7 8 9]\n",
            "3\n",
            "3\n"
          ]
        }
      ]
    },
    {
      "cell_type": "code",
      "source": [
        "arr3d = np.array([[[1, 2, 3], [4, 5, 6]], [[7, 8, 9], [10, 11, 12]]])\n",
        "print(arr3d)"
      ],
      "metadata": {
        "colab": {
          "base_uri": "https://localhost:8080/"
        },
        "id": "7UvU4P5Pb12M",
        "outputId": "065e8948-1dfb-4142-8944-8a818ac367bd"
      },
      "execution_count": null,
      "outputs": [
        {
          "output_type": "stream",
          "name": "stdout",
          "text": [
            "[[[ 1  2  3]\n",
            "  [ 4  5  6]]\n",
            "\n",
            " [[ 7  8  9]\n",
            "  [10 11 12]]]\n"
          ]
        }
      ]
    },
    {
      "cell_type": "code",
      "source": [
        "print(arr3d[0])"
      ],
      "metadata": {
        "colab": {
          "base_uri": "https://localhost:8080/"
        },
        "id": "519yC4GBc5X5",
        "outputId": "be7721c4-014b-4cab-f7a5-b4000c863ba1"
      },
      "execution_count": null,
      "outputs": [
        {
          "output_type": "stream",
          "name": "stdout",
          "text": [
            "[[1 2 3]\n",
            " [4 5 6]]\n"
          ]
        }
      ]
    },
    {
      "cell_type": "code",
      "source": [
        "print(arr3d[1, 0])"
      ],
      "metadata": {
        "colab": {
          "base_uri": "https://localhost:8080/"
        },
        "id": "mab4T4JndEnl",
        "outputId": "bff1e9a3-435a-45e5-bf3c-555481d274a4"
      },
      "execution_count": null,
      "outputs": [
        {
          "output_type": "stream",
          "name": "stdout",
          "text": [
            "[7 8 9]\n"
          ]
        }
      ]
    },
    {
      "cell_type": "markdown",
      "source": [
        "Note that in all of these cases where subsections of the array have been selected, the returned arrays are views."
      ],
      "metadata": {
        "id": "KHcaAlK1dP5b"
      }
    },
    {
      "cell_type": "markdown",
      "source": [
        "## **Indexing with slices**"
      ],
      "metadata": {
        "id": "Xwbyodhne_X3"
      }
    },
    {
      "cell_type": "code",
      "source": [
        "arr=np.array(([ 0,  1,  2,  3,  4, 64, 64, 64,  8,  9]))\n",
        "print(arr[1:6])\n",
        "\n",
        "print(arr2d)\n",
        "# select the first two rows of arr2d.\n",
        "print(arr2d[:2])"
      ],
      "metadata": {
        "colab": {
          "base_uri": "https://localhost:8080/"
        },
        "id": "jCxTTGy-dQa1",
        "outputId": "8f87bbaf-551c-4f67-ce2a-1a6ec49c39d9"
      },
      "execution_count": null,
      "outputs": [
        {
          "output_type": "stream",
          "name": "stdout",
          "text": [
            "[ 1  2  3  4 64]\n",
            "[[1 2 3]\n",
            " [4 5 6]\n",
            " [7 8 9]]\n",
            "[[1 2 3]\n",
            " [4 5 6]]\n"
          ]
        }
      ]
    },
    {
      "cell_type": "code",
      "source": [
        "# select the second row but only the first two columns\n",
        "lower_dim_slice = arr2d[1, :2]\n",
        "lower_dim_slice"
      ],
      "metadata": {
        "colab": {
          "base_uri": "https://localhost:8080/"
        },
        "id": "hs6aDSmqfp9S",
        "outputId": "4dcdc15d-747b-4afb-81c1-a5f3e30a7819"
      },
      "execution_count": null,
      "outputs": [
        {
          "output_type": "execute_result",
          "data": {
            "text/plain": [
              "array([4, 5])"
            ]
          },
          "metadata": {},
          "execution_count": 29
        }
      ]
    },
    {
      "cell_type": "code",
      "source": [
        "# select the third column but only the first two rows\n",
        "arr2d[:2, 2]\n"
      ],
      "metadata": {
        "colab": {
          "base_uri": "https://localhost:8080/"
        },
        "id": "lRPXM4XJgk7F",
        "outputId": "742437cd-c6ca-411f-91e6-26360cef8b6b"
      },
      "execution_count": null,
      "outputs": [
        {
          "output_type": "execute_result",
          "data": {
            "text/plain": [
              "array([3, 6])"
            ]
          },
          "metadata": {},
          "execution_count": 30
        }
      ]
    },
    {
      "cell_type": "code",
      "source": [
        "# Note that a colon by itself means to take the entire axis, so you can slice only higher dimensional axes by doing\n",
        "\n",
        "print(arr2d[:, :1])\n",
        "print(arr2d[:, 1:2])\n"
      ],
      "metadata": {
        "colab": {
          "base_uri": "https://localhost:8080/"
        },
        "id": "ROl15JQrGAyz",
        "outputId": "65525aa5-ba7d-444e-af49-5b81a176da60"
      },
      "execution_count": null,
      "outputs": [
        {
          "output_type": "stream",
          "name": "stdout",
          "text": [
            "[[1]\n",
            " [4]\n",
            " [7]]\n",
            "[[2]\n",
            " [5]\n",
            " [8]]\n"
          ]
        }
      ]
    },
    {
      "cell_type": "code",
      "source": [
        "# Of course, assigning to a slice expression assigns to the whole selection:\n",
        "arr2d[:2, 1:] = 0\n",
        "arr2d"
      ],
      "metadata": {
        "colab": {
          "base_uri": "https://localhost:8080/"
        },
        "id": "cQA1rxAOGiLV",
        "outputId": "bd7db9af-1fad-40ca-9d8a-caebf5411858"
      },
      "execution_count": null,
      "outputs": [
        {
          "output_type": "execute_result",
          "data": {
            "text/plain": [
              "array([[1, 0, 0],\n",
              "       [4, 0, 0],\n",
              "       [7, 8, 9]])"
            ]
          },
          "metadata": {},
          "execution_count": 32
        }
      ]
    },
    {
      "cell_type": "markdown",
      "source": [
        "## **Boolean Indexing**"
      ],
      "metadata": {
        "id": "y4LKpug8GyTQ"
      }
    },
    {
      "cell_type": "code",
      "source": [
        "names = np.array([\"Bob\", \"Joe\", \"Will\", \"Bob\", \"Will\", \"Joe\", \"Joe\"])\n",
        "data = np.array([[4, 7], [0, 2], [-5, 6], [0, 0], [1, 2],\n",
        "                  [-12, -4], [3, 4]])\n",
        "\n",
        "print(names)\n",
        "print(data)\n",
        "print()\n",
        "print(names == \"Bob\")\n",
        "\n",
        "# This Boolean array can be passed when indexing the array:\n",
        "print(data[names == \"Bob\"])"
      ],
      "metadata": {
        "colab": {
          "base_uri": "https://localhost:8080/"
        },
        "id": "ME6uBz7WGzYg",
        "outputId": "8856c685-7e12-4fec-eb54-6094af56c586"
      },
      "execution_count": null,
      "outputs": [
        {
          "output_type": "stream",
          "name": "stdout",
          "text": [
            "['Bob' 'Joe' 'Will' 'Bob' 'Will' 'Joe' 'Joe']\n",
            "[[  4   7]\n",
            " [  0   2]\n",
            " [ -5   6]\n",
            " [  0   0]\n",
            " [  1   2]\n",
            " [-12  -4]\n",
            " [  3   4]]\n",
            "\n",
            "[ True False False  True False False False]\n",
            "[[4 7]\n",
            " [0 0]]\n"
          ]
        }
      ]
    },
    {
      "cell_type": "markdown",
      "source": [
        "The Boolean array must be of the same length as the array axis it’s indexing. You can even mix and match Boolean arrays with slices or integers (or sequences of integers; more on this later)."
      ],
      "metadata": {
        "id": "oQlmQommJP5h"
      }
    },
    {
      "cell_type": "code",
      "source": [
        "data[names == \"Bob\", 1:]"
      ],
      "metadata": {
        "colab": {
          "base_uri": "https://localhost:8080/"
        },
        "id": "ROnEv3q9HCou",
        "outputId": "ca1045b7-b463-4e4b-b884-ba170b2238c0"
      },
      "execution_count": null,
      "outputs": [
        {
          "output_type": "execute_result",
          "data": {
            "text/plain": [
              "array([[7],\n",
              "       [0]])"
            ]
          },
          "metadata": {},
          "execution_count": 34
        }
      ]
    },
    {
      "cell_type": "code",
      "source": [
        "data[names == \"Bob\", 1]"
      ],
      "metadata": {
        "colab": {
          "base_uri": "https://localhost:8080/"
        },
        "id": "RKQ60wZCJX2z",
        "outputId": "de57b373-e8c1-46a6-cd0d-84f778aa28be"
      },
      "execution_count": null,
      "outputs": [
        {
          "output_type": "execute_result",
          "data": {
            "text/plain": [
              "array([7, 0])"
            ]
          },
          "metadata": {},
          "execution_count": 35
        }
      ]
    },
    {
      "cell_type": "code",
      "source": [
        "# To select everything but \"Bob\" you can either use != or negate the condition\n",
        "# using ~:\n",
        "\n",
        "print(names != \"Bob\")\n",
        "print(data[~(names == \"Bob\")])\n",
        "\n",
        "# The ~ operator can be useful when you want to invert a Boolean array referenced by a variable\n",
        "\n",
        "cond = names == \"Bob\"\n",
        "print(data[~cond])"
      ],
      "metadata": {
        "colab": {
          "base_uri": "https://localhost:8080/"
        },
        "id": "knR-kzN5KFh7",
        "outputId": "2c6cdb6c-2b00-4daa-cf63-8314350f0f1f"
      },
      "execution_count": null,
      "outputs": [
        {
          "output_type": "stream",
          "name": "stdout",
          "text": [
            "[False  True  True False  True  True  True]\n",
            "[[  0   2]\n",
            " [ -5   6]\n",
            " [  1   2]\n",
            " [-12  -4]\n",
            " [  3   4]]\n",
            "[[  0   2]\n",
            " [ -5   6]\n",
            " [  1   2]\n",
            " [-12  -4]\n",
            " [  3   4]]\n"
          ]
        }
      ]
    },
    {
      "cell_type": "code",
      "source": [
        "# To select two of the three names to combine multiple Boolean conditions, use Boolean arithmetic operators like & (and) and | (or)\n",
        "\n",
        "mask = (names == \"Bob\") | (names == \"Will\")\n",
        "print(mask)\n",
        "print(data[mask])"
      ],
      "metadata": {
        "colab": {
          "base_uri": "https://localhost:8080/"
        },
        "id": "10JbShBKKzaV",
        "outputId": "50fbaeef-6bda-4903-effb-ed959f07df4c"
      },
      "execution_count": null,
      "outputs": [
        {
          "output_type": "stream",
          "name": "stdout",
          "text": [
            "[ True False  True  True  True False False]\n",
            "[[ 4  7]\n",
            " [-5  6]\n",
            " [ 0  0]\n",
            " [ 1  2]]\n"
          ]
        }
      ]
    },
    {
      "cell_type": "markdown",
      "source": [
        "Selecting data from an array by Boolean indexing and assigning the result to a\n",
        "new variable always creates a copy of the data, even if the returned array is unchanged.\n",
        "\n",
        "The Python keywords and and or do not work with Boolean arrays. Use & (and) and | (or) instead.\n",
        "\n"
      ],
      "metadata": {
        "id": "1V05OTcFK-Fg"
      }
    },
    {
      "cell_type": "code",
      "source": [
        "print(data)\n",
        "data[data < 0] = 0\n",
        "print(data)\n",
        "\n",
        "data[names != \"Joe\"] = 7\n",
        "print(data)"
      ],
      "metadata": {
        "colab": {
          "base_uri": "https://localhost:8080/"
        },
        "id": "F0Gta8ZTK-jy",
        "outputId": "7d360730-d819-447b-9b9f-bf00ac0f2ac0"
      },
      "execution_count": null,
      "outputs": [
        {
          "output_type": "stream",
          "name": "stdout",
          "text": [
            "[[  4   7]\n",
            " [  0   2]\n",
            " [ -5   6]\n",
            " [  0   0]\n",
            " [  1   2]\n",
            " [-12  -4]\n",
            " [  3   4]]\n",
            "[[4 7]\n",
            " [0 2]\n",
            " [0 6]\n",
            " [0 0]\n",
            " [1 2]\n",
            " [0 0]\n",
            " [3 4]]\n",
            "[[7 7]\n",
            " [0 2]\n",
            " [7 7]\n",
            " [7 7]\n",
            " [7 7]\n",
            " [0 0]\n",
            " [3 4]]\n"
          ]
        }
      ]
    },
    {
      "cell_type": "markdown",
      "source": [
        "## **Transposing Arrays and Swapping Axes**"
      ],
      "metadata": {
        "id": "CYxB-mQkMDQ4"
      }
    },
    {
      "cell_type": "code",
      "source": [
        "arr = np.arange(15).reshape((3, 5))\n",
        "print(arr)"
      ],
      "metadata": {
        "colab": {
          "base_uri": "https://localhost:8080/"
        },
        "id": "TBc---5rME87",
        "outputId": "de2b1b0f-329c-421e-fc15-9659cfc821b1"
      },
      "execution_count": null,
      "outputs": [
        {
          "output_type": "stream",
          "name": "stdout",
          "text": [
            "[[ 0  1  2  3  4]\n",
            " [ 5  6  7  8  9]\n",
            " [10 11 12 13 14]]\n"
          ]
        }
      ]
    },
    {
      "cell_type": "code",
      "source": [
        "print(arr.T)"
      ],
      "metadata": {
        "colab": {
          "base_uri": "https://localhost:8080/"
        },
        "id": "r8l6mVCYMNKQ",
        "outputId": "14b1d5c2-a55c-46cb-98c1-257733bd28fe"
      },
      "execution_count": null,
      "outputs": [
        {
          "output_type": "stream",
          "name": "stdout",
          "text": [
            "[[ 0  5 10]\n",
            " [ 1  6 11]\n",
            " [ 2  7 12]\n",
            " [ 3  8 13]\n",
            " [ 4  9 14]]\n"
          ]
        }
      ]
    },
    {
      "cell_type": "markdown",
      "source": [
        "When doing matrix computations, you may do this very often—for example, when computing the inner matrix product using numpy.dot"
      ],
      "metadata": {
        "id": "roJ4iZsdMStL"
      }
    },
    {
      "cell_type": "code",
      "source": [
        "arr = np.array([[0, 1, 0], [1, 2, -2], [6, 3, 2], [-1, 0, -1], [1, 0, 1]])\n",
        "\n",
        "print(arr)\n",
        "print('-----------------')\n",
        "print(np.dot(arr.T, arr))"
      ],
      "metadata": {
        "colab": {
          "base_uri": "https://localhost:8080/"
        },
        "id": "EKTCAGzZMTto",
        "outputId": "dc2305bb-3037-4747-dbf6-ca9c455889eb"
      },
      "execution_count": null,
      "outputs": [
        {
          "output_type": "stream",
          "name": "stdout",
          "text": [
            "[[ 0  1  0]\n",
            " [ 1  2 -2]\n",
            " [ 6  3  2]\n",
            " [-1  0 -1]\n",
            " [ 1  0  1]]\n",
            "-----------------\n",
            "[[39 20 12]\n",
            " [20 14  2]\n",
            " [12  2 10]]\n"
          ]
        }
      ]
    },
    {
      "cell_type": "markdown",
      "source": [
        "The @ infix operator is another way to do matrix multiplication"
      ],
      "metadata": {
        "id": "eabsetofMogp"
      }
    },
    {
      "cell_type": "code",
      "source": [
        "arr.T @ arr"
      ],
      "metadata": {
        "colab": {
          "base_uri": "https://localhost:8080/"
        },
        "id": "WQ5ikQRaMpZ1",
        "outputId": "a8f29a37-03cd-4551-b410-c450936d55cd"
      },
      "execution_count": null,
      "outputs": [
        {
          "output_type": "execute_result",
          "data": {
            "text/plain": [
              "array([[39, 20, 12],\n",
              "       [20, 14,  2],\n",
              "       [12,  2, 10]])"
            ]
          },
          "metadata": {},
          "execution_count": 42
        }
      ]
    },
    {
      "cell_type": "markdown",
      "source": [
        "Simple transposing with .T is a special case of swapping axes. ndarray has the method swapaxes, which takes a pair of axis numbers and switches the indicated axes to rearrange the data"
      ],
      "metadata": {
        "id": "fF20DB8ZNCO4"
      }
    },
    {
      "cell_type": "code",
      "source": [
        "arr"
      ],
      "metadata": {
        "colab": {
          "base_uri": "https://localhost:8080/"
        },
        "id": "20ja328ENC3a",
        "outputId": "dc04126a-d9b0-4b6c-aa2e-779b1f99f1b8"
      },
      "execution_count": null,
      "outputs": [
        {
          "output_type": "execute_result",
          "data": {
            "text/plain": [
              "array([[ 0,  1,  0],\n",
              "       [ 1,  2, -2],\n",
              "       [ 6,  3,  2],\n",
              "       [-1,  0, -1],\n",
              "       [ 1,  0,  1]])"
            ]
          },
          "metadata": {},
          "execution_count": 43
        }
      ]
    },
    {
      "cell_type": "code",
      "source": [
        "arr.swapaxes(0, 1)\n",
        "\n",
        "# swapaxes similarly returns a view on the data without making a copy"
      ],
      "metadata": {
        "colab": {
          "base_uri": "https://localhost:8080/"
        },
        "id": "b2yzvLWsNH-P",
        "outputId": "e128db23-c348-4631-b630-ca6bac1b1abf"
      },
      "execution_count": null,
      "outputs": [
        {
          "output_type": "execute_result",
          "data": {
            "text/plain": [
              "array([[ 0,  1,  6, -1,  1],\n",
              "       [ 1,  2,  3,  0,  0],\n",
              "       [ 0, -2,  2, -1,  1]])"
            ]
          },
          "metadata": {},
          "execution_count": 44
        }
      ]
    },
    {
      "cell_type": "markdown",
      "source": [
        "## **Pseudorandom Number Generation**\n",
        "The numpy.random module supplements the built-in Python random module with functions for efficiently generating whole arrays of sample values from many kinds of probability distributions."
      ],
      "metadata": {
        "id": "hBdbFNA71wpC"
      }
    },
    {
      "cell_type": "code",
      "source": [
        "samples = np.random.standard_normal(size=(4, 4))\n",
        "samples"
      ],
      "metadata": {
        "colab": {
          "base_uri": "https://localhost:8080/"
        },
        "id": "RtFTy62x1zfY",
        "outputId": "fb6b3d43-533a-43be-ace7-9910a6775c68"
      },
      "execution_count": null,
      "outputs": [
        {
          "output_type": "execute_result",
          "data": {
            "text/plain": [
              "array([[-0.28211506,  0.64555112, -1.07014992, -1.8003429 ],\n",
              "       [-0.37414587,  1.36826528, -0.87534142, -0.41097224],\n",
              "       [-0.69931644, -0.55170371, -2.76348711, -0.31532251],\n",
              "       [ 0.43032908, -0.87828508,  0.58605502,  1.28460873]])"
            ]
          },
          "metadata": {},
          "execution_count": 45
        }
      ]
    },
    {
      "cell_type": "markdown",
      "source": [
        "Python’s built-in random module, by contrast, samples only one value at a time. As you can see from this benchmark, numpy.random is well over an order of magnitude faster for generating very large samples:"
      ],
      "metadata": {
        "id": "tu6tGy5S3Aba"
      }
    },
    {
      "cell_type": "code",
      "source": [
        "from random import normalvariate\n",
        "\n",
        "N = 1_000_000\n",
        "\n",
        "%timeit samples = [normalvariate(0, 1) for _ in range(N)]\n",
        "\n",
        "%timeit np.random.standard_normal(N)"
      ],
      "metadata": {
        "colab": {
          "base_uri": "https://localhost:8080/"
        },
        "id": "hNy_8G943BDA",
        "outputId": "a9986624-300e-4f5e-83ee-bb81730b9423"
      },
      "execution_count": null,
      "outputs": [
        {
          "output_type": "stream",
          "name": "stdout",
          "text": [
            "979 ms ± 279 ms per loop (mean ± std. dev. of 7 runs, 1 loop each)\n",
            "28.9 ms ± 581 µs per loop (mean ± std. dev. of 7 runs, 10 loops each)\n"
          ]
        }
      ]
    },
    {
      "cell_type": "code",
      "source": [
        "# These random numbers are not truly random (rather, pseudorandom) but instead\n",
        "# are generated by a configurable random number generator that determines\n",
        "# deterministically what values are created. Functions like\n",
        "# numpy.random.standard_normal use the numpy.random module’s default random\n",
        "# number generator, but your code can be configured to use an explicit generator\n",
        "\n",
        "rng = np.random.default_rng(seed=12345)\n",
        "\n",
        "data = rng.standard_normal((2, 3))\n",
        "\n",
        "data\n",
        "\n"
      ],
      "metadata": {
        "colab": {
          "base_uri": "https://localhost:8080/"
        },
        "id": "FHAUtSpG3VKW",
        "outputId": "5c509446-86c9-401f-b795-53513438a271"
      },
      "execution_count": null,
      "outputs": [
        {
          "output_type": "execute_result",
          "data": {
            "text/plain": [
              "array([[-1.42382504,  1.26372846, -0.87066174],\n",
              "       [-0.25917323, -0.07534331, -0.74088465]])"
            ]
          },
          "metadata": {},
          "execution_count": 47
        }
      ]
    },
    {
      "cell_type": "markdown",
      "source": [
        "**Method**\tDescription\n",
        "* **permutation**\tReturn a random permutation of a sequence, or return a permuted range\n",
        "* **shuffle**\tRandomly permute a sequence in place\n",
        "* **uniform**\tDraw samples from a uniform distribution\n",
        "* **integers**\tDraw random integers from a given low-to-high range\n",
        "* **standard_normal**\tDraw samples from a normal distribution with mean 0 and standard deviation 1\n",
        "* **binomial**\tDraw samples from a binomial distribution\n",
        "* **normal**\tDraw samples from a normal (Gaussian) distribution\n",
        "* **beta**\tDraw samples from a beta distribution\n",
        "* **chisquare**\tDraw samples from a chi-square distribution\n",
        "* **gamma**\tDraw samples from a gamma distribution\n",
        "* **uniform**\tDraw samples from a uniform [0, 1) distribution"
      ],
      "metadata": {
        "id": "BZsWU5Ra33Zs"
      }
    },
    {
      "cell_type": "markdown",
      "source": [
        "## **Universal Functions: Fast Element-Wise Array Functions**\n",
        "\n",
        "A universal function, or ufunc, is a function that performs element-wise operations on data in ndarrays. You can think of them as fast vectorized wrappers for simple functions that take one or more scalar values and produce one or more scalar results."
      ],
      "metadata": {
        "id": "h9UcqQiM4S03"
      }
    },
    {
      "cell_type": "code",
      "source": [
        "arr = np.arange(10)\n",
        "print(arr)\n",
        "print(np.sqrt(arr))"
      ],
      "metadata": {
        "colab": {
          "base_uri": "https://localhost:8080/"
        },
        "id": "mj8LP85d4ONJ",
        "outputId": "76b5aff3-a655-490d-9444-a245b6bedc07"
      },
      "execution_count": null,
      "outputs": [
        {
          "output_type": "stream",
          "name": "stdout",
          "text": [
            "[0 1 2 3 4 5 6 7 8 9]\n",
            "[0.         1.         1.41421356 1.73205081 2.         2.23606798\n",
            " 2.44948974 2.64575131 2.82842712 3.        ]\n"
          ]
        }
      ]
    },
    {
      "cell_type": "code",
      "source": [
        "import matplotlib.pyplot as plt\n",
        "\n",
        "plt.plot(arr ,np.sqrt(arr))\n",
        "plt.show()"
      ],
      "metadata": {
        "colab": {
          "base_uri": "https://localhost:8080/",
          "height": 430
        },
        "id": "jXZKEO5r6BzS",
        "outputId": "cc3e1dcb-b3f5-46de-a75d-8a9c5c257849"
      },
      "execution_count": null,
      "outputs": [
        {
          "output_type": "display_data",
          "data": {
            "text/plain": [
              "<Figure size 640x480 with 1 Axes>"
            ],
            "image/png": "[encoded data removed]"
          },
          "metadata": {}
        }
      ]
    },
    {
      "cell_type": "code",
      "source": [
        "np.exp(arr)"
      ],
      "metadata": {
        "colab": {
          "base_uri": "https://localhost:8080/"
        },
        "id": "0X8f4z_v6xFy",
        "outputId": "7d5e53a5-ef60-4f6f-acac-17a50dd2b7f7"
      },
      "execution_count": null,
      "outputs": [
        {
          "output_type": "execute_result",
          "data": {
            "text/plain": [
              "array([1.00000000e+00, 2.71828183e+00, 7.38905610e+00, 2.00855369e+01,\n",
              "       5.45981500e+01, 1.48413159e+02, 4.03428793e+02, 1.09663316e+03,\n",
              "       2.98095799e+03, 8.10308393e+03])"
            ]
          },
          "metadata": {},
          "execution_count": 50
        }
      ]
    },
    {
      "cell_type": "code",
      "source": [
        "plt.plot(arr ,np.exp(arr))\n",
        "plt.show()"
      ],
      "metadata": {
        "colab": {
          "base_uri": "https://localhost:8080/",
          "height": 430
        },
        "id": "QA4W8y4q60Zk",
        "outputId": "8f99a227-bdd9-4fb7-cb2e-6706b4cecff0"
      },
      "execution_count": null,
      "outputs": [
        {
          "output_type": "display_data",
          "data": {
            "text/plain": [
              "<Figure size 640x480 with 1 Axes>"
            ],
            "image/png": "[encoded data removed]"
          },
          "metadata": {}
        }
      ]
    },
    {
      "cell_type": "markdown",
      "source": [
        "These are referred to as unary ufuncs. Others, such as numpy.add or numpy.maximum, take two arrays (thus, binary ufuncs) and return a single array as the result"
      ],
      "metadata": {
        "id": "ZVyP1YF06-5P"
      }
    },
    {
      "cell_type": "code",
      "source": [
        "x = rng.standard_normal(8)\n",
        "y = rng.standard_normal(8)\n",
        "\n",
        "print(x)\n",
        "print(y)"
      ],
      "metadata": {
        "colab": {
          "base_uri": "https://localhost:8080/"
        },
        "id": "3-pORSSW65nP",
        "outputId": "38f1047c-1588-470c-a366-a52b4e4f8e4f"
      },
      "execution_count": null,
      "outputs": [
        {
          "output_type": "stream",
          "name": "stdout",
          "text": [
            "[-1.3677927   0.6488928   0.36105811 -1.95286306  2.34740965  0.96849691\n",
            " -0.75938718  0.90219827]\n",
            "[-0.46695317 -0.06068952  0.78884434 -1.25666813  0.57585751  1.39897899\n",
            "  1.32229806 -0.29969852]\n"
          ]
        }
      ]
    },
    {
      "cell_type": "code",
      "source": [
        "np.maximum(x, y)"
      ],
      "metadata": {
        "colab": {
          "base_uri": "https://localhost:8080/"
        },
        "id": "IixxHeCX7LJX",
        "outputId": "24ba924f-ca01-43d3-8978-9cdc21f5c8f7"
      },
      "execution_count": null,
      "outputs": [
        {
          "output_type": "execute_result",
          "data": {
            "text/plain": [
              "array([-0.46695317,  0.6488928 ,  0.78884434, -1.25666813,  2.34740965,\n",
              "        1.39897899,  1.32229806,  0.90219827])"
            ]
          },
          "metadata": {},
          "execution_count": 53
        }
      ]
    },
    {
      "cell_type": "markdown",
      "source": [
        "While not common, a ufunc can return multiple arrays. numpy.modf is one example: a vectorized version of the built-in Python math.modf, it returns the fractional and integral parts of a floating-point array"
      ],
      "metadata": {
        "id": "mfeyMZ5L8ok6"
      }
    },
    {
      "cell_type": "code",
      "source": [
        "arr = rng.standard_normal(7) * 5\n",
        "print(arr)"
      ],
      "metadata": {
        "colab": {
          "base_uri": "https://localhost:8080/"
        },
        "id": "pPFe2YgP8pGF",
        "outputId": "216fe17f-7967-4865-ddce-d54f884eaa4f"
      },
      "execution_count": null,
      "outputs": [
        {
          "output_type": "stream",
          "name": "stdout",
          "text": [
            "[ 4.51459671 -8.10791367 -0.7909463   2.24741966 -6.71800536 -0.40843795\n",
            "  8.62369966]\n"
          ]
        }
      ]
    },
    {
      "cell_type": "code",
      "source": [
        "remainder, whole_part = np.modf(arr)\n",
        "\n",
        "print(remainder)\n",
        "print(whole_part)"
      ],
      "metadata": {
        "colab": {
          "base_uri": "https://localhost:8080/"
        },
        "id": "fykutgTC8uxR",
        "outputId": "8215b259-8ae6-42bc-d567-6b0125f548cf"
      },
      "execution_count": null,
      "outputs": [
        {
          "output_type": "stream",
          "name": "stdout",
          "text": [
            "[ 0.51459671 -0.10791367 -0.7909463   0.24741966 -0.71800536 -0.40843795\n",
            "  0.62369966]\n",
            "[ 4. -8. -0.  2. -6. -0.  8.]\n"
          ]
        }
      ]
    },
    {
      "cell_type": "code",
      "source": [
        "out = np.zeros_like(arr)\n",
        "\n",
        "# Ufuncs accept an optional out argument that allows them to assign their results into an existing array rather than create a new one\n",
        "np.add(arr, 1, out=out)\n",
        "print(out)"
      ],
      "metadata": {
        "colab": {
          "base_uri": "https://localhost:8080/"
        },
        "id": "iS7tVt2y9A5U",
        "outputId": "03dffef8-11bc-4d07-d3ca-e878dcc5e901"
      },
      "execution_count": null,
      "outputs": [
        {
          "output_type": "stream",
          "name": "stdout",
          "text": [
            "[ 5.51459671 -7.10791367  0.2090537   3.24741966 -5.71800536  0.59156205\n",
            "  9.62369966]\n"
          ]
        }
      ]
    },
    {
      "cell_type": "markdown",
      "source": [
        "## **Array-Oriented Programming with Arrays**"
      ],
      "metadata": {
        "id": "tQQ__kieAaSV"
      }
    },
    {
      "cell_type": "markdown",
      "source": [
        "Using NumPy arrays enables you to express many kinds of data processing tasks as concise array expressions that might otherwise require writing loops. This practice of replacing explicit loops with array expressions is referred to by some people as vectorization. In general, vectorized array operations will usually be significantly faster than their pure Python equivalents, with the biggest impact in any kind of numerical computations.\n",
        "\n",
        "As a simple example, suppose we wished to evaluate the function sqrt(x^2 + y^2) across a regular grid of values. The numpy.meshgrid function takes two one-dimensional arrays and produces two two-dimensional matrices corresponding to all pairs of (x, y) in the two arrays:"
      ],
      "metadata": {
        "id": "D9CMtEA8AozD"
      }
    },
    {
      "cell_type": "code",
      "source": [
        "points = np.arange(-5, 5, 0.01) # 100 equally spaced points\n",
        "xs, ys = np.meshgrid(points, points)\n",
        "ys"
      ],
      "metadata": {
        "colab": {
          "base_uri": "https://localhost:8080/"
        },
        "id": "HtSPvmCyAbsF",
        "outputId": "185cfae5-3399-4411-a240-90d9f2e0703d"
      },
      "execution_count": null,
      "outputs": [
        {
          "output_type": "execute_result",
          "data": {
            "text/plain": [
              "array([[-5.  , -5.  , -5.  , ..., -5.  , -5.  , -5.  ],\n",
              "       [-4.99, -4.99, -4.99, ..., -4.99, -4.99, -4.99],\n",
              "       [-4.98, -4.98, -4.98, ..., -4.98, -4.98, -4.98],\n",
              "       ...,\n",
              "       [ 4.97,  4.97,  4.97, ...,  4.97,  4.97,  4.97],\n",
              "       [ 4.98,  4.98,  4.98, ...,  4.98,  4.98,  4.98],\n",
              "       [ 4.99,  4.99,  4.99, ...,  4.99,  4.99,  4.99]])"
            ]
          },
          "metadata": {},
          "execution_count": 57
        }
      ]
    },
    {
      "cell_type": "markdown",
      "source": [
        "Now, evaluating the function is a matter of writing the same expression you would write with two points"
      ],
      "metadata": {
        "id": "vse6g97cBFle"
      }
    },
    {
      "cell_type": "code",
      "source": [
        "z = np.sqrt(xs ** 2 + ys ** 2)\n",
        "z"
      ],
      "metadata": {
        "colab": {
          "base_uri": "https://localhost:8080/"
        },
        "id": "w5zHQHUfA0-w",
        "outputId": "1d48c5d1-fab3-4b51-eb5c-55472b48cbdf"
      },
      "execution_count": null,
      "outputs": [
        {
          "output_type": "execute_result",
          "data": {
            "text/plain": [
              "array([[7.07106781, 7.06400028, 7.05693985, ..., 7.04988652, 7.05693985,\n",
              "        7.06400028],\n",
              "       [7.06400028, 7.05692568, 7.04985815, ..., 7.04279774, 7.04985815,\n",
              "        7.05692568],\n",
              "       [7.05693985, 7.04985815, 7.04278354, ..., 7.03571603, 7.04278354,\n",
              "        7.04985815],\n",
              "       ...,\n",
              "       [7.04988652, 7.04279774, 7.03571603, ..., 7.0286414 , 7.03571603,\n",
              "        7.04279774],\n",
              "       [7.05693985, 7.04985815, 7.04278354, ..., 7.03571603, 7.04278354,\n",
              "        7.04985815],\n",
              "       [7.06400028, 7.05692568, 7.04985815, ..., 7.04279774, 7.04985815,\n",
              "        7.05692568]])"
            ]
          },
          "metadata": {},
          "execution_count": 58
        }
      ]
    },
    {
      "cell_type": "code",
      "source": [
        "import matplotlib.pyplot as plt\n",
        "\n",
        "plt.imshow(z, cmap=plt.cm.gray, extent=[-5, 5, -5, 5])\n",
        "plt.colorbar()\n",
        "plt.title(\"Image plot of $\\sqrt{x^2 + y^2}$ for a grid of values\")"
      ],
      "metadata": {
        "colab": {
          "base_uri": "https://localhost:8080/",
          "height": 479
        },
        "id": "anmO6so8A0Ys",
        "outputId": "c83cbe2c-f918-4b2d-fc51-91410ec75061"
      },
      "execution_count": null,
      "outputs": [
        {
          "output_type": "execute_result",
          "data": {
            "text/plain": [
              "Text(0.5, 1.0, 'Image plot of $\\\\sqrt{x^2 + y^2}$ for a grid of values')"
            ]
          },
          "metadata": {},
          "execution_count": 59
        },
        {
          "output_type": "display_data",
          "data": {
            "text/plain": [
              "<Figure size 640x480 with 2 Axes>"
            ],
            "image/png": "[encoded data removed]"
          },
          "metadata": {}
        }
      ]
    },
    {
      "cell_type": "markdown",
      "source": [
        "## **Expressing Conditional Logic as Array Operations**\n",
        "\n",
        "The numpy.where function is a vectorized version of the ternary expression x if condition else y. Suppose we had a Boolean array and two arrays of values"
      ],
      "metadata": {
        "id": "EBR8NY6uB8Ly"
      }
    },
    {
      "cell_type": "code",
      "source": [
        "xarr = np.array([1.1, 1.2, 1.3, 1.4, 1.5])\n",
        "yarr = np.array([2.1, 2.2, 2.3, 2.4, 2.5])\n",
        "cond = np.array([True, False, True, True, False])"
      ],
      "metadata": {
        "id": "CvBu6kR6B62d"
      },
      "execution_count": null,
      "outputs": []
    },
    {
      "cell_type": "markdown",
      "source": [
        "Suppose we wanted to take a value from xarr whenever the corresponding value in cond is True, and otherwise take the value from yarr. A list comprehension doing this might look like:"
      ],
      "metadata": {
        "id": "VuyQ40MvCMqV"
      }
    },
    {
      "cell_type": "code",
      "source": [
        "result = [(x if c else y)\n",
        "           for x, y, c in zip(xarr, yarr, cond)]\n",
        "result"
      ],
      "metadata": {
        "colab": {
          "base_uri": "https://localhost:8080/"
        },
        "id": "VbqsITwIBvu6",
        "outputId": "a1e86772-8611-451e-e59b-32159e92bd73"
      },
      "execution_count": null,
      "outputs": [
        {
          "output_type": "execute_result",
          "data": {
            "text/plain": [
              "[1.1, 2.2, 1.3, 1.4, 2.5]"
            ]
          },
          "metadata": {},
          "execution_count": 61
        }
      ]
    },
    {
      "cell_type": "markdown",
      "source": [
        "This has multiple problems. First, it will not be very fast for large arrays (because all the work is being done in interpreted Python code). Second, it will not work with multidimensional arrays. With numpy.where you can do this with a single function call"
      ],
      "metadata": {
        "id": "5IoShEf7Ce_U"
      }
    },
    {
      "cell_type": "code",
      "source": [
        "result = np.where(cond, xarr, yarr)\n",
        "result"
      ],
      "metadata": {
        "colab": {
          "base_uri": "https://localhost:8080/"
        },
        "id": "MafGIHFkCgGN",
        "outputId": "15f56e16-4179-49c7-b0bf-01d015093241"
      },
      "execution_count": null,
      "outputs": [
        {
          "output_type": "execute_result",
          "data": {
            "text/plain": [
              "array([1.1, 2.2, 1.3, 1.4, 2.5])"
            ]
          },
          "metadata": {},
          "execution_count": 62
        }
      ]
    },
    {
      "cell_type": "code",
      "source": [
        "arr = rng.standard_normal((4, 4))\n",
        "print(arr)\n",
        "print(arr > 0)\n",
        "print(np.where(arr > 0, 2, -2))"
      ],
      "metadata": {
        "colab": {
          "base_uri": "https://localhost:8080/"
        },
        "id": "vaVXFuxEPWEc",
        "outputId": "7ea611b2-a251-4f32-cbd1-e221f6f32fd8"
      },
      "execution_count": null,
      "outputs": [
        {
          "output_type": "stream",
          "name": "stdout",
          "text": [
            "[[ 2.61815943  0.77736134  0.8286332  -0.95898831]\n",
            " [-1.20938829 -1.41229201  0.54154683  0.7519394 ]\n",
            " [-0.65876032 -1.22867499  0.25755777  0.31290292]\n",
            " [-0.13081169  1.26998312 -0.09296246 -0.06615089]]\n",
            "[[ True  True  True False]\n",
            " [False False  True  True]\n",
            " [False False  True  True]\n",
            " [False  True False False]]\n",
            "[[ 2  2  2 -2]\n",
            " [-2 -2  2  2]\n",
            " [-2 -2  2  2]\n",
            " [-2  2 -2 -2]]\n"
          ]
        }
      ]
    },
    {
      "cell_type": "markdown",
      "source": [
        "## **Mathematical and Statistical Methods**\n",
        "\n",
        "A set of mathematical functions that compute statistics about an entire array or about the data along an axis are accessible as methods of the array class. You can use aggregations (sometimes called reductions) like sum, mean, and std (standard deviation) either by calling the array instance method or using the top-level NumPy function. When you use the NumPy function, like numpy.sum, you have to pass the array you want to aggregate as the first argument."
      ],
      "metadata": {
        "id": "p75IsUT0QELW"
      }
    },
    {
      "cell_type": "code",
      "source": [
        "# Here I generate some normally distributed random data and compute some aggregate statistics:\n",
        "arr = rng.standard_normal((5, 4))\n",
        "print(arr)"
      ],
      "metadata": {
        "colab": {
          "base_uri": "https://localhost:8080/"
        },
        "id": "nYKOKZCpQGp1",
        "outputId": "c4ead212-3eb7-4cad-e80a-25de01b12c61"
      },
      "execution_count": null,
      "outputs": [
        {
          "output_type": "stream",
          "name": "stdout",
          "text": [
            "[[-1.10821447  0.13595685  1.34707776  0.06114402]\n",
            " [ 0.0709146   0.43365454  0.27748366  0.53025239]\n",
            " [ 0.53672097  0.61835001 -0.79501746  0.30003095]\n",
            " [-1.60270159  0.26679883 -1.26162378 -0.07127081]\n",
            " [ 0.47404973 -0.41485376  0.0977165  -1.64041784]]\n"
          ]
        }
      ]
    },
    {
      "cell_type": "code",
      "source": [
        "arr.mean()"
      ],
      "metadata": {
        "colab": {
          "base_uri": "https://localhost:8080/"
        },
        "id": "JIJIbCstQj37",
        "outputId": "3d6339fc-b9fe-45d7-e5b1-0e7266c676cf"
      },
      "execution_count": null,
      "outputs": [
        {
          "output_type": "execute_result",
          "data": {
            "text/plain": [
              "-0.08719744457434529"
            ]
          },
          "metadata": {},
          "execution_count": 65
        }
      ]
    },
    {
      "cell_type": "code",
      "source": [
        "np.mean(arr)"
      ],
      "metadata": {
        "colab": {
          "base_uri": "https://localhost:8080/"
        },
        "id": "gfsO6t6jQptF",
        "outputId": "9831850a-c96c-4aaa-86fe-42b5b3a920a8"
      },
      "execution_count": null,
      "outputs": [
        {
          "output_type": "execute_result",
          "data": {
            "text/plain": [
              "-0.08719744457434529"
            ]
          },
          "metadata": {},
          "execution_count": 66
        }
      ]
    },
    {
      "cell_type": "code",
      "source": [
        "arr.sum()"
      ],
      "metadata": {
        "colab": {
          "base_uri": "https://localhost:8080/"
        },
        "id": "dXJwEuArQqpq",
        "outputId": "38f0cd70-a48c-436d-e43a-749a723ef5f1"
      },
      "execution_count": null,
      "outputs": [
        {
          "output_type": "execute_result",
          "data": {
            "text/plain": [
              "-1.743948891486906"
            ]
          },
          "metadata": {},
          "execution_count": 67
        }
      ]
    },
    {
      "cell_type": "markdown",
      "source": [
        "Functions like mean and sum take an optional axis argument that computes the statistic over the given axis, resulting in an array with one less dimension.\n",
        "\n",
        "[seems to be the opposite]\n",
        "Here, arr.mean(axis=1) means “compute mean across the columns,” where arr.sum(axis=0) means “compute sum down the rows.”"
      ],
      "metadata": {
        "id": "o0D7QW1tQxqS"
      }
    },
    {
      "cell_type": "code",
      "source": [
        "arr.mean(axis=1)"
      ],
      "metadata": {
        "colab": {
          "base_uri": "https://localhost:8080/"
        },
        "id": "zNcIShNCQsgX",
        "outputId": "eb1745fb-8c87-4b88-8914-30da24d84ee6"
      },
      "execution_count": null,
      "outputs": [
        {
          "output_type": "execute_result",
          "data": {
            "text/plain": [
              "array([ 0.10899104,  0.3280763 ,  0.16502112, -0.66719934, -0.37087634])"
            ]
          },
          "metadata": {},
          "execution_count": 68
        }
      ]
    },
    {
      "cell_type": "code",
      "source": [
        "arr.mean(axis=0)"
      ],
      "metadata": {
        "colab": {
          "base_uri": "https://localhost:8080/"
        },
        "id": "Wt5P0IMfTPUq",
        "outputId": "6b3c6d34-de4b-4982-fc08-9edfa6c0c125"
      },
      "execution_count": null,
      "outputs": [
        {
          "output_type": "execute_result",
          "data": {
            "text/plain": [
              "array([-0.32584615,  0.20798129, -0.06687266, -0.16405226])"
            ]
          },
          "metadata": {},
          "execution_count": 69
        }
      ]
    },
    {
      "cell_type": "code",
      "source": [
        "t = np.array([[1, 2, 3, 4, 5],\n",
        "              [1, 2, 3, 4, 5]])\n",
        "\n",
        "print(t.sum(axis=1))\n",
        "print(t.sum(axis=0))"
      ],
      "metadata": {
        "colab": {
          "base_uri": "https://localhost:8080/"
        },
        "id": "IAM_yha5RFN8",
        "outputId": "daf67d7b-9dff-48b7-8102-caea343a352d"
      },
      "execution_count": null,
      "outputs": [
        {
          "output_type": "stream",
          "name": "stdout",
          "text": [
            "[15 15]\n",
            "[ 2  4  6  8 10]\n"
          ]
        }
      ]
    },
    {
      "cell_type": "code",
      "source": [
        "t"
      ],
      "metadata": {
        "colab": {
          "base_uri": "https://localhost:8080/"
        },
        "id": "NqVRb73MS5Yl",
        "outputId": "d19f999c-03ca-47d7-cd33-f56a35370032"
      },
      "execution_count": null,
      "outputs": [
        {
          "output_type": "execute_result",
          "data": {
            "text/plain": [
              "array([[1, 2, 3, 4, 5],\n",
              "       [1, 2, 3, 4, 5]])"
            ]
          },
          "metadata": {},
          "execution_count": 71
        }
      ]
    },
    {
      "cell_type": "code",
      "source": [
        "# Other methods like cumsum and cumprod do not aggregate, instead producing an array of the intermediate results:\n",
        "\n",
        "arr = np.array([0, 1, 2, 3, 4, 5, 6, 7])\n",
        "arr.cumsum()"
      ],
      "metadata": {
        "colab": {
          "base_uri": "https://localhost:8080/"
        },
        "id": "rfJhwYgqRqsz",
        "outputId": "d9122ca5-cf26-464c-d28a-ff318a04ddce"
      },
      "execution_count": null,
      "outputs": [
        {
          "output_type": "execute_result",
          "data": {
            "text/plain": [
              "array([ 0,  1,  3,  6, 10, 15, 21, 28])"
            ]
          },
          "metadata": {},
          "execution_count": 72
        }
      ]
    },
    {
      "cell_type": "code",
      "source": [
        "plt.plot(arr.cumsum())"
      ],
      "metadata": {
        "colab": {
          "base_uri": "https://localhost:8080/",
          "height": 447
        },
        "id": "syizx7dvR5xz",
        "outputId": "e0902e5d-9159-4bea-b8ff-56941f5df33c"
      },
      "execution_count": null,
      "outputs": [
        {
          "output_type": "execute_result",
          "data": {
            "text/plain": [
              "[<matplotlib.lines.Line2D at 0x7a63f97781c0>]"
            ]
          },
          "metadata": {},
          "execution_count": 73
        },
        {
          "output_type": "display_data",
          "data": {
            "text/plain": [
              "<Figure size 640x480 with 1 Axes>"
            ],
            "image/png": "[encoded data removed]"
          },
          "metadata": {}
        }
      ]
    },
    {
      "cell_type": "markdown",
      "source": [
        "In multidimensional arrays, accumulation functions like cumsum return an array of the same size but with the partial aggregates computed along the indicated axis according to each lower dimensional slice"
      ],
      "metadata": {
        "id": "GgzvEDmhSQAL"
      }
    },
    {
      "cell_type": "code",
      "source": [
        "arr = np.array([[0, 1, 2], [3, 4, 5], [6, 7, 8]])\n",
        "arr"
      ],
      "metadata": {
        "colab": {
          "base_uri": "https://localhost:8080/"
        },
        "id": "slSK6NX2SKXu",
        "outputId": "c8c4bfcd-1e84-4e92-bd1a-b5391e90e6f4"
      },
      "execution_count": null,
      "outputs": [
        {
          "output_type": "execute_result",
          "data": {
            "text/plain": [
              "array([[0, 1, 2],\n",
              "       [3, 4, 5],\n",
              "       [6, 7, 8]])"
            ]
          },
          "metadata": {},
          "execution_count": 74
        }
      ]
    },
    {
      "cell_type": "code",
      "source": [
        "arr.cumsum()"
      ],
      "metadata": {
        "colab": {
          "base_uri": "https://localhost:8080/"
        },
        "id": "10rykFDcUK7m",
        "outputId": "6376391f-ac15-4b57-9f18-d12259ae9ab6"
      },
      "execution_count": null,
      "outputs": [
        {
          "output_type": "execute_result",
          "data": {
            "text/plain": [
              "array([ 0,  1,  3,  6, 10, 15, 21, 28, 36])"
            ]
          },
          "metadata": {},
          "execution_count": 75
        }
      ]
    },
    {
      "cell_type": "code",
      "source": [
        "arr.cumsum(axis=0)"
      ],
      "metadata": {
        "colab": {
          "base_uri": "https://localhost:8080/"
        },
        "id": "fqaYXRJrSSiB",
        "outputId": "e289e5be-35f1-4ec7-add2-10f67e1544bf"
      },
      "execution_count": null,
      "outputs": [
        {
          "output_type": "execute_result",
          "data": {
            "text/plain": [
              "array([[ 0,  1,  2],\n",
              "       [ 3,  5,  7],\n",
              "       [ 9, 12, 15]])"
            ]
          },
          "metadata": {},
          "execution_count": 76
        }
      ]
    },
    {
      "cell_type": "code",
      "source": [
        "arr.cumsum(axis=1)"
      ],
      "metadata": {
        "colab": {
          "base_uri": "https://localhost:8080/"
        },
        "id": "LxuMaHhSUVAy",
        "outputId": "31d31f4e-c816-4462-ddb4-6d1e93fea5b7"
      },
      "execution_count": null,
      "outputs": [
        {
          "output_type": "execute_result",
          "data": {
            "text/plain": [
              "array([[ 0,  1,  3],\n",
              "       [ 3,  7, 12],\n",
              "       [ 6, 13, 21]])"
            ]
          },
          "metadata": {},
          "execution_count": 77
        }
      ]
    },
    {
      "cell_type": "markdown",
      "source": [
        "## **Methods for Boolean Arrays**"
      ],
      "metadata": {
        "id": "w0H5PoSCZ8Kv"
      }
    },
    {
      "cell_type": "code",
      "source": [
        "arr = rng.standard_normal(100)\n",
        "(arr > 0).sum() # Number of positive values"
      ],
      "metadata": {
        "colab": {
          "base_uri": "https://localhost:8080/"
        },
        "id": "lBFoLoYpZ9fg",
        "outputId": "b990301e-040d-4ab2-9bd8-495436a2b6c4"
      },
      "execution_count": null,
      "outputs": [
        {
          "output_type": "execute_result",
          "data": {
            "text/plain": [
              "48"
            ]
          },
          "metadata": {},
          "execution_count": 78
        }
      ]
    },
    {
      "cell_type": "code",
      "source": [
        "(arr <= 0).sum() # Number of non-positive values"
      ],
      "metadata": {
        "colab": {
          "base_uri": "https://localhost:8080/"
        },
        "id": "Dmee_g63Z_aJ",
        "outputId": "40fa4bff-72a1-43e9-9a41-d941ebfa66bb"
      },
      "execution_count": null,
      "outputs": [
        {
          "output_type": "execute_result",
          "data": {
            "text/plain": [
              "52"
            ]
          },
          "metadata": {},
          "execution_count": 79
        }
      ]
    },
    {
      "cell_type": "markdown",
      "source": [
        "Two additional methods, any and all, are useful especially for Boolean arrays. any tests whether one or more values in an array is True, while all checks if every value is True"
      ],
      "metadata": {
        "id": "tHZ3rjw8aGU2"
      }
    },
    {
      "cell_type": "code",
      "source": [
        "bools = np.array([False, False, True, False])\n",
        "bools.any()"
      ],
      "metadata": {
        "colab": {
          "base_uri": "https://localhost:8080/"
        },
        "id": "BRjSseJWaG2H",
        "outputId": "97efb02d-9b09-41a7-b865-71fda58902fc"
      },
      "execution_count": null,
      "outputs": [
        {
          "output_type": "execute_result",
          "data": {
            "text/plain": [
              "True"
            ]
          },
          "metadata": {},
          "execution_count": 80
        }
      ]
    },
    {
      "cell_type": "code",
      "source": [
        "bools.all()"
      ],
      "metadata": {
        "colab": {
          "base_uri": "https://localhost:8080/"
        },
        "id": "iWq38fqhaMk7",
        "outputId": "6f9e6c64-7eb0-4755-f103-faf25838561d"
      },
      "execution_count": null,
      "outputs": [
        {
          "output_type": "execute_result",
          "data": {
            "text/plain": [
              "False"
            ]
          },
          "metadata": {},
          "execution_count": 81
        }
      ]
    },
    {
      "cell_type": "markdown",
      "source": [
        "## **Sorting**"
      ],
      "metadata": {
        "id": "JO643fDIaQz-"
      }
    },
    {
      "cell_type": "code",
      "source": [
        "rng = np.random.default_rng(seed=12345)\n",
        "arr = rng.standard_normal(6)\n",
        "arr"
      ],
      "metadata": {
        "colab": {
          "base_uri": "https://localhost:8080/"
        },
        "id": "MY9kYJaiaPlC",
        "outputId": "f13f07c5-d12f-4d59-a4f0-9b2e2768e417"
      },
      "execution_count": null,
      "outputs": [
        {
          "output_type": "execute_result",
          "data": {
            "text/plain": [
              "array([-1.42382504,  1.26372846, -0.87066174, -0.25917323, -0.07534331,\n",
              "       -0.74088465])"
            ]
          },
          "metadata": {},
          "execution_count": 82
        }
      ]
    },
    {
      "cell_type": "code",
      "source": [
        "arr.sort()\n",
        "arr"
      ],
      "metadata": {
        "colab": {
          "base_uri": "https://localhost:8080/"
        },
        "id": "KGE7r2h2aspN",
        "outputId": "a8a5463d-f68e-4515-e949-19a9182a5fe1"
      },
      "execution_count": null,
      "outputs": [
        {
          "output_type": "execute_result",
          "data": {
            "text/plain": [
              "array([-1.42382504, -0.87066174, -0.74088465, -0.25917323, -0.07534331,\n",
              "        1.26372846])"
            ]
          },
          "metadata": {},
          "execution_count": 83
        }
      ]
    },
    {
      "cell_type": "markdown",
      "source": [
        "You can sort each one-dimensional section of values in a multidimensional array in place along an axis by passing the axis number to sort"
      ],
      "metadata": {
        "id": "hdRpU09Ra3wu"
      }
    },
    {
      "cell_type": "code",
      "source": [
        "arr = rng.standard_normal((5, 3))\n",
        "arr"
      ],
      "metadata": {
        "colab": {
          "base_uri": "https://localhost:8080/"
        },
        "id": "WiDtXhpFa4T4",
        "outputId": "16048f2a-3591-4e99-fc6b-7d6899e8f4f8"
      },
      "execution_count": null,
      "outputs": [
        {
          "output_type": "execute_result",
          "data": {
            "text/plain": [
              "array([[-1.3677927 ,  0.6488928 ,  0.36105811],\n",
              "       [-1.95286306,  2.34740965,  0.96849691],\n",
              "       [-0.75938718,  0.90219827, -0.46695317],\n",
              "       [-0.06068952,  0.78884434, -1.25666813],\n",
              "       [ 0.57585751,  1.39897899,  1.32229806]])"
            ]
          },
          "metadata": {},
          "execution_count": 84
        }
      ]
    },
    {
      "cell_type": "code",
      "source": [
        "# arr.sort(axis=0) sorts the values within each column, while arr.sort(axis=1)\n",
        "# sorts across each row:\n",
        "arr.sort(axis=0)\n",
        "arr"
      ],
      "metadata": {
        "colab": {
          "base_uri": "https://localhost:8080/"
        },
        "id": "1EzE-DgLa9JB",
        "outputId": "8ed2b00f-5915-4c18-d143-729ec9bead6f"
      },
      "execution_count": null,
      "outputs": [
        {
          "output_type": "execute_result",
          "data": {
            "text/plain": [
              "array([[-1.95286306,  0.6488928 , -1.25666813],\n",
              "       [-1.3677927 ,  0.78884434, -0.46695317],\n",
              "       [-0.75938718,  0.90219827,  0.36105811],\n",
              "       [-0.06068952,  1.39897899,  0.96849691],\n",
              "       [ 0.57585751,  2.34740965,  1.32229806]])"
            ]
          },
          "metadata": {},
          "execution_count": 85
        }
      ]
    },
    {
      "cell_type": "markdown",
      "source": [
        "The top-level method numpy.sort returns a sorted copy of an array (like the Python built-in function sorted) instead of modifying the array in place."
      ],
      "metadata": {
        "id": "RyjLGku5bPSo"
      }
    },
    {
      "cell_type": "code",
      "source": [
        "arr2 = np.array([5, -10, 7, 1, 0, -3])\n",
        "sorted_arr2 = np.sort(arr2)\n",
        "sorted_arr2"
      ],
      "metadata": {
        "colab": {
          "base_uri": "https://localhost:8080/"
        },
        "id": "JcRXHwuGbObA",
        "outputId": "1913011a-3e53-49a3-d72b-1935f672b6cd"
      },
      "execution_count": null,
      "outputs": [
        {
          "output_type": "execute_result",
          "data": {
            "text/plain": [
              "array([-10,  -3,   0,   1,   5,   7])"
            ]
          },
          "metadata": {},
          "execution_count": 86
        }
      ]
    },
    {
      "cell_type": "markdown",
      "source": [
        "## **Unique and Other Set Logic**"
      ],
      "metadata": {
        "id": "Ocu3SLsXcHHT"
      }
    },
    {
      "cell_type": "code",
      "source": [
        "names = np.array([\"Bob\", \"Will\", \"Joe\", \"Bob\", \"Will\", \"Joe\", \"Joe\"])\n",
        "np.unique(names)"
      ],
      "metadata": {
        "colab": {
          "base_uri": "https://localhost:8080/"
        },
        "id": "dYh8Fqbpb8BY",
        "outputId": "2eacbf45-89c1-4679-8b3e-9f4f58638f72"
      },
      "execution_count": null,
      "outputs": [
        {
          "output_type": "execute_result",
          "data": {
            "text/plain": [
              "array(['Bob', 'Joe', 'Will'], dtype='<U4')"
            ]
          },
          "metadata": {},
          "execution_count": 87
        }
      ]
    },
    {
      "cell_type": "code",
      "source": [
        "ints = np.array([3, 3, 3, 2, 2, 1, 1, 4, 4])\n",
        "np.unique(ints)"
      ],
      "metadata": {
        "colab": {
          "base_uri": "https://localhost:8080/"
        },
        "id": "tl4cJuqacZ74",
        "outputId": "3158a80a-e1bd-45f4-c9b8-94a52803e6c3"
      },
      "execution_count": null,
      "outputs": [
        {
          "output_type": "execute_result",
          "data": {
            "text/plain": [
              "array([1, 2, 3, 4])"
            ]
          },
          "metadata": {},
          "execution_count": 88
        }
      ]
    },
    {
      "cell_type": "markdown",
      "source": [
        "## **File Input and Output with Arrays**\n",
        "NumPy is able to save and load data to and from disk in some text or binary formats. In this section I discuss only NumPy’s built-in binary format, since most users will prefer pandas and other tools for loading text or tabular data"
      ],
      "metadata": {
        "id": "Bx4HwLyqcki6"
      }
    },
    {
      "cell_type": "code",
      "source": [
        "arr = np.arange(10)\n",
        "np.save(\"some_array\", arr)"
      ],
      "metadata": {
        "id": "opHCGiS4c49j"
      },
      "execution_count": null,
      "outputs": []
    },
    {
      "cell_type": "markdown",
      "source": [
        "If the file path does not already end in .npy, the extension will be appended. The array on disk can then be loaded with numpy.load:"
      ],
      "metadata": {
        "id": "S4oLwBLLc_tl"
      }
    },
    {
      "cell_type": "code",
      "source": [
        "np.load(\"some_array.npy\")"
      ],
      "metadata": {
        "colab": {
          "base_uri": "https://localhost:8080/"
        },
        "id": "ULN_Y_LUdAJO",
        "outputId": "64b95e4f-096c-46d2-dea3-c68b60990da6"
      },
      "execution_count": null,
      "outputs": [
        {
          "output_type": "execute_result",
          "data": {
            "text/plain": [
              "array([0, 1, 2, 3, 4, 5, 6, 7, 8, 9])"
            ]
          },
          "metadata": {},
          "execution_count": 90
        }
      ]
    },
    {
      "cell_type": "markdown",
      "source": [
        "You can save multiple arrays in an uncompressed archive using numpy.savez and passing the arrays as keyword arguments"
      ],
      "metadata": {
        "id": "_dsSnGpIdEj5"
      }
    },
    {
      "cell_type": "code",
      "source": [
        "np.savez(\"array_archive.npz\", a=arr, b=arr)"
      ],
      "metadata": {
        "id": "rZpJr72ldFHk"
      },
      "execution_count": null,
      "outputs": []
    },
    {
      "cell_type": "code",
      "source": [
        "np.savez_compressed(\"arrays_compressed.npz\", a=arr, b=arr)"
      ],
      "metadata": {
        "id": "PXkBe5bmdXE8"
      },
      "execution_count": null,
      "outputs": []
    },
    {
      "cell_type": "code",
      "source": [
        "arch = np.load(\"array_archive.npz\")\n",
        "arch[\"b\"]"
      ],
      "metadata": {
        "colab": {
          "base_uri": "https://localhost:8080/"
        },
        "id": "s3EQ88yPdJ_B",
        "outputId": "5160f431-a8b1-483b-fe02-7cd89fdd0abd"
      },
      "execution_count": null,
      "outputs": [
        {
          "output_type": "execute_result",
          "data": {
            "text/plain": [
              "array([0, 1, 2, 3, 4, 5, 6, 7, 8, 9])"
            ]
          },
          "metadata": {},
          "execution_count": 93
        }
      ]
    },
    {
      "cell_type": "code",
      "source": [
        "arch = np.load(\"arrays_compressed.npz\")\n",
        "arch[\"a\"]"
      ],
      "metadata": {
        "colab": {
          "base_uri": "https://localhost:8080/"
        },
        "id": "O1QeC5-FdcG-",
        "outputId": "0311c2e7-2d95-4737-f5dc-9313c169a5c2"
      },
      "execution_count": null,
      "outputs": [
        {
          "output_type": "execute_result",
          "data": {
            "text/plain": [
              "array([0, 1, 2, 3, 4, 5, 6, 7, 8, 9])"
            ]
          },
          "metadata": {},
          "execution_count": 94
        }
      ]
    },
    {
      "cell_type": "markdown",
      "source": [
        "## **Linear Algebra**\n",
        "\n",
        "Linear algebra operations, like matrix multiplication, decompositions, determinants, and other square matrix math, are an important part of many array libraries. Multiplying two two-dimensional arrays with * is an element-wise product, while matrix multiplications require using a function. Thus, there is a function dot, both an array method and a function in the numpy namespace, for matrix multiplication"
      ],
      "metadata": {
        "id": "tO8llS8SdhJw"
      }
    },
    {
      "cell_type": "code",
      "source": [
        "x = np.array([[1., 2., 3.], [4., 5., 6.]])\n",
        "y = np.array([[6., 23.], [-1, 7], [8, 9]])"
      ],
      "metadata": {
        "id": "vc1qdh5veAko"
      },
      "execution_count": null,
      "outputs": []
    },
    {
      "cell_type": "code",
      "source": [
        "x"
      ],
      "metadata": {
        "colab": {
          "base_uri": "https://localhost:8080/"
        },
        "id": "PNbfX0YXeMj1",
        "outputId": "86fc7014-248d-4d66-9f87-7247ddc8b71a"
      },
      "execution_count": null,
      "outputs": [
        {
          "output_type": "execute_result",
          "data": {
            "text/plain": [
              "array([[1., 2., 3.],\n",
              "       [4., 5., 6.]])"
            ]
          },
          "metadata": {},
          "execution_count": 96
        }
      ]
    },
    {
      "cell_type": "code",
      "source": [
        "y"
      ],
      "metadata": {
        "colab": {
          "base_uri": "https://localhost:8080/"
        },
        "id": "SZQlGt5EeNph",
        "outputId": "7de7f9bd-0d41-43b5-b899-28865eba25e2"
      },
      "execution_count": null,
      "outputs": [
        {
          "output_type": "execute_result",
          "data": {
            "text/plain": [
              "array([[ 6., 23.],\n",
              "       [-1.,  7.],\n",
              "       [ 8.,  9.]])"
            ]
          },
          "metadata": {},
          "execution_count": 97
        }
      ]
    },
    {
      "cell_type": "code",
      "source": [
        "print(x.dot(y))\n",
        "\n",
        "# x.dot(y) is equivalent to np.dot(x, y)\n",
        "\n",
        "print(np.dot(x, y))"
      ],
      "metadata": {
        "colab": {
          "base_uri": "https://localhost:8080/"
        },
        "id": "ZDwRjIyReSkv",
        "outputId": "2db6a968-5dbb-498f-8fef-65de4c95a69b"
      },
      "execution_count": null,
      "outputs": [
        {
          "output_type": "stream",
          "name": "stdout",
          "text": [
            "[[ 28.  64.]\n",
            " [ 67. 181.]]\n",
            "[[ 28.  64.]\n",
            " [ 67. 181.]]\n"
          ]
        }
      ]
    },
    {
      "cell_type": "markdown",
      "source": [
        "A matrix product between a two-dimensional array and a suitably sized one-dimensional array results in a one-dimensional array"
      ],
      "metadata": {
        "id": "8ZaAuo1kf0H9"
      }
    },
    {
      "cell_type": "code",
      "source": [
        "x @ np.ones(3)"
      ],
      "metadata": {
        "colab": {
          "base_uri": "https://localhost:8080/"
        },
        "id": "vTSaHZqDf0tc",
        "outputId": "076754be-393c-4c47-caee-5c0968ffce43"
      },
      "execution_count": null,
      "outputs": [
        {
          "output_type": "execute_result",
          "data": {
            "text/plain": [
              "array([ 6., 15.])"
            ]
          },
          "metadata": {},
          "execution_count": 99
        }
      ]
    },
    {
      "cell_type": "markdown",
      "source": [
        "numpy.linalg has a standard set of matrix decompositions and things like inverse and determinant"
      ],
      "metadata": {
        "id": "08kSjBjXf9BQ"
      }
    },
    {
      "cell_type": "code",
      "source": [
        "from numpy.linalg import inv, qr\n",
        "X = rng.standard_normal((5, 5))\n",
        "\n",
        "mat = X.T @ X\n",
        "inv(mat)"
      ],
      "metadata": {
        "colab": {
          "base_uri": "https://localhost:8080/"
        },
        "id": "vY55KzcFf9uh",
        "outputId": "206c0d67-6bb4-42da-88d2-75d41248d5a6"
      },
      "execution_count": null,
      "outputs": [
        {
          "output_type": "execute_result",
          "data": {
            "text/plain": [
              "array([[260.08615638, 188.93922946, 106.34919822,  12.06529331,\n",
              "        184.51230648],\n",
              "       [188.93922946, 137.88132673,  77.49025411,   8.45075787,\n",
              "        134.70768995],\n",
              "       [106.34919822,  77.49025411,  43.84929152,   4.60233436,\n",
              "         75.85240015],\n",
              "       [ 12.06529331,   8.45075787,   4.60233436,   1.00543056,\n",
              "          8.03465879],\n",
              "       [184.51230648, 134.70768995,  75.85240015,   8.03465879,\n",
              "        132.15120903]])"
            ]
          },
          "metadata": {},
          "execution_count": 100
        }
      ]
    },
    {
      "cell_type": "code",
      "source": [
        "mat @ inv(mat)"
      ],
      "metadata": {
        "colab": {
          "base_uri": "https://localhost:8080/"
        },
        "id": "DLf98mH_j-e9",
        "outputId": "8fe891fd-2c24-44d1-996d-b92850a50d20"
      },
      "execution_count": null,
      "outputs": [
        {
          "output_type": "execute_result",
          "data": {
            "text/plain": [
              "array([[ 1.00000000e+00,  5.38617221e-14,  5.51845908e-14,\n",
              "         8.05960770e-15, -4.95516251e-14],\n",
              "       [ 7.38857152e-14,  1.00000000e+00, -4.18360087e-14,\n",
              "        -4.52756966e-15,  5.67185585e-14],\n",
              "       [ 9.74834286e-14, -2.21253532e-14,  1.00000000e+00,\n",
              "        -2.54350130e-15, -7.24859902e-14],\n",
              "       [ 1.56639718e-13,  9.13884412e-14,  7.38635557e-17,\n",
              "         1.00000000e+00,  4.17706101e-14],\n",
              "       [ 4.67951184e-14,  9.45464552e-15,  5.32448333e-14,\n",
              "         5.83152787e-15,  1.00000000e+00]])"
            ]
          },
          "metadata": {},
          "execution_count": 101
        }
      ]
    },
    {
      "cell_type": "code",
      "source": [
        "# The expression X.T.dot(X) computes the dot product of X with its transpose X.T."
      ],
      "metadata": {
        "id": "-ZOV3ltRkVrr"
      },
      "execution_count": null,
      "outputs": []
    },
    {
      "cell_type": "markdown",
      "source": [
        "## **Example: Random Walks**\n",
        "The simulation of random walks provides an illustrative application of utilizing array operations. Let’s first consider a simple random walk starting at 0 with steps of 1 and –1 occurring with equal probability.\n",
        "\n",
        "Here is a pure Python way to implement a single random walk with 1,000 steps using the built-in random module"
      ],
      "metadata": {
        "id": "DFFdx-dakdWg"
      }
    },
    {
      "cell_type": "code",
      "source": [
        "import random\n",
        "position = 0\n",
        "walk = [position]\n",
        "nsteps = 1000\n",
        "for _ in range(nsteps):\n",
        "    step = 1 if random.randint(0, 1) else -1\n",
        "    position += step\n",
        "    walk.append(position)\n",
        "#! blockend\n",
        "\n",
        "plt.plot(walk[:100])"
      ],
      "metadata": {
        "colab": {
          "base_uri": "https://localhost:8080/",
          "height": 447
        },
        "id": "KZLpFxx2kfQR",
        "outputId": "1724ce38-d048-434a-d116-f63c6e72a5bb"
      },
      "execution_count": null,
      "outputs": [
        {
          "output_type": "execute_result",
          "data": {
            "text/plain": [
              "[<matplotlib.lines.Line2D at 0x7a63f765b6d0>]"
            ]
          },
          "metadata": {},
          "execution_count": 103
        },
        {
          "output_type": "display_data",
          "data": {
            "text/plain": [
              "<Figure size 640x480 with 1 Axes>"
            ],
            "image/png": "[encoded data removed]"
          },
          "metadata": {}
        }
      ]
    },
    {
      "cell_type": "markdown",
      "source": [
        "You might make the observation that walk is the cumulative sum of the random steps and could be evaluated as an array expression. Thus, I use the numpy.random module to draw 1,000 coin flips at once, set these to 1 and –1, and compute the cumulative sum"
      ],
      "metadata": {
        "id": "a6GNE8tvaEI2"
      }
    },
    {
      "cell_type": "code",
      "source": [
        "nsteps = 1000\n",
        "rng = np.random.default_rng(seed=12345)  # fresh random generator\n",
        "draws = rng.integers(0, 2, size=nsteps)\n",
        "steps = np.where(draws == 0, 1, -1)\n",
        "walk = steps.cumsum()\n",
        "\n",
        "plt.plot(walk[:100])"
      ],
      "metadata": {
        "colab": {
          "base_uri": "https://localhost:8080/",
          "height": 447
        },
        "id": "RDkdwR4pZlli",
        "outputId": "c3e30958-ce0f-4f42-c01f-b2fc686d0b18"
      },
      "execution_count": null,
      "outputs": [
        {
          "output_type": "execute_result",
          "data": {
            "text/plain": [
              "[<matplotlib.lines.Line2D at 0x7a63f84c4550>]"
            ]
          },
          "metadata": {},
          "execution_count": 105
        },
        {
          "output_type": "display_data",
          "data": {
            "text/plain": [
              "<Figure size 640x480 with 1 Axes>"
            ],
            "image/png": "[encoded data removed]"
          },
          "metadata": {}
        }
      ]
    },
    {
      "cell_type": "markdown",
      "source": [
        "## **Simulating Many Random Walks at Once**"
      ],
      "metadata": {
        "id": "HVvnr9E6bluz"
      }
    },
    {
      "cell_type": "code",
      "source": [
        "nwalks = 5000\n",
        "nsteps = 1000\n",
        "draws = rng.integers(0, 2, size=(nwalks, nsteps)) # 0 or 1\n",
        "steps = np.where(draws > 0, 1, -1)\n",
        "walks = steps.cumsum(axis=1)\n",
        "walks"
      ],
      "metadata": {
        "colab": {
          "base_uri": "https://localhost:8080/"
        },
        "id": "RACnxhkqbnUd",
        "outputId": "ecfbea7d-8443-47e9-e2f7-c4863f63eaea"
      },
      "execution_count": null,
      "outputs": [
        {
          "output_type": "execute_result",
          "data": {
            "text/plain": [
              "array([[  1,   2,   3, ...,  22,  23,  22],\n",
              "       [  1,   0,  -1, ..., -50, -49, -48],\n",
              "       [  1,   2,   3, ...,  50,  49,  48],\n",
              "       ...,\n",
              "       [ -1,  -2,  -1, ..., -10,  -9, -10],\n",
              "       [ -1,  -2,  -3, ...,   8,   9,   8],\n",
              "       [ -1,   0,   1, ...,  -4,  -3,  -2]])"
            ]
          },
          "metadata": {},
          "execution_count": 106
        }
      ]
    },
    {
      "cell_type": "code",
      "source": [
        "walks.max()"
      ],
      "metadata": {
        "colab": {
          "base_uri": "https://localhost:8080/"
        },
        "id": "loIRvNgYbyHt",
        "outputId": "0585ddfe-3cc7-4345-cfad-e4aaa45d48ed"
      },
      "execution_count": null,
      "outputs": [
        {
          "output_type": "execute_result",
          "data": {
            "text/plain": [
              "114"
            ]
          },
          "metadata": {},
          "execution_count": 107
        }
      ]
    },
    {
      "cell_type": "code",
      "source": [
        "walks.min()"
      ],
      "metadata": {
        "colab": {
          "base_uri": "https://localhost:8080/"
        },
        "id": "HiO4vWmgbzAR",
        "outputId": "1976a843-5a65-47c5-9db7-3c587759ee94"
      },
      "execution_count": null,
      "outputs": [
        {
          "output_type": "execute_result",
          "data": {
            "text/plain": [
              "-120"
            ]
          },
          "metadata": {},
          "execution_count": 108
        }
      ]
    },
    {
      "cell_type": "code",
      "source": [
        "hits30 = (np.abs(walks) >= 30).any(axis=1)"
      ],
      "metadata": {
        "id": "hSLTvzjJb9BB"
      },
      "execution_count": null,
      "outputs": []
    },
    {
      "cell_type": "code",
      "source": [
        "hits30"
      ],
      "metadata": {
        "colab": {
          "base_uri": "https://localhost:8080/"
        },
        "id": "5ZRc4EBHb_wt",
        "outputId": "feceab51-efbd-4b0d-a768-bd76739082da"
      },
      "execution_count": null,
      "outputs": [
        {
          "output_type": "execute_result",
          "data": {
            "text/plain": [
              "array([False,  True,  True, ...,  True, False,  True])"
            ]
          },
          "metadata": {},
          "execution_count": 110
        }
      ]
    },
    {
      "cell_type": "code",
      "source": [
        "hits30.sum() # Number that hit 30 or -30"
      ],
      "metadata": {
        "colab": {
          "base_uri": "https://localhost:8080/"
        },
        "id": "rBjdAZ8VcA5a",
        "outputId": "ee871c82-d744-40ff-84b5-f3801c9d3438"
      },
      "execution_count": null,
      "outputs": [
        {
          "output_type": "execute_result",
          "data": {
            "text/plain": [
              "3395"
            ]
          },
          "metadata": {},
          "execution_count": 111
        }
      ]
    }
  ]
}