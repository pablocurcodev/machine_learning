{
  "nbformat": 4,
  "nbformat_minor": 0,
  "metadata": {
    "colab": {
      "provenance": [],
      "toc_visible": true,
      "authorship_tag": "ABX9TyM06EEGCuEOkhyUMknff9yF",
      "include_colab_link": true
    },
    "kernelspec": {
      "name": "python3",
      "display_name": "Python 3"
    },
    "language_info": {
      "name": "python"
    }
  },
  "cells": [
    {
      "cell_type": "markdown",
      "metadata": {
        "id": "view-in-github",
        "colab_type": "text"
      },
      "source": [
        "<a href=\"https://colab.research.google.com/github/pablocurcodev/machine_learning/blob/main/1_Python_Language_Basics.ipynb\" target=\"_parent\"><img src=\"https://colab.research.google.com/assets/colab-badge.svg\" alt=\"Open In Colab\"/></a>"
      ]
    },
    {
      "cell_type": "markdown",
      "source": [
        "#**Python Language Basics**"
      ],
      "metadata": {
        "id": "_t01HsAW-uRK"
      }
    },
    {
      "cell_type": "code",
      "source": [
        "# Introspection\n",
        "# Using a question mark (?) before or after a variable will display some general information about the object:\n",
        "\n",
        "b = [1, 2, 3]\n",
        "b?"
      ],
      "metadata": {
        "id": "P6KokXBC-vwM"
      },
      "execution_count": null,
      "outputs": []
    },
    {
      "cell_type": "code",
      "source": [
        "def add_numbers(a, b):\n",
        "    \"\"\"\n",
        "    Add two numbers together\n",
        "\n",
        "    Returns\n",
        "    -------\n",
        "    the_sum : type of arguments\n",
        "    \"\"\"\n",
        "    return a + b"
      ],
      "metadata": {
        "id": "iO4rrgoi_A2K"
      },
      "execution_count": null,
      "outputs": []
    },
    {
      "cell_type": "code",
      "source": [
        "add_numbers?"
      ],
      "metadata": {
        "id": "rb55acQD-yb6"
      },
      "execution_count": null,
      "outputs": []
    },
    {
      "cell_type": "code",
      "source": [
        "\"\"\"\n",
        "? has a final usage, which is for searching the python namespace\n",
        "A number of characters combined with the wildcard (*) will show all names matching the wildcard expression.\n",
        "\"\"\"\n",
        "\n",
        "import numpy as np\n",
        "np.*load*?"
      ],
      "metadata": {
        "id": "FfK2qdmn-xtu"
      },
      "execution_count": null,
      "outputs": []
    },
    {
      "cell_type": "markdown",
      "source": [
        "## **Language Semantics**\n",
        "\n",
        "The Python language design is distinguished by its emphasis on readability, simplicity, and explicitness. Some people go so far as to liken it to “executable pseudocode.”\n",
        "\n",
        "**Indentation, not braces**\n",
        "Python uses whitespace (tabs or spaces) to structure code instead of using braces as in many other languages like R, C++, Java, and Perl. Consider a for loop from a sorting algorithm:"
      ],
      "metadata": {
        "id": "DXzBX6vm_m8T"
      }
    },
    {
      "cell_type": "code",
      "source": [
        "array = [1,2,3,4,5,6,7,8,9,10,11,12,13,14,15]\n",
        "less, greater = [], []\n",
        "pivot = 5\n",
        "for x in array:\n",
        "    if x < pivot:\n",
        "        less.append(x)\n",
        "    else:\n",
        "        greater.append(x)\n",
        "\n",
        "less, greater"
      ],
      "metadata": {
        "colab": {
          "base_uri": "https://localhost:8080/"
        },
        "id": "6NrZ0AEa_jR4",
        "outputId": "d68fa0ae-e7a7-455d-81fb-09e573f3f5e6"
      },
      "execution_count": null,
      "outputs": [
        {
          "output_type": "execute_result",
          "data": {
            "text/plain": [
              "([1, 2, 3, 4], [5, 6, 7, 8, 9, 10, 11, 12, 13, 14, 15])"
            ]
          },
          "metadata": {},
          "execution_count": 18
        }
      ]
    },
    {
      "cell_type": "markdown",
      "source": [
        "A colon denotes the start of an indented code block after which all of the code must be indented by the same amount until the end of the block.\n",
        "\n",
        "I strongly recommend using four spaces as your default indentation and replacing tabs with four spaces.\n",
        "\n",
        "As you can see by now, Python statements also do not need to be terminated by semicolons. Semicolons can be used, however, to separate multiple statements on a single line:\n",
        "\n",
        "a = 5; b = 6; c = 7\n",
        "\n",
        "An important characteristic of the Python language is the consistency of its object model. Every number, string, data structure, function, class, module, and so on exists in the Python interpreter in its own “box,” which is referred to as a Python object.\n",
        "\n",
        "**Comments**\n",
        "Any text preceded by the hash mark (pound sign) # is ignored by the Python interpreter. This is often used to add comments to code.\n",
        "\n",
        "You call functions using parentheses and passing zero or more arguments, optionally assigning the returned value to a variable\n",
        "\n",
        "**Dynamic references, strong types**\n",
        "Variables in Python have no inherent type associated with them; a variable can refer to a different type of object simply by doing an assignment."
      ],
      "metadata": {
        "id": "42BsIJIaAXZv"
      }
    },
    {
      "cell_type": "code",
      "source": [
        "a = 5\n",
        "\n",
        "print(type(a))\n",
        "\n",
        "a = \"foo\"\n",
        "\n",
        "print(type(a))"
      ],
      "metadata": {
        "colab": {
          "base_uri": "https://localhost:8080/"
        },
        "id": "KeSBax_0A8JH",
        "outputId": "34cd91a0-9314-457b-edec-6aebf297660c"
      },
      "execution_count": null,
      "outputs": [
        {
          "output_type": "stream",
          "name": "stdout",
          "text": [
            "<class 'int'>\n",
            "<class 'str'>\n"
          ]
        }
      ]
    },
    {
      "cell_type": "code",
      "source": [
        "def isiterable(obj):\n",
        "    try:\n",
        "        iter(obj)\n",
        "        return True\n",
        "    except TypeError: # not iterable\n",
        "        return False\n",
        "\n",
        "print(isiterable(False))\n",
        "print(isiterable(5))\n",
        "print(isiterable('String'))\n",
        "print(isiterable([1,2,3]))"
      ],
      "metadata": {
        "colab": {
          "base_uri": "https://localhost:8080/"
        },
        "id": "8a-1U7RIAbj8",
        "outputId": "698a681c-f45a-4322-8ded-97fe7fcaaed4"
      },
      "execution_count": null,
      "outputs": [
        {
          "output_type": "stream",
          "name": "stdout",
          "text": [
            "False\n",
            "False\n",
            "True\n",
            "True\n"
          ]
        }
      ]
    },
    {
      "cell_type": "markdown",
      "source": [
        "To check if two variables refer to the same object, use the is keyword. Use is not to check that two objects are not the same:"
      ],
      "metadata": {
        "id": "-yhuJR9eCTmt"
      }
    },
    {
      "cell_type": "code",
      "source": [
        "a = [1, 2, 3]\n",
        "b = a\n",
        "c = list(a)\n",
        "\n",
        "print(a is b)\n",
        "print(a is c)"
      ],
      "metadata": {
        "colab": {
          "base_uri": "https://localhost:8080/"
        },
        "id": "0DwpIeucCTP1",
        "outputId": "88ba4f79-0ea0-40f0-c2b0-9fc7ea5208dd"
      },
      "execution_count": null,
      "outputs": [
        {
          "output_type": "stream",
          "name": "stdout",
          "text": [
            "True\n",
            "False\n"
          ]
        }
      ]
    },
    {
      "cell_type": "code",
      "source": [
        "z = None\n",
        "print(type(z))\n",
        "print(z)"
      ],
      "metadata": {
        "colab": {
          "base_uri": "https://localhost:8080/"
        },
        "id": "kbD91oWFCmeK",
        "outputId": "4ba9684f-4d1c-46e0-99f4-b15ababb1014"
      },
      "execution_count": null,
      "outputs": [
        {
          "output_type": "stream",
          "name": "stdout",
          "text": [
            "<class 'NoneType'>\n",
            "None\n"
          ]
        }
      ]
    },
    {
      "cell_type": "code",
      "source": [
        "c = \"\"\"\n",
        "This is a longer string that\n",
        "spans multiple lines\n",
        "\"\"\"\n",
        "print(c)"
      ],
      "metadata": {
        "colab": {
          "base_uri": "https://localhost:8080/"
        },
        "id": "3URNVpf0DIZ8",
        "outputId": "0bb86e56-2ae0-4b15-ebb0-b3677f8ecdea"
      },
      "execution_count": null,
      "outputs": [
        {
          "output_type": "stream",
          "name": "stdout",
          "text": [
            "\n",
            "This is a longer string that\n",
            "spans multiple lines\n",
            "\n"
          ]
        }
      ]
    },
    {
      "cell_type": "code",
      "source": [
        "# Many Python objects can be converted to a string using the str function:\n",
        "\n",
        "a = 5.6\n",
        "s = str(a)\n",
        "print(s)"
      ],
      "metadata": {
        "colab": {
          "base_uri": "https://localhost:8080/"
        },
        "id": "Aky9_DCODR5C",
        "outputId": "03f26142-aa30-4bce-914d-8f78b50b77ba"
      },
      "execution_count": null,
      "outputs": [
        {
          "output_type": "stream",
          "name": "stdout",
          "text": [
            "5.6\n"
          ]
        }
      ]
    },
    {
      "cell_type": "code",
      "source": [
        "# raw string\n",
        "s = r\"this\\has\\no\\special\\characters\"\n",
        "s"
      ],
      "metadata": {
        "colab": {
          "base_uri": "https://localhost:8080/",
          "height": 35
        },
        "id": "pMwDA2MCDeWE",
        "outputId": "f95e0b56-63b3-469f-f1f7-878ec602a2b4"
      },
      "execution_count": null,
      "outputs": [
        {
          "output_type": "execute_result",
          "data": {
            "text/plain": [
              "'this\\\\has\\\\no\\\\special\\\\characters'"
            ],
            "application/vnd.google.colaboratory.intrinsic+json": {
              "type": "string"
            }
          },
          "metadata": {},
          "execution_count": 25
        }
      ]
    },
    {
      "cell_type": "code",
      "source": [
        "template = \"{0:.2f} {1:s} are worth US${2:d}\"\n",
        "template.format(88.46, \"Argentine Pesos\", 1)"
      ],
      "metadata": {
        "colab": {
          "base_uri": "https://localhost:8080/",
          "height": 35
        },
        "id": "DXzAfCo1DolP",
        "outputId": "214bf018-9a0e-498f-994c-cf4febc96f06"
      },
      "execution_count": null,
      "outputs": [
        {
          "output_type": "execute_result",
          "data": {
            "text/plain": [
              "'88.46 Argentine Pesos are worth US$1'"
            ],
            "application/vnd.google.colaboratory.intrinsic+json": {
              "type": "string"
            }
          },
          "metadata": {},
          "execution_count": 26
        }
      ]
    },
    {
      "cell_type": "code",
      "source": [
        "amount = 10\n",
        "rate = 88.46\n",
        "currency = \"Pesos\"\n",
        "\n",
        "result = f\"{amount} {currency} is worth US${amount / rate}\"\n",
        "result"
      ],
      "metadata": {
        "colab": {
          "base_uri": "https://localhost:8080/",
          "height": 35
        },
        "id": "MiW5aemRDpCH",
        "outputId": "da61ed53-2aba-4cf2-c986-63bc7e74ad5a"
      },
      "execution_count": null,
      "outputs": [
        {
          "output_type": "execute_result",
          "data": {
            "text/plain": [
              "'10 Pesos is worth US$0.11304544426859599'"
            ],
            "application/vnd.google.colaboratory.intrinsic+json": {
              "type": "string"
            }
          },
          "metadata": {},
          "execution_count": 125
        }
      ]
    },
    {
      "cell_type": "code",
      "source": [
        "val = \"español\"\n",
        "val_utf8 = val.encode(\"utf-8\")\n",
        "print(val_utf8)\n",
        "print(type(val_utf8))"
      ],
      "metadata": {
        "colab": {
          "base_uri": "https://localhost:8080/"
        },
        "id": "jN5l8xNxD8wT",
        "outputId": "c24dcfaa-120c-4bdd-cd6e-954ca0f445ef"
      },
      "execution_count": null,
      "outputs": [
        {
          "output_type": "stream",
          "name": "stdout",
          "text": [
            "b'espa\\xc3\\xb1ol'\n",
            "<class 'bytes'>\n"
          ]
        }
      ]
    },
    {
      "cell_type": "code",
      "source": [
        "val2 = val_utf8.decode(\"utf-8\")\n",
        "print(val2)\n",
        "print(type(val2))\n",
        "\n",
        "print(val.encode(\"latin1\"))\n",
        "\n",
        "print(val.encode(\"utf-16\"))\n",
        "\n",
        "print(val.encode(\"utf-16le\"))"
      ],
      "metadata": {
        "colab": {
          "base_uri": "https://localhost:8080/"
        },
        "id": "YWKzjDgaEJEc",
        "outputId": "fc529023-9917-42c0-91e1-aed5ee37f77e"
      },
      "execution_count": null,
      "outputs": [
        {
          "output_type": "stream",
          "name": "stdout",
          "text": [
            "español\n",
            "<class 'str'>\n",
            "b'espa\\xf1ol'\n",
            "b'\\xff\\xfee\\x00s\\x00p\\x00a\\x00\\xf1\\x00o\\x00l\\x00'\n",
            "b'e\\x00s\\x00p\\x00a\\x00\\xf1\\x00o\\x00l\\x00'\n"
          ]
        }
      ]
    },
    {
      "cell_type": "markdown",
      "source": [
        "## **Dates and times**"
      ],
      "metadata": {
        "id": "lXBvOAf7NbS0"
      }
    },
    {
      "cell_type": "code",
      "source": [
        "from datetime import datetime, date, time\n",
        "\n",
        "dt = datetime(2011, 10, 29, 20, 30, 21)\n",
        "print(dt.day)\n",
        "print(dt.minute)\n",
        "print(dt.date())\n",
        "print(dt.time())\n",
        "\n",
        "print(dt.strftime(\"%Y-%m-%d %H:%M\"))\n",
        "\n",
        "dt2 = datetime(2011, 11, 15, 22, 30)\n",
        "\n",
        "delta = dt2 - dt\n",
        "print(delta)\n",
        "print(type(delta))\n",
        "\n",
        "print(dt + delta)\n"
      ],
      "metadata": {
        "colab": {
          "base_uri": "https://localhost:8080/"
        },
        "id": "oRDRfXu6NeR7",
        "outputId": "81e689ec-451c-4239-c650-23b550642cbb"
      },
      "execution_count": null,
      "outputs": [
        {
          "output_type": "stream",
          "name": "stdout",
          "text": [
            "29\n",
            "30\n",
            "2011-10-29\n",
            "20:30:21\n",
            "2011-10-29 20:30\n",
            "17 days, 1:59:39\n",
            "<class 'datetime.timedelta'>\n",
            "2011-11-15 22:30:00\n"
          ]
        }
      ]
    },
    {
      "cell_type": "code",
      "source": [
        "dt_hour = dt.replace(minute=0, second=0)"
      ],
      "metadata": {
        "id": "9pSwm7efNyhF"
      },
      "execution_count": null,
      "outputs": []
    },
    {
      "cell_type": "markdown",
      "source": [
        "## **Control Flow**\n",
        "\n",
        "Python has several built-in keywords for conditional logic, loops, and other standard control flow concepts found in other programming languages.\n",
        "\n",
        "### **if, elif, and else**"
      ],
      "metadata": {
        "id": "3tuv4ei3XJNj"
      }
    },
    {
      "cell_type": "code",
      "source": [
        "x = -7\n",
        "if x < 0:\n",
        "    print(\"x is negative\")"
      ],
      "metadata": {
        "colab": {
          "base_uri": "https://localhost:8080/"
        },
        "id": "_n272OW1XONy",
        "outputId": "7cbd5cfa-f78c-4304-aacc-25e3d4c45f54"
      },
      "execution_count": null,
      "outputs": [
        {
          "output_type": "stream",
          "name": "stdout",
          "text": [
            "x is negative\n"
          ]
        }
      ]
    },
    {
      "cell_type": "code",
      "source": [
        "x = 5\n",
        "\n",
        "if x < 0:\n",
        "    print(\"x is negative\")\n",
        "elif x == 0:\n",
        "    print(\"x is equals to zero\")\n",
        "elif 0 < x < 5:\n",
        "    print(\"x is positive but smaller than 5\")\n",
        "else:\n",
        "    print(\"x is positive and larger than or equal to 5\")"
      ],
      "metadata": {
        "colab": {
          "base_uri": "https://localhost:8080/"
        },
        "id": "TiQ1UJwaXWAn",
        "outputId": "ac676763-af61-4ba9-ad74-bea89075bf88"
      },
      "execution_count": null,
      "outputs": [
        {
          "output_type": "stream",
          "name": "stdout",
          "text": [
            "x is positive and larger than or equal to 5\n"
          ]
        }
      ]
    },
    {
      "cell_type": "code",
      "source": [
        "5 > 3 > 2 > 0"
      ],
      "metadata": {
        "colab": {
          "base_uri": "https://localhost:8080/"
        },
        "id": "9XE3WnOpXoNi",
        "outputId": "a854f3e7-0b75-4a93-942d-c8b6adb58658"
      },
      "execution_count": null,
      "outputs": [
        {
          "output_type": "execute_result",
          "data": {
            "text/plain": [
              "True"
            ]
          },
          "metadata": {},
          "execution_count": 132
        }
      ]
    },
    {
      "cell_type": "code",
      "source": [
        "sequence = [1, 2, None, 4, None, 5]\n",
        "total = 0\n",
        "for value in sequence:\n",
        "    if value is None:\n",
        "        continue # skipping the rest of the block\n",
        "    total += value\n",
        "\n",
        "print(total)"
      ],
      "metadata": {
        "colab": {
          "base_uri": "https://localhost:8080/"
        },
        "id": "b-LRDsacXuJA",
        "outputId": "27d5cd58-85ce-45b1-8974-6b5dc89cedc5"
      },
      "execution_count": null,
      "outputs": [
        {
          "output_type": "stream",
          "name": "stdout",
          "text": [
            "12\n"
          ]
        }
      ]
    },
    {
      "cell_type": "code",
      "source": [
        "sequence = [1, 2, 0, 4, 6, 5, 2, 1]\n",
        "total_until_5 = 0\n",
        "for value in sequence:\n",
        "    if value == 5:\n",
        "        break # exiting the block altogether\n",
        "    total_until_5 += value\n",
        "print(total_until_5)\n",
        "\n",
        "# The break keyword only terminates the innermost for loop;\n",
        "# any outer for loops will continue to run:\n",
        "\n",
        "for i in range(4):\n",
        "    for j in range(4):\n",
        "        if j > i:\n",
        "            break\n",
        "        print((i, j))"
      ],
      "metadata": {
        "colab": {
          "base_uri": "https://localhost:8080/"
        },
        "id": "_JyC6s4LX-yX",
        "outputId": "7bdf2434-157e-4e70-953b-c11d79312c7e"
      },
      "execution_count": null,
      "outputs": [
        {
          "output_type": "stream",
          "name": "stdout",
          "text": [
            "13\n",
            "(0, 0)\n",
            "(1, 0)\n",
            "(1, 1)\n",
            "(2, 0)\n",
            "(2, 1)\n",
            "(2, 2)\n",
            "(3, 0)\n",
            "(3, 1)\n",
            "(3, 2)\n",
            "(3, 3)\n"
          ]
        }
      ]
    },
    {
      "cell_type": "code",
      "source": [
        "iterator = [(1,2,3),(4,5,6),(7,8,9)]\n",
        "for a, b, c in iterator:\n",
        "    print(a + b + c)"
      ],
      "metadata": {
        "colab": {
          "base_uri": "https://localhost:8080/"
        },
        "id": "-5BewIEmYnG9",
        "outputId": "60ba5794-fc83-4740-b891-a93edb4f1efb"
      },
      "execution_count": null,
      "outputs": [
        {
          "output_type": "stream",
          "name": "stdout",
          "text": [
            "6\n",
            "15\n",
            "24\n"
          ]
        }
      ]
    },
    {
      "cell_type": "markdown",
      "source": [
        "### **while loops**\n",
        "A while loop specifies a condition and a block of code that is to be executed until the condition evaluates to False or the loop is explicitly ended with break:"
      ],
      "metadata": {
        "id": "Z9EptNsnY42-"
      }
    },
    {
      "cell_type": "code",
      "source": [
        "x = 256\n",
        "total = 0\n",
        "while x > 0:\n",
        "    if total > 500:\n",
        "        break\n",
        "    print(\"total = \" + str(total) + \" + \" + str(x) + \" = \" + str(total + x))\n",
        "    total += x\n",
        "    print(\"New value for x = \" + \"str(x // 2) = \" + str(x // 2))\n",
        "    x = x // 2"
      ],
      "metadata": {
        "colab": {
          "base_uri": "https://localhost:8080/"
        },
        "id": "RbeePugJY8pu",
        "outputId": "33ad4f07-036b-4e78-cd34-64279be9198f"
      },
      "execution_count": null,
      "outputs": [
        {
          "output_type": "stream",
          "name": "stdout",
          "text": [
            "total = 0 + 256 = 256\n",
            "New value for x = str(x // 2) = 128\n",
            "total = 256 + 128 = 384\n",
            "New value for x = str(x // 2) = 64\n",
            "total = 384 + 64 = 448\n",
            "New value for x = str(x // 2) = 32\n",
            "total = 448 + 32 = 480\n",
            "New value for x = str(x // 2) = 16\n",
            "total = 480 + 16 = 496\n",
            "New value for x = str(x // 2) = 8\n",
            "total = 496 + 8 = 504\n",
            "New value for x = str(x // 2) = 4\n"
          ]
        }
      ]
    },
    {
      "cell_type": "markdown",
      "source": [
        "### **pass**\n",
        "pass is the “no-op” (or “do nothing”) statement in Python. It can be used in blocks where no action is to be taken (or as a placeholder for code not yet implemented); it is required only because Python uses whitespace to delimit blocks:"
      ],
      "metadata": {
        "id": "Lr4q49JfaQOn"
      }
    },
    {
      "cell_type": "code",
      "source": [
        "if x < 0:\n",
        "    print(\"negative!\")\n",
        "elif x == 0:\n",
        "    # TODO: put something smart here\n",
        "    pass\n",
        "else:\n",
        "    print(\"positive!\")"
      ],
      "metadata": {
        "colab": {
          "base_uri": "https://localhost:8080/"
        },
        "id": "uAnY8bjxaP8f",
        "outputId": "1cdb143f-533e-4c53-8832-67451f5da3a5"
      },
      "execution_count": null,
      "outputs": [
        {
          "output_type": "stream",
          "name": "stdout",
          "text": [
            "positive!\n"
          ]
        }
      ]
    },
    {
      "cell_type": "markdown",
      "source": [
        "## **range**\n",
        "The range function generates a sequence of evenly spaced integers:"
      ],
      "metadata": {
        "id": "G7kLVSXgamrU"
      }
    },
    {
      "cell_type": "code",
      "source": [
        "range(10)\n",
        "list(range(10))"
      ],
      "metadata": {
        "colab": {
          "base_uri": "https://localhost:8080/"
        },
        "id": "AQxByUfWapMi",
        "outputId": "79d36688-3817-4e10-da4d-c03668deff67"
      },
      "execution_count": null,
      "outputs": [
        {
          "output_type": "execute_result",
          "data": {
            "text/plain": [
              "[0, 1, 2, 3, 4, 5, 6, 7, 8, 9]"
            ]
          },
          "metadata": {},
          "execution_count": 138
        }
      ]
    },
    {
      "cell_type": "code",
      "source": [
        "list(range(0, 20, 2))"
      ],
      "metadata": {
        "colab": {
          "base_uri": "https://localhost:8080/"
        },
        "id": "eyMiNfRsayMS",
        "outputId": "8346f9e2-75cb-490b-b591-5307a02f05c2"
      },
      "execution_count": null,
      "outputs": [
        {
          "output_type": "execute_result",
          "data": {
            "text/plain": [
              "[0, 2, 4, 6, 8, 10, 12, 14, 16, 18]"
            ]
          },
          "metadata": {},
          "execution_count": 139
        }
      ]
    },
    {
      "cell_type": "code",
      "source": [
        "# A common use of range is for iterating through sequences by index:\n",
        "seq = [1, 2, 3, 4]\n",
        "for i in range(len(seq)):\n",
        "    print(f\"element {i}: {seq[i]}\")"
      ],
      "metadata": {
        "colab": {
          "base_uri": "https://localhost:8080/"
        },
        "id": "pWyAWlOta6jf",
        "outputId": "ef2fc34f-fe66-4772-8acb-dd9ca472eccd"
      },
      "execution_count": null,
      "outputs": [
        {
          "output_type": "stream",
          "name": "stdout",
          "text": [
            "element 0: 1\n",
            "element 1: 2\n",
            "element 2: 3\n",
            "element 3: 4\n"
          ]
        }
      ]
    },
    {
      "cell_type": "markdown",
      "source": [
        "# Data Structures and Sequences\n",
        "\n",
        "Python’s data structures are simple but powerful. Mastering their use is a critical part of becoming a proficient Python programmer. We start with tuple, list, and dictionary, which are some of the most frequently used sequence types."
      ],
      "metadata": {
        "id": "xGF11AFQbT2Z"
      }
    },
    {
      "cell_type": "markdown",
      "source": [
        "## **Tuple**"
      ],
      "metadata": {
        "id": "3lvJ_dEQbdLd"
      }
    },
    {
      "cell_type": "code",
      "source": [
        "tup = (4, 5, 6)\n",
        "print(tup)\n",
        "print(type(tup))\n",
        "\n",
        "# also\n",
        "tup = 4, 5, 6\n",
        "print(tup)\n",
        "print(type(tup))"
      ],
      "metadata": {
        "colab": {
          "base_uri": "https://localhost:8080/"
        },
        "id": "yYuW7-NBbks4",
        "outputId": "12e4be5c-7881-4830-d10a-7a0c3c2a6e56"
      },
      "execution_count": null,
      "outputs": [
        {
          "output_type": "stream",
          "name": "stdout",
          "text": [
            "(4, 5, 6)\n",
            "<class 'tuple'>\n",
            "(4, 5, 6)\n",
            "<class 'tuple'>\n"
          ]
        }
      ]
    },
    {
      "cell_type": "code",
      "source": [
        "tup = tuple(\"string\")\n",
        "print(tup)\n",
        "print(tup[1])"
      ],
      "metadata": {
        "colab": {
          "base_uri": "https://localhost:8080/"
        },
        "id": "QbYjrxHNgyg4",
        "outputId": "f6a399d4-5fbb-4496-cd68-251d5179317d"
      },
      "execution_count": null,
      "outputs": [
        {
          "output_type": "stream",
          "name": "stdout",
          "text": [
            "('s', 't', 'r', 'i', 'n', 'g')\n",
            "t\n"
          ]
        }
      ]
    },
    {
      "cell_type": "code",
      "source": [
        "nested_tup = (4, 5, 6), (7, 8)\n",
        "print(nested_tup[0])\n",
        "print(nested_tup[1][0])"
      ],
      "metadata": {
        "colab": {
          "base_uri": "https://localhost:8080/"
        },
        "id": "PTINm1EqheW1",
        "outputId": "cce7b4fb-bb16-473c-ea50-930203a855bf"
      },
      "execution_count": null,
      "outputs": [
        {
          "output_type": "stream",
          "name": "stdout",
          "text": [
            "(4, 5, 6)\n",
            "7\n"
          ]
        }
      ]
    },
    {
      "cell_type": "code",
      "source": [
        "tup = tuple(['foo', [1, 2], True])\n",
        "tup[1].append(3)\n",
        "tup"
      ],
      "metadata": {
        "colab": {
          "base_uri": "https://localhost:8080/"
        },
        "id": "l9Uc2_ffhmfy",
        "outputId": "e92c6237-1aae-4fa0-ed4d-61f7cd87a568"
      },
      "execution_count": null,
      "outputs": [
        {
          "output_type": "execute_result",
          "data": {
            "text/plain": [
              "('foo', [1, 2, 3], True)"
            ]
          },
          "metadata": {},
          "execution_count": 144
        }
      ]
    },
    {
      "cell_type": "code",
      "source": [
        "t = (4, None, 'foo') + (6, 0) + ('bar',)\n",
        "print(t)\n",
        "t = (3,5) * 15\n",
        "print(t)\n",
        "print(len(t))"
      ],
      "metadata": {
        "colab": {
          "base_uri": "https://localhost:8080/"
        },
        "id": "EKfv-9Oah1zR",
        "outputId": "22ebb3d8-41ad-4400-895f-d4535cca52a1"
      },
      "execution_count": null,
      "outputs": [
        {
          "output_type": "stream",
          "name": "stdout",
          "text": [
            "(4, None, 'foo', 6, 0, 'bar')\n",
            "(3, 5, 3, 5, 3, 5, 3, 5, 3, 5, 3, 5, 3, 5, 3, 5, 3, 5, 3, 5, 3, 5, 3, 5, 3, 5, 3, 5, 3, 5)\n",
            "30\n"
          ]
        }
      ]
    },
    {
      "cell_type": "code",
      "source": [
        "# A common use of variable unpacking is iterating over sequences of tuples or lists:\n",
        "seq = [(1, 2, 3), (4, 5, 6), (7, 8, 9)]\n",
        "for a, b, c in seq:\n",
        "    print(f'a={a}, b={b}, c={c}')"
      ],
      "metadata": {
        "colab": {
          "base_uri": "https://localhost:8080/"
        },
        "id": "P7H-wrP6ilFK",
        "outputId": "e22e373f-401b-4aee-c75a-4f9d73267463"
      },
      "execution_count": null,
      "outputs": [
        {
          "output_type": "stream",
          "name": "stdout",
          "text": [
            "a=1, b=2, c=3\n",
            "a=4, b=5, c=6\n",
            "a=7, b=8, c=9\n"
          ]
        }
      ]
    },
    {
      "cell_type": "code",
      "source": [
        "values = 1, 2, 3, 4, 5\n",
        "a, b, *rest = values\n",
        "rest\n",
        "\n",
        "# This rest bit is sometimes something you want to discard;\n",
        "# there is nothing special about the rest name.\n",
        "# As a matter of convention, many Python programmers\n",
        "# will use the underscore (_) for unwanted variables:\n",
        "a, b, *_ = values"
      ],
      "metadata": {
        "id": "vuZgPHphisM4"
      },
      "execution_count": null,
      "outputs": []
    },
    {
      "cell_type": "code",
      "source": [
        "a = (1, 2, 2, 2, 3, 4, 2)\n",
        "a.count(2)"
      ],
      "metadata": {
        "colab": {
          "base_uri": "https://localhost:8080/"
        },
        "id": "6K2wAsr8i_qr",
        "outputId": "c0e2b861-b511-4320-ec1e-5abed2922166"
      },
      "execution_count": null,
      "outputs": [
        {
          "output_type": "execute_result",
          "data": {
            "text/plain": [
              "4"
            ]
          },
          "metadata": {},
          "execution_count": 148
        }
      ]
    },
    {
      "cell_type": "markdown",
      "source": [
        "## **List**\n",
        "In contrast with tuples, lists are variable length and their contents can be modified in place. Lists are mutable. You can define them using square brackets [] or using the list type function:"
      ],
      "metadata": {
        "id": "oDIgb1EHjMsl"
      }
    },
    {
      "cell_type": "markdown",
      "source": [],
      "metadata": {
        "id": "-jdRFfIGM2lf"
      }
    },
    {
      "cell_type": "code",
      "source": [
        "# Elements can be appended to the end of the list with the append method:\n",
        "\n",
        "l = ['Alpha','Beta','Gamma']\n",
        "l.append('Delta')\n",
        "print(l)\n",
        "l.remove('Beta')\n",
        "print(l)\n",
        "l.insert(1, 'Beta')\n",
        "print(l)\n",
        "\n",
        "l.append('Epsilon')\n",
        "print(l)\n",
        "\n",
        "E = l.pop()\n",
        "print(l)\n",
        "print(E)"
      ],
      "metadata": {
        "id": "P-4ksF8WjRLn",
        "colab": {
          "base_uri": "https://localhost:8080/"
        },
        "outputId": "6a3ad0f3-6479-4338-d2c0-37052d33c97e"
      },
      "execution_count": null,
      "outputs": [
        {
          "output_type": "stream",
          "name": "stdout",
          "text": [
            "['Alpha', 'Beta', 'Gamma', 'Delta']\n",
            "['Alpha', 'Gamma', 'Delta']\n",
            "['Alpha', 'Beta', 'Gamma', 'Delta']\n",
            "['Alpha', 'Beta', 'Gamma', 'Delta', 'Epsilon']\n",
            "['Alpha', 'Beta', 'Gamma', 'Delta']\n",
            "Epsilon\n"
          ]
        }
      ]
    },
    {
      "cell_type": "code",
      "source": [
        "print('Zeta' in l)\n",
        "print('Alpha' in l)"
      ],
      "metadata": {
        "colab": {
          "base_uri": "https://localhost:8080/"
        },
        "id": "dcOIbog1NZlJ",
        "outputId": "58c95cf3-e182-46d7-a7b7-bfc09c445a1e"
      },
      "execution_count": null,
      "outputs": [
        {
          "output_type": "stream",
          "name": "stdout",
          "text": [
            "False\n",
            "True\n"
          ]
        }
      ]
    },
    {
      "cell_type": "code",
      "source": [
        "print(l)"
      ],
      "metadata": {
        "colab": {
          "base_uri": "https://localhost:8080/"
        },
        "id": "01I50SdhPVwW",
        "outputId": "6599f4bc-cccb-4db4-939b-b3052a47030b"
      },
      "execution_count": null,
      "outputs": [
        {
          "output_type": "stream",
          "name": "stdout",
          "text": [
            "['Alpha', 'Beta', 'Gamma', 'Delta']\n"
          ]
        }
      ]
    },
    {
      "cell_type": "code",
      "source": [
        "l2 = ['Epsilon', 'Zeta','Etha', 'Theta', 'Iota']\n",
        "l = l + l2\n",
        "print(l)\n",
        "\n",
        "\n"
      ],
      "metadata": {
        "colab": {
          "base_uri": "https://localhost:8080/"
        },
        "id": "GGRQeH9VOIVu",
        "outputId": "c474c1f5-7798-4688-93e0-d562aeaafd48"
      },
      "execution_count": null,
      "outputs": [
        {
          "output_type": "stream",
          "name": "stdout",
          "text": [
            "['Alpha', 'Beta', 'Gamma', 'Delta', 'Epsilon', 'Zeta', 'Etha', 'Theta', 'Iota']\n"
          ]
        }
      ]
    },
    {
      "cell_type": "code",
      "source": [
        "l.extend(['Kappa', 'Lambda'])\n",
        "print(l)\n",
        "\n",
        "l.extend(['Mu'])\n",
        "print(l)"
      ],
      "metadata": {
        "colab": {
          "base_uri": "https://localhost:8080/"
        },
        "id": "iQg6NnriPkaX",
        "outputId": "2ceb1e91-fcdd-4a04-abb0-6868f6c3d375"
      },
      "execution_count": null,
      "outputs": [
        {
          "output_type": "stream",
          "name": "stdout",
          "text": [
            "['Alpha', 'Beta', 'Gamma', 'Delta', 'Epsilon', 'Zeta', 'Etha', 'Theta', 'Iota', 'Kappa', 'Lambda']\n",
            "['Alpha', 'Beta', 'Gamma', 'Delta', 'Epsilon', 'Zeta', 'Etha', 'Theta', 'Iota', 'Kappa', 'Lambda', 'Mu']\n"
          ]
        }
      ]
    },
    {
      "cell_type": "code",
      "source": [
        "# Sorting\n",
        "\n",
        "l = [5,25,17,36,2,81,102,9,4,15]\n",
        "l.sort()\n",
        "print(l)\n",
        "\n",
        "l.sort(reverse=True)\n",
        "print(l)\n",
        "\n",
        "l =  [\"saw\", \"small\", \"He\", \"foxes\", \"six\"]\n",
        "l.sort(key=len)\n",
        "print(l)"
      ],
      "metadata": {
        "colab": {
          "base_uri": "https://localhost:8080/"
        },
        "id": "GPWsayAHQMdz",
        "outputId": "ed28968d-fbf2-4930-d7ef-37ae83b3b815"
      },
      "execution_count": null,
      "outputs": [
        {
          "output_type": "stream",
          "name": "stdout",
          "text": [
            "[2, 4, 5, 9, 15, 17, 25, 36, 81, 102]\n",
            "[102, 81, 36, 25, 17, 15, 9, 5, 4, 2]\n",
            "['He', 'saw', 'six', 'small', 'foxes']\n"
          ]
        }
      ]
    },
    {
      "cell_type": "code",
      "source": [
        "# Slicing\n",
        "\n",
        "seq = [7, 2, 3, 7, 5, 6, 0, 1]\n",
        "print(seq[1:5])\n",
        "\n",
        "seq[3:5] = [6, 3]\n",
        "\n",
        "print(seq)\n"
      ],
      "metadata": {
        "colab": {
          "base_uri": "https://localhost:8080/"
        },
        "id": "4Uw7hbf4QhuY",
        "outputId": "53c4996f-c61c-421e-b283-604fb2fb16c8"
      },
      "execution_count": null,
      "outputs": [
        {
          "output_type": "stream",
          "name": "stdout",
          "text": [
            "[2, 3, 7, 5]\n",
            "[7, 2, 3, 6, 3, 6, 0, 1]\n"
          ]
        }
      ]
    },
    {
      "cell_type": "code",
      "source": [
        "# Either the start or stop can be omitted, in which case they default to the start of the sequence and the end of the sequence, respectively\n",
        "print(seq[:5])\n",
        "\n",
        "print(seq[3:])\n",
        "\n",
        "# Negative indices slice the sequence relative to the end\n",
        "seq[-4:]\n",
        "\n",
        "seq[-6:-2]"
      ],
      "metadata": {
        "colab": {
          "base_uri": "https://localhost:8080/"
        },
        "id": "3iHizw-6Q7oi",
        "outputId": "c076cbac-435d-415f-c0c7-dd11edfc2c8a"
      },
      "execution_count": null,
      "outputs": [
        {
          "output_type": "stream",
          "name": "stdout",
          "text": [
            "[7, 2, 3, 6, 3]\n",
            "[6, 3, 6, 0, 1]\n"
          ]
        },
        {
          "output_type": "execute_result",
          "data": {
            "text/plain": [
              "[3, 6, 3, 6]"
            ]
          },
          "metadata": {},
          "execution_count": 156
        }
      ]
    },
    {
      "cell_type": "code",
      "source": [
        "# A step can also be used after a second colon to, say, take every other element:\n",
        "print(seq[::2])\n",
        "\n",
        "#A clever use of this is to pass -1, which has the useful effect of reversing a list or tuple:\n",
        "print(seq[::-1])"
      ],
      "metadata": {
        "colab": {
          "base_uri": "https://localhost:8080/"
        },
        "id": "KaL1VNBvRcHF",
        "outputId": "08c7cb6c-7fd9-4e0d-ea12-db1e22ffb7ef"
      },
      "execution_count": null,
      "outputs": [
        {
          "output_type": "stream",
          "name": "stdout",
          "text": [
            "[7, 3, 3, 0]\n",
            "[1, 0, 6, 3, 6, 3, 2, 7]\n"
          ]
        }
      ]
    },
    {
      "cell_type": "markdown",
      "source": [
        "## **Dictionary**\n",
        "The dictionary or dict may be the most important built-in Python data structure. In other programming languages, dictionaries are sometimes called hash maps or associative arrays. A dictionary stores a collection of key-value pairs, where key and value are Python objects. Each key is associated with a value so that a value can be conveniently retrieved, inserted, modified, or deleted given a particular key. One approach for creating a dictionary is to use curly braces {} and colons to separate keys and values:"
      ],
      "metadata": {
        "id": "yy8vOLxURtI_"
      }
    },
    {
      "cell_type": "code",
      "source": [
        "greek_alphabet = {\n",
        "    \"Alpha\": \"α\",\n",
        "    \"Beta\": \"β\",\n",
        "    \"Gamma\": \"γ\",\n",
        "    \"Delta\": \"δ\",\n",
        "    \"Epsilon\": \"ε\",\n",
        "}\n",
        "print(greek_alphabet)"
      ],
      "metadata": {
        "colab": {
          "base_uri": "https://localhost:8080/"
        },
        "id": "tGIrfDriRu1M",
        "outputId": "0c556f96-3a00-40a0-e09a-602bcc86c8d3"
      },
      "execution_count": null,
      "outputs": [
        {
          "output_type": "stream",
          "name": "stdout",
          "text": [
            "{'Alpha': 'α', 'Beta': 'β', 'Gamma': 'γ', 'Delta': 'δ', 'Epsilon': 'ε'}\n"
          ]
        }
      ]
    },
    {
      "cell_type": "code",
      "source": [
        "greek_alphabet['Alpha']"
      ],
      "metadata": {
        "colab": {
          "base_uri": "https://localhost:8080/",
          "height": 35
        },
        "id": "FDITQeIOSZlh",
        "outputId": "b8b88329-3728-481f-fbbb-122464d9d789"
      },
      "execution_count": null,
      "outputs": [
        {
          "output_type": "execute_result",
          "data": {
            "text/plain": [
              "'α'"
            ],
            "application/vnd.google.colaboratory.intrinsic+json": {
              "type": "string"
            }
          },
          "metadata": {},
          "execution_count": 159
        }
      ]
    },
    {
      "cell_type": "code",
      "source": [
        "# You can access, insert, or set elements using the same syntax as for accessing elements of a list or tuple\n",
        "d1 = {\"a\": \"some value\", \"b\": [1, 2, 3, 4]}\n",
        "d1[7] = \"an integer\"\n",
        "print(d1['b'])"
      ],
      "metadata": {
        "colab": {
          "base_uri": "https://localhost:8080/"
        },
        "id": "Zvvl06yTSo7Q",
        "outputId": "d86ddb08-4810-4bf0-f41d-b526a1e75a9d"
      },
      "execution_count": null,
      "outputs": [
        {
          "output_type": "stream",
          "name": "stdout",
          "text": [
            "[1, 2, 3, 4]\n"
          ]
        }
      ]
    },
    {
      "cell_type": "code",
      "source": [
        "# You can check if a dictionary contains a key using the same syntax used for checking whether a list or tuple contains a value:\n",
        "print(\"b\" in d1)\n",
        "\n",
        "# You can delete values using either the del keyword or the pop method (which simultaneously returns the value and deletes the key):\n",
        "\n",
        "d1[5] = \"some value\"\n",
        "print(d1)\n",
        "\n",
        "d1[\"dummy\"] = \"another value\"\n",
        "print(d1)\n",
        "\n",
        "del d1[5]\n",
        "print(d1)\n",
        "\n",
        "ret = d1.pop(\"dummy\")\n",
        "print(ret)\n",
        "print(d1)\n"
      ],
      "metadata": {
        "colab": {
          "base_uri": "https://localhost:8080/"
        },
        "id": "ACidG600S9uS",
        "outputId": "add8c121-3163-4968-8f6e-c61c1a15844d"
      },
      "execution_count": null,
      "outputs": [
        {
          "output_type": "stream",
          "name": "stdout",
          "text": [
            "True\n",
            "{'a': 'some value', 'b': [1, 2, 3, 4], 7: 'an integer', 5: 'some value'}\n",
            "{'a': 'some value', 'b': [1, 2, 3, 4], 7: 'an integer', 5: 'some value', 'dummy': 'another value'}\n",
            "{'a': 'some value', 'b': [1, 2, 3, 4], 7: 'an integer', 'dummy': 'another value'}\n",
            "another value\n",
            "{'a': 'some value', 'b': [1, 2, 3, 4], 7: 'an integer'}\n"
          ]
        }
      ]
    },
    {
      "cell_type": "code",
      "source": [
        "# The keys and values method gives you iterators of the dictionary’s\n",
        "# keys and values, respectively. The order of the keys depends on the\n",
        "# order of their insertion, and these functions output the keys\n",
        "# and values in the same respective order:\n",
        "\n",
        "print(list(d1.keys()))\n",
        "print(list(d1.values()))\n",
        "\n",
        "print(d1.items())\n",
        "\n",
        "# If you need to iterate over both the keys and values, you can use the items method to iterate over the keys and values as 2-tuples:\n",
        "for k, v in d1.items():\n",
        "    print(k, v)\n"
      ],
      "metadata": {
        "colab": {
          "base_uri": "https://localhost:8080/"
        },
        "id": "Q7jBGadOS_lM",
        "outputId": "26c17d92-8ebb-46cb-d390-8aadb9abb01d"
      },
      "execution_count": null,
      "outputs": [
        {
          "output_type": "stream",
          "name": "stdout",
          "text": [
            "['a', 'b', 7]\n",
            "['some value', [1, 2, 3, 4], 'an integer']\n",
            "dict_items([('a', 'some value'), ('b', [1, 2, 3, 4]), (7, 'an integer')])\n",
            "a some value\n",
            "b [1, 2, 3, 4]\n",
            "7 an integer\n"
          ]
        }
      ]
    },
    {
      "cell_type": "code",
      "source": [
        "# Creating dictionaries from sequences\n",
        "\n",
        "cirilic_letters = ['А', 'Б', 'В', 'Г', 'Д', 'Е']\n",
        "latin_letters = ['A', 'B', 'V', 'G', 'D', 'E']\n",
        "\n",
        "alphabet_dict = {}\n",
        "for cirilic, latin in zip(cirilic_letters, latin_letters):\n",
        "  alphabet_dict[cirilic] = latin\n",
        "\n",
        "print(alphabet_dict)\n",
        "\n",
        "\n",
        "# Since a dictionary is essentially a collection of 2-tuples, the dict function accepts a list of 2-tuples\n",
        "\n",
        "tuples = zip(range(5), reversed(range(5)))\n",
        "print(tuples)\n",
        "print(dict(tuples))"
      ],
      "metadata": {
        "colab": {
          "base_uri": "https://localhost:8080/"
        },
        "id": "CInq9KJlXgEf",
        "outputId": "3c05f43b-da82-432d-fa31-ada3df5f3bda"
      },
      "execution_count": null,
      "outputs": [
        {
          "output_type": "stream",
          "name": "stdout",
          "text": [
            "{'А': 'A', 'Б': 'B', 'В': 'V', 'Г': 'G', 'Д': 'D', 'Е': 'E'}\n",
            "<zip object at 0x7f48083e3940>\n",
            "{0: 4, 1: 3, 2: 2, 3: 1, 4: 0}\n"
          ]
        }
      ]
    },
    {
      "cell_type": "markdown",
      "source": [
        "get by default will return None if the key is not present, while pop will raise an exception. With setting values, it may be that the values in a dictionary are another kind of collection, like a list. For example, you could imagine categorizing a list of words by their first letters as a dictionary of lists:"
      ],
      "metadata": {
        "id": "VCze2zSzZeBX"
      }
    },
    {
      "cell_type": "code",
      "source": [
        "words = [\"apple\", \"bat\", \"bar\", \"atom\", \"book\"]\n",
        "\n",
        "by_letter = {}\n",
        "\n",
        "for word in words:\n",
        "  letter = word[0]\n",
        "  if letter not in by_letter:\n",
        "    by_letter[letter] = [word]\n",
        "  else:\n",
        "    by_letter[letter].append(word)\n",
        "\n",
        "print(by_letter)\n",
        "\n",
        "value = by_letter.get('c', 'NOT FOUND')\n",
        "print(value)"
      ],
      "metadata": {
        "colab": {
          "base_uri": "https://localhost:8080/"
        },
        "id": "OGB1z0KzYQTJ",
        "outputId": "d6722e28-3170-4d2a-fdfe-780109533ffd"
      },
      "execution_count": null,
      "outputs": [
        {
          "output_type": "stream",
          "name": "stdout",
          "text": [
            "{'a': ['apple', 'atom'], 'b': ['bat', 'bar', 'book']}\n",
            "NOT FOUND\n"
          ]
        }
      ]
    },
    {
      "cell_type": "code",
      "source": [
        "by_letter = {}\n",
        "for word in words:\n",
        "  letter = word[0]\n",
        "  by_letter.setdefault(letter, []).append(word)\n",
        "\n",
        "print(by_letter)"
      ],
      "metadata": {
        "colab": {
          "base_uri": "https://localhost:8080/"
        },
        "id": "jU51FzRXZGw_",
        "outputId": "b122ac89-2828-43b4-cc05-5452b12295d6"
      },
      "execution_count": null,
      "outputs": [
        {
          "output_type": "stream",
          "name": "stdout",
          "text": [
            "{'a': ['apple', 'atom'], 'b': ['bat', 'bar', 'book']}\n"
          ]
        }
      ]
    },
    {
      "cell_type": "markdown",
      "source": [
        "The built-in collections module has a useful class, defaultdict, which makes this even easier. To create one, you pass a type or function for generating the default value for each slot in the dictionary:"
      ],
      "metadata": {
        "id": "vLZM-JLYZqeL"
      }
    },
    {
      "cell_type": "code",
      "source": [
        "from collections import defaultdict\n",
        "\n",
        "by_letter = defaultdict(list)\n",
        "for word in words:\n",
        "  by_letter[word[0]].append(word)\n",
        "\n",
        "print(by_letter)"
      ],
      "metadata": {
        "colab": {
          "base_uri": "https://localhost:8080/"
        },
        "id": "_8GiuaICZrb8",
        "outputId": "47b2cf74-ce84-46af-9957-84ac817aa7a0"
      },
      "execution_count": null,
      "outputs": [
        {
          "output_type": "stream",
          "name": "stdout",
          "text": [
            "defaultdict(<class 'list'>, {'a': ['apple', 'atom'], 'b': ['bat', 'bar', 'book']})\n"
          ]
        }
      ]
    },
    {
      "cell_type": "markdown",
      "source": [
        "**Valid dictionary key types**\n",
        "While the values of a dictionary can be any Python object, the keys generally have to be immutable objects like scalar types (int, float, string) or tuples (all the objects in the tuple need to be immutable, too). The technical term here is hashability. You can check whether an object is hashable (can be used as a key in a dictionary) with the hash function:"
      ],
      "metadata": {
        "id": "E87AyvQTZ-OK"
      }
    },
    {
      "cell_type": "code",
      "source": [
        "print(hash(\"string\"))\n",
        "print(hash((1, 2, (2, 3))))\n",
        "# hash((1, 2, [2, 3])) # fails because lists are mutable"
      ],
      "metadata": {
        "colab": {
          "base_uri": "https://localhost:8080/"
        },
        "id": "kmgCSPD-aAFj",
        "outputId": "27140e42-9612-4ee0-8cd2-c03dcddf44fe"
      },
      "execution_count": null,
      "outputs": [
        {
          "output_type": "stream",
          "name": "stdout",
          "text": [
            "6329962141983128110\n",
            "-9209053662355515447\n"
          ]
        }
      ]
    },
    {
      "cell_type": "code",
      "source": [
        "# To use a list as a key, one option is to convert it to a tuple, which can be hashed as long as its elements also can be:\n",
        "\n",
        "d = {}\n",
        "d[tuple([1, 2, 3])] = 5\n",
        "print(d)"
      ],
      "metadata": {
        "colab": {
          "base_uri": "https://localhost:8080/"
        },
        "id": "NQAyvOhNaL35",
        "outputId": "48d1e8b2-6032-4a87-fe27-f10270b1f970"
      },
      "execution_count": null,
      "outputs": [
        {
          "output_type": "stream",
          "name": "stdout",
          "text": [
            "{(1, 2, 3): 5}\n"
          ]
        }
      ]
    },
    {
      "cell_type": "markdown",
      "source": [
        "## **Set**\n",
        "A set is an unordered collection of unique elements. A set can be created in two ways: via the set function or via a set literal with curly braces:"
      ],
      "metadata": {
        "id": "Fc4dolKSacaz"
      }
    },
    {
      "cell_type": "code",
      "source": [
        "set([2, 2, 2, 1, 3, 3])"
      ],
      "metadata": {
        "colab": {
          "base_uri": "https://localhost:8080/"
        },
        "id": "MLXhEEjIaeEA",
        "outputId": "8cf20fea-ac4e-44b4-9084-045e244ba9f1"
      },
      "execution_count": null,
      "outputs": [
        {
          "output_type": "execute_result",
          "data": {
            "text/plain": [
              "{1, 2, 3}"
            ]
          },
          "metadata": {},
          "execution_count": 169
        }
      ]
    },
    {
      "cell_type": "code",
      "source": [
        "# Sets support mathematical set operations like union, intersection, difference, and symmetric difference. Consider these two example sets:\n",
        "\n",
        "a = {1, 2, 3, 4, 5}\n",
        "\n",
        "b = {3, 4, 5, 6, 7, 8}\n",
        "\n",
        "# The union of these two sets is the set of distinct elements occurring in either set. This can be computed with either the union method or the | binary operator:\n",
        "\n",
        "print(a.union(b))\n",
        "print(a | b)\n",
        "\n",
        "print(a.intersection(b))\n",
        "print(a & b)\n",
        "\n"
      ],
      "metadata": {
        "colab": {
          "base_uri": "https://localhost:8080/"
        },
        "id": "i44RCoMqn9vV",
        "outputId": "d9975e9a-e683-4ef8-d750-24add0bfd62d"
      },
      "execution_count": null,
      "outputs": [
        {
          "output_type": "stream",
          "name": "stdout",
          "text": [
            "{1, 2, 3, 4, 5, 6, 7, 8}\n",
            "{1, 2, 3, 4, 5, 6, 7, 8}\n",
            "{3, 4, 5}\n",
            "{3, 4, 5}\n"
          ]
        }
      ]
    },
    {
      "cell_type": "code",
      "source": [
        "a_set = {1, 2, 3, 4, 5}\n",
        "print({1, 2, 3}.issubset(a_set))\n",
        "\n",
        "print(a_set.issuperset({1, 2, 3}))\n",
        "\n",
        "# Sets are equal if and only if their contents are equal:\n",
        "print({1, 2, 3} == {3, 2, 1})\n"
      ],
      "metadata": {
        "colab": {
          "base_uri": "https://localhost:8080/"
        },
        "id": "YiKrazU_odbF",
        "outputId": "5514c5cb-b719-49fe-d383-215a187e265f"
      },
      "execution_count": null,
      "outputs": [
        {
          "output_type": "stream",
          "name": "stdout",
          "text": [
            "True\n",
            "True\n",
            "True\n"
          ]
        }
      ]
    },
    {
      "cell_type": "markdown",
      "source": [
        "## **Built-In Sequence Functions**\n",
        "Python has a handful of useful sequence functions that you should familiarize yourself with and use at any opportunity."
      ],
      "metadata": {
        "id": "u1maGBR-pMpx"
      }
    },
    {
      "cell_type": "code",
      "source": [
        "# enumerate\n",
        "# It’s common when iterating over a sequence to want to keep track of the index of the current item. A do-it-yourself approach would look like:\n",
        "\n",
        "l = ['a', 'b', 'c', 'd', 'e']\n",
        "i = 0\n",
        "for value in l:\n",
        "  print(i, value)\n",
        "  i += 1\n",
        "\n",
        "index = 0\n",
        "for i, value in enumerate(l):\n",
        "   print(i, value)\n",
        "   index += 1"
      ],
      "metadata": {
        "colab": {
          "base_uri": "https://localhost:8080/"
        },
        "id": "i7poyTy0pQVI",
        "outputId": "5b7b4432-37e9-421d-caf0-469fe8b04e30"
      },
      "execution_count": null,
      "outputs": [
        {
          "output_type": "stream",
          "name": "stdout",
          "text": [
            "0 a\n",
            "1 b\n",
            "2 c\n",
            "3 d\n",
            "4 e\n",
            "0 a\n",
            "1 b\n",
            "2 c\n",
            "3 d\n",
            "4 e\n"
          ]
        }
      ]
    },
    {
      "cell_type": "code",
      "source": [
        "# sorted\n",
        "# The sorted function returns a new sorted list from the elements of any sequence\n",
        "\n",
        "print(sorted([7, 1, 2, 6, 0, 3, 2]))\n",
        "\n",
        "sorted(\"horse race\")\n",
        "\n",
        "# zip\n",
        "# zip “pairs” up the elements of a number of lists, tuples, or other sequences to create a list of tuples:\n",
        "\n",
        "seq1 = [\"foo\", \"bar\", \"baz\"]\n",
        "seq2 = [\"one\", \"two\", \"three\"]\n",
        "zipped = zip(seq1, seq2)\n",
        "print(list(zipped))\n",
        "\n",
        "for index, (a, b) in enumerate(zip(seq1, seq2)):\n",
        "    print(f\"{index}: {a}, {b}\")"
      ],
      "metadata": {
        "colab": {
          "base_uri": "https://localhost:8080/"
        },
        "id": "TUq8MdSJOomP",
        "outputId": "414c1717-8b0d-4a79-f9ce-882bfc7966cf"
      },
      "execution_count": null,
      "outputs": [
        {
          "output_type": "stream",
          "name": "stdout",
          "text": [
            "[0, 1, 2, 2, 3, 6, 7]\n",
            "[('foo', 'one'), ('bar', 'two'), ('baz', 'three')]\n",
            "0: foo, one\n",
            "1: bar, two\n",
            "2: baz, three\n"
          ]
        }
      ]
    },
    {
      "cell_type": "code",
      "source": [
        "# reversed\n",
        "# reversed iterates over the elements of a sequence in reverse order\n",
        "\n",
        "print(list(reversed(range(10))))"
      ],
      "metadata": {
        "colab": {
          "base_uri": "https://localhost:8080/"
        },
        "id": "jJYog6eDPHQk",
        "outputId": "ff226b3f-6e30-4cdc-8cd3-ac72644fb8b6"
      },
      "execution_count": null,
      "outputs": [
        {
          "output_type": "stream",
          "name": "stdout",
          "text": [
            "[9, 8, 7, 6, 5, 4, 3, 2, 1, 0]\n"
          ]
        }
      ]
    },
    {
      "cell_type": "markdown",
      "source": [
        "## **List, Set, and Dictionary Comprehensions**\n",
        "\n",
        "List comprehensions are a convenient and widely used Python language feature. They allow you to concisely form a new list by filtering the elements of a collection, transforming the elements passing the filter into one concise expression.\n",
        "\n",
        "\n",
        "\n"
      ],
      "metadata": {
        "id": "tM_pPJl0PVDO"
      }
    },
    {
      "cell_type": "code",
      "source": [
        "strings = [\"a\", \"as\", \"bat\", \"car\", \"dove\", \"python\"]\n",
        "[x.upper() for x in strings if len(x) > 2]"
      ],
      "metadata": {
        "colab": {
          "base_uri": "https://localhost:8080/"
        },
        "id": "RMUoDWqjPZqd",
        "outputId": "939f512b-a7fd-46d5-cbcf-825729435879"
      },
      "execution_count": null,
      "outputs": [
        {
          "output_type": "execute_result",
          "data": {
            "text/plain": [
              "['BAT', 'CAR', 'DOVE', 'PYTHON']"
            ]
          },
          "metadata": {},
          "execution_count": 175
        }
      ]
    },
    {
      "cell_type": "code",
      "source": [
        "unique_lengths = {len(x) for x in strings}\n",
        "print(unique_lengths)\n",
        "type(unique_lengths)"
      ],
      "metadata": {
        "colab": {
          "base_uri": "https://localhost:8080/"
        },
        "id": "rcr4GoT6Pu_C",
        "outputId": "02b80cc3-4b84-4bce-deac-077c24183c3a"
      },
      "execution_count": null,
      "outputs": [
        {
          "output_type": "stream",
          "name": "stdout",
          "text": [
            "{1, 2, 3, 4, 6}\n"
          ]
        },
        {
          "output_type": "execute_result",
          "data": {
            "text/plain": [
              "set"
            ]
          },
          "metadata": {},
          "execution_count": 176
        }
      ]
    },
    {
      "cell_type": "code",
      "source": [
        "loc_mapping = {value: index for index, value in enumerate(strings)}\n",
        "loc_mapping"
      ],
      "metadata": {
        "colab": {
          "base_uri": "https://localhost:8080/"
        },
        "id": "HCj7qvlqPpRa",
        "outputId": "726c9090-6c5d-4311-a9df-a3b909170cad"
      },
      "execution_count": null,
      "outputs": [
        {
          "output_type": "execute_result",
          "data": {
            "text/plain": [
              "{'a': 0, 'as': 1, 'bat': 2, 'car': 3, 'dove': 4, 'python': 5}"
            ]
          },
          "metadata": {},
          "execution_count": 177
        }
      ]
    },
    {
      "cell_type": "code",
      "source": [
        "# Nested list comprehensions\n",
        "\n",
        "all_data = [[\"John\", \"Emily\", \"Michael\", \"Mary\", \"Steven\"],\n",
        "            [\"Maria\", \"Juan\", \"Javier\", \"Natalia\", \"Pilar\"]]\n",
        "\n",
        "names_of_interest = []\n",
        "for names in all_data:\n",
        "    enough_as = [name for name in names if name.count(\"a\") >= 2]\n",
        "    names_of_interest.extend(enough_as)\n",
        "\n",
        "print(names_of_interest)\n",
        "\n",
        "# You can actually wrap this whole operation up in a single nested list comprehension, which will look like:\n",
        "\n",
        "result = [name for names in all_data for name in names\n",
        "              if name.count(\"a\") >= 2]\n",
        "\n",
        "print(result)\n",
        "\n",
        "\"\"\"\n",
        "At first, nested list comprehensions are a bit hard to wrap your head around.\n",
        "The for parts of the list comprehension are arranged according to the order of nesting,\n",
        "and any filter condition is put at the end as before.\n",
        "\"\"\""
      ],
      "metadata": {
        "colab": {
          "base_uri": "https://localhost:8080/",
          "height": 87
        },
        "id": "zFarSFbqQOvT",
        "outputId": "75fd4993-f31f-47f1-abaa-a825ae042201"
      },
      "execution_count": null,
      "outputs": [
        {
          "output_type": "stream",
          "name": "stdout",
          "text": [
            "['Maria', 'Natalia']\n",
            "['Maria', 'Natalia']\n"
          ]
        },
        {
          "output_type": "execute_result",
          "data": {
            "text/plain": [
              "'\\nAt first, nested list comprehensions are a bit hard to wrap your head around.\\nThe for parts of the list comprehension are arranged according to the order of nesting,\\nand any filter condition is put at the end as before.\\n'"
            ],
            "application/vnd.google.colaboratory.intrinsic+json": {
              "type": "string"
            }
          },
          "metadata": {},
          "execution_count": 178
        }
      ]
    },
    {
      "cell_type": "code",
      "source": [
        "some_tuples = [(1, 2, 3), (4, 5, 6), (7, 8, 9)]\n",
        "flattened = [x for tup in some_tuples for x in tup]\n",
        "print(flattened)"
      ],
      "metadata": {
        "colab": {
          "base_uri": "https://localhost:8080/"
        },
        "id": "xIQTPZoNRdv1",
        "outputId": "4fa114ec-b80a-423b-ac65-fef98014a26b"
      },
      "execution_count": null,
      "outputs": [
        {
          "output_type": "stream",
          "name": "stdout",
          "text": [
            "[1, 2, 3, 4, 5, 6, 7, 8, 9]\n"
          ]
        }
      ]
    },
    {
      "cell_type": "markdown",
      "source": [
        "# **Functions**\n",
        "\n",
        "Functions are the primary and most important method of code organization and reuse in Python. As a rule of thumb, if you anticipate needing to repeat the same or very similar code more than once, it may be worth writing a reusable function. Functions can also help make your code more readable by giving a name to a group of Python statements.\n",
        "\n",
        "Functions are declared with the def keyword. A function contains a block of code with an optional use of the return keyword"
      ],
      "metadata": {
        "id": "D8Uyj_8HSAux"
      }
    },
    {
      "cell_type": "code",
      "source": [
        "def my_function(x, y):\n",
        "    return x + y\n",
        "\n",
        "print(my_function(2,3))"
      ],
      "metadata": {
        "colab": {
          "base_uri": "https://localhost:8080/"
        },
        "id": "LlWxctFySQsm",
        "outputId": "837d0a4c-3a56-4a33-e0c3-6e530684c27f"
      },
      "execution_count": null,
      "outputs": [
        {
          "output_type": "stream",
          "name": "stdout",
          "text": [
            "5\n"
          ]
        }
      ]
    },
    {
      "cell_type": "code",
      "source": [
        "def function_without_return(x):\n",
        "    print(x)\n",
        "\n",
        "result = function_without_return(\"hello!\")\n",
        "\n",
        "print(result)"
      ],
      "metadata": {
        "colab": {
          "base_uri": "https://localhost:8080/"
        },
        "id": "r9jtZSsESYhi",
        "outputId": "db15aeff-c905-46c6-b000-4111941aaef7"
      },
      "execution_count": null,
      "outputs": [
        {
          "output_type": "stream",
          "name": "stdout",
          "text": [
            "hello!\n",
            "None\n"
          ]
        }
      ]
    },
    {
      "cell_type": "code",
      "source": [
        "# Each function can have positional arguments and keyword arguments.\n",
        "# Keyword arguments are most commonly used to specify default values or optional arguments.\n",
        "# Here we will define a function with an optional z argument with the default value 1.5\n",
        "\n",
        "def my_function2(x, y, z=1.5):\n",
        "    if z > 1:\n",
        "        return z * (x + y)\n",
        "    else:\n",
        "        return z / (x + y)\n",
        "\n",
        "print(my_function2(5, 6, z=0.7))\n",
        "print(my_function2(3.14, 7, 3.5))\n",
        "print(my_function2(10, 20))\n"
      ],
      "metadata": {
        "colab": {
          "base_uri": "https://localhost:8080/"
        },
        "id": "fk_lAbH_SsRR",
        "outputId": "085fa7f4-dbef-4268-c0fd-65fda38540f2"
      },
      "execution_count": null,
      "outputs": [
        {
          "output_type": "stream",
          "name": "stdout",
          "text": [
            "0.06363636363636363\n",
            "35.49\n",
            "45.0\n"
          ]
        }
      ]
    },
    {
      "cell_type": "markdown",
      "source": [
        "## **Namespaces, Scope, and Local Functions**\n",
        "\n",
        "Functions can access variables created inside the function as well as those outside the function in higher (or even global) scopes. An alternative and more descriptive name describing a variable scope in Python is a namespace. Any variables that are assigned within a function by default are assigned to the local namespace. The local namespace is created when the function is called and is immediately populated by the function’s arguments. After the function is finished, the local namespace is destroyed (with some exceptions that are outside the purview of this chapter)."
      ],
      "metadata": {
        "id": "1lS224dxTN5k"
      }
    },
    {
      "cell_type": "code",
      "source": [
        "a = []\n",
        "\n",
        "def func():\n",
        "    a = []\n",
        "    for i in range(5):\n",
        "        a.append(i)\n",
        "func()\n",
        "print(a)\n",
        "\n",
        "func()\n",
        "print(a)"
      ],
      "metadata": {
        "id": "s-T6S0PyTSWq",
        "colab": {
          "base_uri": "https://localhost:8080/"
        },
        "outputId": "95420ed6-861d-457b-d8cb-3a469e86bbf1"
      },
      "execution_count": null,
      "outputs": [
        {
          "output_type": "stream",
          "name": "stdout",
          "text": [
            "[]\n",
            "[]\n"
          ]
        }
      ]
    },
    {
      "cell_type": "code",
      "source": [
        "a = []\n",
        "\n",
        "def func():\n",
        "  global a\n",
        "  a = []\n",
        "  for i in range(5):\n",
        "      a.append(i)\n",
        "\n",
        "func()\n",
        "print(a)\n",
        "\n",
        "func()\n",
        "print(a)"
      ],
      "metadata": {
        "colab": {
          "base_uri": "https://localhost:8080/"
        },
        "id": "QeYHhy0oUUyY",
        "outputId": "1f54671d-7738-4efe-aac0-8c5363d4d9bf"
      },
      "execution_count": null,
      "outputs": [
        {
          "output_type": "stream",
          "name": "stdout",
          "text": [
            "[0, 1, 2, 3, 4]\n",
            "[0, 1, 2, 3, 4]\n"
          ]
        }
      ]
    },
    {
      "cell_type": "markdown",
      "source": [
        "## **Returning Multiple Values**"
      ],
      "metadata": {
        "id": "Bc6W7u2TUirM"
      }
    },
    {
      "cell_type": "code",
      "source": [
        "def f():\n",
        "    a = 5\n",
        "    b = 6\n",
        "    c = 7\n",
        "    return a, b, c\n",
        "\n",
        "a, b, c = f()\n",
        "\n",
        "print(a, b, c)\n",
        "\n",
        "# the function is actually just returning one object,\n",
        "# a tuple, which is then being unpacked into the result variables.\n",
        "# In the preceding example, we could have done this instead:\n",
        "\n",
        "return_value = f()\n",
        "print(return_value)"
      ],
      "metadata": {
        "colab": {
          "base_uri": "https://localhost:8080/"
        },
        "id": "ejSJPgD4Ukjf",
        "outputId": "6412068b-9c4d-47af-b169-f0484f43cc1b"
      },
      "execution_count": null,
      "outputs": [
        {
          "output_type": "stream",
          "name": "stdout",
          "text": [
            "5 6 7\n",
            "(5, 6, 7)\n"
          ]
        }
      ]
    },
    {
      "cell_type": "code",
      "source": [
        "states = [\"   Alabama \", \"Georgia!\", \"Georgia\", \"georgia\", \"FlOrIda\",\n",
        "            \"south   carolina##\", \"West virginia?\"]\n",
        "\n",
        "import re\n",
        "\n",
        "def clean_strings(strings):\n",
        "    result = []\n",
        "    for value in strings:\n",
        "        value = value.strip()\n",
        "        value = re.sub(\"[!#?]\", \"\", value)\n",
        "        value = value.title()\n",
        "        result.append(value)\n",
        "    return result\n",
        "\n",
        "print(clean_strings(states))\n",
        "\n",
        "# An alternative approach that you may find useful is to\n",
        "# make a list of the operations you want to apply to a\n",
        "# particular set of strings\n",
        "\n",
        "def remove_punctuation(value):\n",
        "    return re.sub(\"[!#?]\", \"\", value)\n",
        "\n",
        "clean_ops = [str.strip, remove_punctuation, str.title]\n",
        "\n",
        "def clean_strings(strings, ops):\n",
        "    result = []\n",
        "    for value in strings:\n",
        "        for func in ops:\n",
        "            value = func(value)\n",
        "        result.append(value)\n",
        "    return result\n",
        "\n",
        "print(clean_strings(states, clean_ops))\n",
        "\n",
        "\"\"\"\n",
        "A more functional pattern like this enables you to easily modify\n",
        "how the strings are transformed at a very high level.\n",
        "The clean_strings function is also now more reusable and generic.\n",
        "\"\"\""
      ],
      "metadata": {
        "colab": {
          "base_uri": "https://localhost:8080/",
          "height": 87
        },
        "id": "IoRPwVqMVWSi",
        "outputId": "4e072bf5-506f-4f53-d01e-c481572a6835"
      },
      "execution_count": null,
      "outputs": [
        {
          "output_type": "stream",
          "name": "stdout",
          "text": [
            "['Alabama', 'Georgia', 'Georgia', 'Georgia', 'Florida', 'South   Carolina', 'West Virginia']\n",
            "['Alabama', 'Georgia', 'Georgia', 'Georgia', 'Florida', 'South   Carolina', 'West Virginia']\n"
          ]
        },
        {
          "output_type": "execute_result",
          "data": {
            "text/plain": [
              "'\\nA more functional pattern like this enables you to easily modify \\nhow the strings are transformed at a very high level. \\nThe clean_strings function is also now more reusable and generic.\\n'"
            ],
            "application/vnd.google.colaboratory.intrinsic+json": {
              "type": "string"
            }
          },
          "metadata": {},
          "execution_count": 186
        }
      ]
    },
    {
      "cell_type": "markdown",
      "source": [
        "## **Anonymous (Lambda) Functions**\n",
        "\n",
        "Python has support for so-called anonymous or lambda functions, which are a way of writing functions consisting of a single statement, the result of which is the return value. They are defined with the lambda keyword, which has no meaning other than “we are declaring an anonymous function”"
      ],
      "metadata": {
        "id": "vq-tQ-12WrmY"
      }
    },
    {
      "cell_type": "code",
      "source": [
        "def apply_to_list(some_list, f):\n",
        "   return [f(x) for x in some_list]\n",
        "\n",
        "ints = [4, 0, 1, 5, 6]\n",
        "\n",
        "equiv_anon = lambda x: x * 2\n",
        "\n",
        "ints = apply_to_list(ints, lambda x: x * 2)\n",
        "\n",
        "ints"
      ],
      "metadata": {
        "colab": {
          "base_uri": "https://localhost:8080/"
        },
        "id": "j2QCWiHRWu4U",
        "outputId": "332db7bb-fc06-4082-f88f-d4aff855b16f"
      },
      "execution_count": null,
      "outputs": [
        {
          "output_type": "execute_result",
          "data": {
            "text/plain": [
              "[8, 0, 2, 10, 12]"
            ]
          },
          "metadata": {},
          "execution_count": 187
        }
      ]
    },
    {
      "cell_type": "code",
      "source": [
        "strings = [\"foo\", \"card\", \"bar\", \"aaaa\", \"abab\"]\n",
        "strings.sort(key=lambda x: len(set(x)))\n",
        "\n",
        "strings"
      ],
      "metadata": {
        "colab": {
          "base_uri": "https://localhost:8080/"
        },
        "id": "3Z1CLP00dR1f",
        "outputId": "8fda9bf9-2363-4cc4-d8bb-b6ba96f5a454"
      },
      "execution_count": null,
      "outputs": [
        {
          "output_type": "execute_result",
          "data": {
            "text/plain": [
              "['aaaa', 'foo', 'abab', 'bar', 'card']"
            ]
          },
          "metadata": {},
          "execution_count": 188
        }
      ]
    },
    {
      "cell_type": "markdown",
      "source": [
        "## **Generators**\n",
        "\n",
        "Many objects in Python support iteration, such as over objects in a list or lines in a file. This is accomplished by means of the iterator protocol, a generic way to make objects iterable.\n",
        "\n",
        "A generator is a convenient way, similar to writing a normal function, to construct a new iterable object. Whereas normal functions execute and return a single result at a time, generators can return a sequence of multiple values by pausing and resuming execution each time the generator is used. To create a generator, use the yield keyword instead of return in a function."
      ],
      "metadata": {
        "id": "3KMJqEPMdgV2"
      }
    },
    {
      "cell_type": "code",
      "source": [
        "def squares(n=10):\n",
        "    for i in range(1, n + 1):\n",
        "        yield i ** 2\n",
        "\n",
        "gen = squares(5)\n",
        "\n",
        "print(gen)\n",
        "\n",
        "for x in gen:\n",
        "    print(x, end=\" \")\n",
        "\n"
      ],
      "metadata": {
        "colab": {
          "base_uri": "https://localhost:8080/"
        },
        "id": "_HbmZ4didxWL",
        "outputId": "0edd72bb-9ebc-4057-e614-5529363a066f"
      },
      "execution_count": null,
      "outputs": [
        {
          "output_type": "stream",
          "name": "stdout",
          "text": [
            "<generator object squares at 0x7f48082085f0>\n",
            "1 4 9 16 25 "
          ]
        }
      ]
    },
    {
      "cell_type": "markdown",
      "source": [
        "## **Generator expressions**\n",
        "Another way to make a generator is by using a generator expression. This is a generator analogue to list, dictionary, and set comprehensions. To create one, enclose what would otherwise be a list comprehension within parentheses instead of brackets"
      ],
      "metadata": {
        "id": "SMce_xeueewU"
      }
    },
    {
      "cell_type": "code",
      "source": [
        "gen = (x ** 2 for x in range(10))\n",
        "\n",
        "for x in gen:\n",
        "    print(x, end=\" \")\n"
      ],
      "metadata": {
        "colab": {
          "base_uri": "https://localhost:8080/"
        },
        "id": "Yy8q3E8VdiJr",
        "outputId": "780c110b-9cdb-4ce3-a155-17e5601be9c9"
      },
      "execution_count": null,
      "outputs": [
        {
          "output_type": "stream",
          "name": "stdout",
          "text": [
            "0 1 4 9 16 25 36 49 64 81 "
          ]
        }
      ]
    },
    {
      "cell_type": "code",
      "source": [
        "print(sum(x ** 2 for x in range(100)))\n",
        "print(dict((i, i ** 2) for i in range(5)))"
      ],
      "metadata": {
        "colab": {
          "base_uri": "https://localhost:8080/"
        },
        "id": "YtnebkhWfAli",
        "outputId": "f416cdca-047d-4d68-a55a-c1e10443607a"
      },
      "execution_count": null,
      "outputs": [
        {
          "output_type": "stream",
          "name": "stdout",
          "text": [
            "328350\n",
            "{0: 0, 1: 1, 2: 4, 3: 9, 4: 16}\n"
          ]
        }
      ]
    },
    {
      "cell_type": "markdown",
      "source": [
        "## **itertools module**\n",
        "\n",
        "The standard library itertools module has a collection of generators for many common data algorithms. For example, groupby takes any sequence and a function, grouping consecutive elements in the sequence by return value of the function."
      ],
      "metadata": {
        "id": "xLm90BfMHzQ8"
      }
    },
    {
      "cell_type": "code",
      "source": [
        "import itertools\n",
        "\n",
        "def first_letter(x):\n",
        "   return x[0]\n",
        "\n",
        "names = [\"Alan\", \"Adam\", \"Wes\", \"Will\", \"Albert\", \"Steven\"]\n",
        "\n",
        "for letter, names in itertools.groupby(names, first_letter):\n",
        "   print(letter, list(names)) # names is a generator"
      ],
      "metadata": {
        "colab": {
          "base_uri": "https://localhost:8080/"
        },
        "id": "7UC0cTyIH5kx",
        "outputId": "b3f4f928-14ac-460b-9924-692e000a2534"
      },
      "execution_count": null,
      "outputs": [
        {
          "output_type": "stream",
          "name": "stdout",
          "text": [
            "A ['Alan', 'Adam']\n",
            "W ['Wes', 'Will']\n",
            "A ['Albert']\n",
            "S ['Steven']\n"
          ]
        }
      ]
    },
    {
      "cell_type": "code",
      "source": [
        "for x in itertools.combinations(['a', 'b', 'c', 'd'], 2):\n",
        "  print(x, end='')\n",
        "\n",
        "print()\n",
        "\n",
        "for x in itertools.permutations(['a', 'b', 'c', 'd'], 2):\n",
        "  print(x, end='')"
      ],
      "metadata": {
        "colab": {
          "base_uri": "https://localhost:8080/"
        },
        "id": "vNJIcVakJydM",
        "outputId": "9967373c-d2de-46e8-9b7c-c3a013705f1d"
      },
      "execution_count": null,
      "outputs": [
        {
          "output_type": "stream",
          "name": "stdout",
          "text": [
            "('a', 'b')('a', 'c')('a', 'd')('b', 'c')('b', 'd')('c', 'd')\n",
            "('a', 'b')('a', 'c')('a', 'd')('b', 'a')('b', 'c')('b', 'd')('c', 'a')('c', 'b')('c', 'd')('d', 'a')('d', 'b')('d', 'c')"
          ]
        }
      ]
    },
    {
      "cell_type": "markdown",
      "source": [
        "## **Errors and Exception Handling**"
      ],
      "metadata": {
        "id": "HgW81n0kK4mz"
      }
    },
    {
      "cell_type": "code",
      "source": [
        "def attempt_float(x):\n",
        "    try:\n",
        "        return float(x)\n",
        "    except:\n",
        "        return x\n",
        "\n",
        "print(attempt_float('s'))"
      ],
      "metadata": {
        "colab": {
          "base_uri": "https://localhost:8080/"
        },
        "id": "gJ1smNUeK8Ig",
        "outputId": "9660ab65-2c47-491a-a0fc-8e7738e24838"
      },
      "execution_count": null,
      "outputs": [
        {
          "output_type": "stream",
          "name": "stdout",
          "text": [
            "s\n"
          ]
        }
      ]
    },
    {
      "cell_type": "code",
      "source": [
        "def attempt_float(x):\n",
        "    try:\n",
        "        return float(x)\n",
        "    except ValueError:\n",
        "        return x\n",
        "\n",
        "print(attempt_float('s'))"
      ],
      "metadata": {
        "colab": {
          "base_uri": "https://localhost:8080/"
        },
        "id": "067GpdkSLHAr",
        "outputId": "22e66805-0989-4b21-f476-c2f8196e02fc"
      },
      "execution_count": null,
      "outputs": [
        {
          "output_type": "stream",
          "name": "stdout",
          "text": [
            "s\n"
          ]
        }
      ]
    },
    {
      "cell_type": "code",
      "source": [
        "def attempt_float(x):\n",
        "    try:\n",
        "        return float(x)\n",
        "    except (TypeError, ValueError):\n",
        "        return x"
      ],
      "metadata": {
        "id": "ETkqNeMBLfSN"
      },
      "execution_count": null,
      "outputs": []
    },
    {
      "cell_type": "code",
      "source": [
        "f = open(path, mode=\"w\")\n",
        "\n",
        "try:\n",
        "    write_to_file(f)\n",
        "except:\n",
        "    print(\"Failed\")\n",
        "else:\n",
        "    print(\"Succeeded\")\n",
        "finally:\n",
        "    f.close()"
      ],
      "metadata": {
        "colab": {
          "base_uri": "https://localhost:8080/",
          "height": 211
        },
        "id": "YdZJepLMLmKJ",
        "outputId": "2cfb70b7-4bb4-476c-fd25-4d1cf209a942"
      },
      "execution_count": null,
      "outputs": [
        {
          "output_type": "error",
          "ename": "NameError",
          "evalue": "name 'path' is not defined",
          "traceback": [
            "\u001b[0;31m---------------------------------------------------------------------------\u001b[0m",
            "\u001b[0;31mNameError\u001b[0m                                 Traceback (most recent call last)",
            "\u001b[0;32m<ipython-input-197-e35948c08a48>\u001b[0m in \u001b[0;36m<cell line: 1>\u001b[0;34m()\u001b[0m\n\u001b[0;32m----> 1\u001b[0;31m \u001b[0mf\u001b[0m \u001b[0;34m=\u001b[0m \u001b[0mopen\u001b[0m\u001b[0;34m(\u001b[0m\u001b[0mpath\u001b[0m\u001b[0;34m,\u001b[0m \u001b[0mmode\u001b[0m\u001b[0;34m=\u001b[0m\u001b[0;34m\"w\"\u001b[0m\u001b[0;34m)\u001b[0m\u001b[0;34m\u001b[0m\u001b[0;34m\u001b[0m\u001b[0m\n\u001b[0m\u001b[1;32m      2\u001b[0m \u001b[0;34m\u001b[0m\u001b[0m\n\u001b[1;32m      3\u001b[0m \u001b[0;32mtry\u001b[0m\u001b[0;34m:\u001b[0m\u001b[0;34m\u001b[0m\u001b[0;34m\u001b[0m\u001b[0m\n\u001b[1;32m      4\u001b[0m     \u001b[0mwrite_to_file\u001b[0m\u001b[0;34m(\u001b[0m\u001b[0mf\u001b[0m\u001b[0;34m)\u001b[0m\u001b[0;34m\u001b[0m\u001b[0;34m\u001b[0m\u001b[0m\n\u001b[1;32m      5\u001b[0m \u001b[0;32mexcept\u001b[0m\u001b[0;34m:\u001b[0m\u001b[0;34m\u001b[0m\u001b[0;34m\u001b[0m\u001b[0m\n",
            "\u001b[0;31mNameError\u001b[0m: name 'path' is not defined"
          ]
        }
      ]
    },
    {
      "cell_type": "markdown",
      "source": [
        "# **Files and the Operating System**"
      ],
      "metadata": {
        "id": "431AnKg2ML3X"
      }
    },
    {
      "cell_type": "code",
      "source": [
        "# To write text to a file, you can use the file’s write or writelines methods.\n",
        "# For example, we could create a version of examples/segismundo.txt with no blank lines like so\n",
        "\n",
        "path = 'examples/segismundo.txt'\n",
        "\n",
        "t = ['Sueña el rico en su riqueza,\\n',\n",
        " 'que más cuidados le ofrece;\\n',\n",
        " 'sueña el pobre que padece\\n',\n",
        " 'su miseria y su pobreza;\\n',\n",
        " 'sueña el que a medrar empieza,\\n',\n",
        " 'sueña el que afana y pretende,\\n',\n",
        " 'sueña el que agravia y ofende,\\n',\n",
        " 'y en el mundo, en conclusión,\\n',\n",
        " 'todos sueñan lo que son,\\n',\n",
        " 'aunque ninguno lo entiende.\\n']\n",
        "\n",
        "with open(\"tmp.txt\", mode=\"w\") as handle:\n",
        "   handle.writelines(x for x in t if len(x) > 1)\n",
        "\n",
        "with open(\"tmp.txt\") as f:\n",
        "   lines = f.readlines()"
      ],
      "metadata": {
        "id": "qG0OolTbusLg"
      },
      "execution_count": null,
      "outputs": []
    },
    {
      "cell_type": "code",
      "source": [
        "# To open a file for reading or writing, use the built-in open function with either a relative or absolute file path and an optional file encoding\n",
        "\n",
        "path = \"tmp.txt\"\n",
        "f = open(path, encoding=\"utf-8\")\n",
        "\n",
        "# By default, the file is opened in read-only mode \"r\". We can then treat the file object f like a list and iterate over the lines like so:\n",
        "\n"
      ],
      "metadata": {
        "id": "gaK009nUpsHi"
      },
      "execution_count": null,
      "outputs": []
    },
    {
      "cell_type": "code",
      "source": [
        "for line in f:\n",
        "    print(line)\n",
        "\n",
        "lines = [x.rstrip() for x in open(path, encoding=\"utf-8\")]"
      ],
      "metadata": {
        "colab": {
          "base_uri": "https://localhost:8080/"
        },
        "id": "GCXBmm_tqRXI",
        "outputId": "e30f47dd-86a4-4952-f7be-2f46b85edaa9"
      },
      "execution_count": null,
      "outputs": [
        {
          "output_type": "stream",
          "name": "stdout",
          "text": [
            "Sueña el rico en su riqueza,\n",
            "\n",
            "que más cuidados le ofrece;\n",
            "\n",
            "sueña el pobre que padece\n",
            "\n",
            "su miseria y su pobreza;\n",
            "\n",
            "sueña el que a medrar empieza,\n",
            "\n",
            "sueña el que afana y pretende,\n",
            "\n",
            "sueña el que agravia y ofende,\n",
            "\n",
            "y en el mundo, en conclusión,\n",
            "\n",
            "todos sueñan lo que son,\n",
            "\n",
            "aunque ninguno lo entiende.\n",
            "\n"
          ]
        }
      ]
    },
    {
      "cell_type": "code",
      "source": [
        "# When you use open to create file objects, it is recommended to close the file when you are finished with it.\n",
        "# Closing the file releases its resources back to the operating system\n",
        "\n",
        "f.close()\n",
        "\n",
        "with open(path, encoding=\"utf-8\") as f:\n",
        "  lines = [x.rstrip() for x in f]\n",
        "\n",
        "f1 = open(path)\n",
        "print(f1.read(10))\n",
        "f2 = open(path, mode=\"rb\")  # Binary mode\n",
        "print(f2.read(10))\n",
        "\n",
        "# The read method advances the file object position by the number of bytes read. tell gives you the current position\n",
        "\n",
        "print(f1.tell())\n",
        "\n",
        "f1.close()\n",
        "f2.close()\n",
        "\n"
      ],
      "metadata": {
        "colab": {
          "base_uri": "https://localhost:8080/"
        },
        "id": "_Fm4xUwKsq0Q",
        "outputId": "a887a84b-df67-4ea7-8361-abce03fa6a22"
      },
      "execution_count": null,
      "outputs": [
        {
          "output_type": "stream",
          "name": "stdout",
          "text": [
            "Sueña el r\n",
            "b'Sue\\xc3\\xb1a el '\n",
            "11\n"
          ]
        }
      ]
    },
    {
      "cell_type": "code",
      "source": [
        "# Even though we read 10 characters from the file f1 opened in text mode,\n",
        "# the position is 11 because it took that many bytes to decode 10 characters\n",
        "# using the default encoding. You can check the default encoding in the sys module\n",
        "\n",
        "import sys\n",
        "\n",
        "sys.getdefaultencoding()"
      ],
      "metadata": {
        "colab": {
          "base_uri": "https://localhost:8080/",
          "height": 35
        },
        "id": "8yUG5N_ft5pd",
        "outputId": "b8046e94-9df7-49b0-ddbc-a7f98f2f969c"
      },
      "execution_count": null,
      "outputs": [
        {
          "output_type": "execute_result",
          "data": {
            "text/plain": [
              "'utf-8'"
            ],
            "application/vnd.google.colaboratory.intrinsic+json": {
              "type": "string"
            }
          },
          "metadata": {},
          "execution_count": 209
        }
      ]
    },
    {
      "cell_type": "code",
      "source": [
        "# To write text to a file, you can use the file’s write or writelines methods.\n",
        "# For example, we could create a version of examples/segismundo.txt with no blank lines like so\n",
        "\n",
        "path = 'tmp.txt'\n",
        "\n",
        "t = ['Sueña el rico en su riqueza,\\n',\n",
        " 'que más cuidados le ofrece;\\n',\n",
        " 'sueña el pobre que padece\\n',\n",
        " 'su miseria y su pobreza;\\n',\n",
        " 'sueña el que a medrar empieza,\\n',\n",
        " 'sueña el que afana y pretende,\\n',\n",
        " 'sueña el que agravia y ofende,\\n',\n",
        " 'y en el mundo, en conclusión,\\n',\n",
        " 'todos sueñan lo que son,\\n',\n",
        " 'aunque ninguno lo entiende.\\n']\n",
        "\n",
        "with open(\"tmp.txt\", mode=\"w\") as handle:\n",
        "   handle.writelines(x for x in t if len(x) > 1)\n",
        "\n",
        "with open(\"tmp.txt\") as f:\n",
        "   lines = f.readlines()\n",
        "\n",
        "f.close()\n",
        "\n",
        "\n"
      ],
      "metadata": {
        "id": "hI5f-MY-uCgl"
      },
      "execution_count": null,
      "outputs": []
    },
    {
      "cell_type": "markdown",
      "source": [
        "## **Bytes and Unicode with Files**\n",
        "UTF-8 is a variable-length Unicode encoding, so when I request some number of characters from the file, Python reads enough bytes (which could be as few as 10 or as many as 40 bytes) from the file to decode that many characters. If I open the file in \"rb\" mode instead, read requests that exact number of bytes:"
      ],
      "metadata": {
        "id": "2JdqET41vIHk"
      }
    },
    {
      "cell_type": "code",
      "source": [
        "with open(path, mode=\"rb\") as f:\n",
        "  data = f.read(10)\n",
        "\n",
        "print(data)\n",
        "\n",
        "\"\"\"\n",
        "Depending on the text encoding, you may be able to decode the bytes to a str object yourself, but only if each of the encoded Unicode characters is fully formed\n",
        "\"\"\"\n",
        "\n",
        "print(data.decode(\"utf-8\"))\n",
        "\n",
        "data[:4].decode(\"utf-8\")"
      ],
      "metadata": {
        "colab": {
          "base_uri": "https://localhost:8080/",
          "height": 211
        },
        "id": "Si5GIlsxeNgk",
        "outputId": "d07225e6-67b5-45a2-eb9d-f7ef4c387c63"
      },
      "execution_count": null,
      "outputs": [
        {
          "output_type": "stream",
          "name": "stdout",
          "text": [
            "b'Sue\\xc3\\xb1a el '\n",
            "Sueña el \n"
          ]
        },
        {
          "output_type": "error",
          "ename": "UnicodeDecodeError",
          "evalue": "'utf-8' codec can't decode byte 0xc3 in position 3: unexpected end of data",
          "traceback": [
            "\u001b[0;31m---------------------------------------------------------------------------\u001b[0m",
            "\u001b[0;31mUnicodeDecodeError\u001b[0m                        Traceback (most recent call last)",
            "\u001b[0;32m<ipython-input-7-5f36456c0dbd>\u001b[0m in \u001b[0;36m<cell line: 12>\u001b[0;34m()\u001b[0m\n\u001b[1;32m     10\u001b[0m \u001b[0mprint\u001b[0m\u001b[0;34m(\u001b[0m\u001b[0mdata\u001b[0m\u001b[0;34m.\u001b[0m\u001b[0mdecode\u001b[0m\u001b[0;34m(\u001b[0m\u001b[0;34m\"utf-8\"\u001b[0m\u001b[0;34m)\u001b[0m\u001b[0;34m)\u001b[0m\u001b[0;34m\u001b[0m\u001b[0;34m\u001b[0m\u001b[0m\n\u001b[1;32m     11\u001b[0m \u001b[0;34m\u001b[0m\u001b[0m\n\u001b[0;32m---> 12\u001b[0;31m \u001b[0mdata\u001b[0m\u001b[0;34m[\u001b[0m\u001b[0;34m:\u001b[0m\u001b[0;36m4\u001b[0m\u001b[0;34m]\u001b[0m\u001b[0;34m.\u001b[0m\u001b[0mdecode\u001b[0m\u001b[0;34m(\u001b[0m\u001b[0;34m\"utf-8\"\u001b[0m\u001b[0;34m)\u001b[0m\u001b[0;34m\u001b[0m\u001b[0;34m\u001b[0m\u001b[0m\n\u001b[0m",
            "\u001b[0;31mUnicodeDecodeError\u001b[0m: 'utf-8' codec can't decode byte 0xc3 in position 3: unexpected end of data"
          ]
        }
      ]
    },
    {
      "cell_type": "code",
      "source": [
        "sink_path = \"sink.txt\"\n",
        "\n",
        "with open(path) as source:\n",
        "  with open(sink_path, \"x\", encoding=\"iso-8859-1\") as sink:\n",
        "    sink.write(source.read())\n",
        "\n",
        "with open(sink_path, encoding=\"iso-8859-1\") as f:\n",
        "  print(f.read(10))"
      ],
      "metadata": {
        "colab": {
          "base_uri": "https://localhost:8080/"
        },
        "id": "IPj8FlkNfY9h",
        "outputId": "30705cd0-a74e-4ca0-92fa-4f7bcca0fa40"
      },
      "execution_count": null,
      "outputs": [
        {
          "output_type": "stream",
          "name": "stdout",
          "text": [
            "Sueña el r\n"
          ]
        }
      ]
    },
    {
      "cell_type": "code",
      "source": [
        "# Beware using seek when opening files in any mode other than binary.\n",
        "# If the file position falls in the middle of the bytes defining a Unicode character,\n",
        "# then subsequent reads will result in an error\n",
        "\n",
        "f = open(path, encoding='utf-8')\n",
        "print(f.read(5))\n",
        "\n",
        "print(f.seek(4))\n",
        "\n",
        "print(f.read(1))"
      ],
      "metadata": {
        "colab": {
          "base_uri": "https://localhost:8080/",
          "height": 367
        },
        "id": "6IjLlhf4fvYj",
        "outputId": "08c6d624-23fb-4d1f-a454-a5e0e56b4bb1"
      },
      "execution_count": null,
      "outputs": [
        {
          "output_type": "stream",
          "name": "stdout",
          "text": [
            "Sueña\n",
            "4\n"
          ]
        },
        {
          "output_type": "error",
          "ename": "UnicodeDecodeError",
          "evalue": "'utf-8' codec can't decode byte 0xb1 in position 0: invalid start byte",
          "traceback": [
            "\u001b[0;31m---------------------------------------------------------------------------\u001b[0m",
            "\u001b[0;31mUnicodeDecodeError\u001b[0m                        Traceback (most recent call last)",
            "\u001b[0;32m<ipython-input-11-0630d4fea9f2>\u001b[0m in \u001b[0;36m<cell line: 10>\u001b[0;34m()\u001b[0m\n\u001b[1;32m      8\u001b[0m \u001b[0mprint\u001b[0m\u001b[0;34m(\u001b[0m\u001b[0mf\u001b[0m\u001b[0;34m.\u001b[0m\u001b[0mseek\u001b[0m\u001b[0;34m(\u001b[0m\u001b[0;36m4\u001b[0m\u001b[0;34m)\u001b[0m\u001b[0;34m)\u001b[0m\u001b[0;34m\u001b[0m\u001b[0;34m\u001b[0m\u001b[0m\n\u001b[1;32m      9\u001b[0m \u001b[0;34m\u001b[0m\u001b[0m\n\u001b[0;32m---> 10\u001b[0;31m \u001b[0mprint\u001b[0m\u001b[0;34m(\u001b[0m\u001b[0mf\u001b[0m\u001b[0;34m.\u001b[0m\u001b[0mread\u001b[0m\u001b[0;34m(\u001b[0m\u001b[0;36m1\u001b[0m\u001b[0;34m)\u001b[0m\u001b[0;34m)\u001b[0m\u001b[0;34m\u001b[0m\u001b[0;34m\u001b[0m\u001b[0m\n\u001b[0m\u001b[1;32m     11\u001b[0m \u001b[0;34m\u001b[0m\u001b[0m\n\u001b[1;32m     12\u001b[0m \u001b[0mf\u001b[0m\u001b[0;34m.\u001b[0m\u001b[0mclose\u001b[0m\u001b[0;34m(\u001b[0m\u001b[0;34m)\u001b[0m\u001b[0;34m\u001b[0m\u001b[0;34m\u001b[0m\u001b[0m\n",
            "\u001b[0;32m/usr/lib/python3.10/codecs.py\u001b[0m in \u001b[0;36mdecode\u001b[0;34m(self, input, final)\u001b[0m\n\u001b[1;32m    320\u001b[0m         \u001b[0;31m# decode input (taking the buffer into account)\u001b[0m\u001b[0;34m\u001b[0m\u001b[0;34m\u001b[0m\u001b[0m\n\u001b[1;32m    321\u001b[0m         \u001b[0mdata\u001b[0m \u001b[0;34m=\u001b[0m \u001b[0mself\u001b[0m\u001b[0;34m.\u001b[0m\u001b[0mbuffer\u001b[0m \u001b[0;34m+\u001b[0m \u001b[0minput\u001b[0m\u001b[0;34m\u001b[0m\u001b[0;34m\u001b[0m\u001b[0m\n\u001b[0;32m--> 322\u001b[0;31m         \u001b[0;34m(\u001b[0m\u001b[0mresult\u001b[0m\u001b[0;34m,\u001b[0m \u001b[0mconsumed\u001b[0m\u001b[0;34m)\u001b[0m \u001b[0;34m=\u001b[0m \u001b[0mself\u001b[0m\u001b[0;34m.\u001b[0m\u001b[0m_buffer_decode\u001b[0m\u001b[0;34m(\u001b[0m\u001b[0mdata\u001b[0m\u001b[0;34m,\u001b[0m \u001b[0mself\u001b[0m\u001b[0;34m.\u001b[0m\u001b[0merrors\u001b[0m\u001b[0;34m,\u001b[0m \u001b[0mfinal\u001b[0m\u001b[0;34m)\u001b[0m\u001b[0;34m\u001b[0m\u001b[0;34m\u001b[0m\u001b[0m\n\u001b[0m\u001b[1;32m    323\u001b[0m         \u001b[0;31m# keep undecoded input until the next call\u001b[0m\u001b[0;34m\u001b[0m\u001b[0;34m\u001b[0m\u001b[0m\n\u001b[1;32m    324\u001b[0m         \u001b[0mself\u001b[0m\u001b[0;34m.\u001b[0m\u001b[0mbuffer\u001b[0m \u001b[0;34m=\u001b[0m \u001b[0mdata\u001b[0m\u001b[0;34m[\u001b[0m\u001b[0mconsumed\u001b[0m\u001b[0;34m:\u001b[0m\u001b[0;34m]\u001b[0m\u001b[0;34m\u001b[0m\u001b[0;34m\u001b[0m\u001b[0m\n",
            "\u001b[0;31mUnicodeDecodeError\u001b[0m: 'utf-8' codec can't decode byte 0xb1 in position 0: invalid start byte"
          ]
        }
      ]
    },
    {
      "cell_type": "code",
      "source": [
        "f.close()"
      ],
      "metadata": {
        "id": "wyKqMdrugFgT"
      },
      "execution_count": null,
      "outputs": []
    }
  ]
}