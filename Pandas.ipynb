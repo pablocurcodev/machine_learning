{
  "nbformat": 4,
  "nbformat_minor": 0,
  "metadata": {
    "colab": {
      "provenance": [],
      "toc_visible": true,
      "authorship_tag": "ABX9TyP49kM9uOMd7ub1TUod0oyX",
      "include_colab_link": true
    },
    "kernelspec": {
      "name": "python3",
      "display_name": "Python 3"
    },
    "language_info": {
      "name": "python"
    }
  },
  "cells": [
    {
      "cell_type": "markdown",
      "metadata": {
        "id": "view-in-github",
        "colab_type": "text"
      },
      "source": [
        "<a href=\"https://colab.research.google.com/github/pablocurcodev/machine_learning/blob/main/Pandas.ipynb\" target=\"_parent\"><img src=\"https://colab.research.google.com/assets/colab-badge.svg\" alt=\"Open In Colab\"/></a>"
      ]
    },
    {
      "cell_type": "code",
      "execution_count": null,
      "metadata": {
        "id": "97tH3UoS4BT4"
      },
      "outputs": [],
      "source": []
    },
    {
      "cell_type": "markdown",
      "source": [
        "# **Pandas**"
      ],
      "metadata": {
        "id": "_RemFAV9-hMh"
      }
    },
    {
      "cell_type": "markdown",
      "source": [
        "The pandas library provides high-performance, easy-to-use data structures and data analysis tools. The main data structure is the DataFrame, which you can think of as an in-memory 2D table (like a spreadsheet, with column names and row labels). Many features available in Excel are available programmatically, such as creating pivot tables, computing columns based on other columns, plotting graphs, etc. You can also group rows by column value, or join tables much like in SQL. Pandas is also great at handling time series.\n",
        "\n",
        "pandas provides high-level data structures and functions designed to make working with structured or tabular data intuitive and flexible.\n",
        "https://learning.oreilly.com/library/view/python-for-data/9781098104023/ch01.html#essential_pandas\n",
        "\n",
        "\n",
        "https://pandas.pydata.org/docs/user_guide/index.html#userguide"
      ],
      "metadata": {
        "id": "pFxcPMsK8ioO"
      }
    },
    {
      "cell_type": "markdown",
      "source": [
        "#**Python Language Basics**"
      ],
      "metadata": {
        "id": "_t01HsAW-uRK"
      }
    },
    {
      "cell_type": "code",
      "source": [
        "# Introspection\n",
        "# Using a question mark (?) before or after a variable will display some general information about the object:\n",
        "\n",
        "b = [1, 2, 3]\n",
        "b?"
      ],
      "metadata": {
        "id": "P6KokXBC-vwM"
      },
      "execution_count": 1,
      "outputs": []
    },
    {
      "cell_type": "code",
      "source": [
        "def add_numbers(a, b):\n",
        "    \"\"\"\n",
        "    Add two numbers together\n",
        "\n",
        "    Returns\n",
        "    -------\n",
        "    the_sum : type of arguments\n",
        "    \"\"\"\n",
        "    return a + b"
      ],
      "metadata": {
        "id": "iO4rrgoi_A2K"
      },
      "execution_count": 2,
      "outputs": []
    },
    {
      "cell_type": "code",
      "source": [
        "add_numbers?"
      ],
      "metadata": {
        "id": "rb55acQD-yb6"
      },
      "execution_count": 3,
      "outputs": []
    },
    {
      "cell_type": "code",
      "source": [
        "\"\"\"\n",
        "? has a final usage, which is for searching the python namespace\n",
        "A number of characters combined with the wildcard (*) will show all names matching the wildcard expression.\n",
        "\"\"\"\n",
        "\n",
        "import numpy as np\n",
        "np.*load*?"
      ],
      "metadata": {
        "id": "FfK2qdmn-xtu"
      },
      "execution_count": 4,
      "outputs": []
    },
    {
      "cell_type": "markdown",
      "source": [
        "## **Language Semantics**\n",
        "\n",
        "The Python language design is distinguished by its emphasis on readability, simplicity, and explicitness. Some people go so far as to liken it to “executable pseudocode.”\n",
        "\n",
        "**Indentation, not braces**\n",
        "Python uses whitespace (tabs or spaces) to structure code instead of using braces as in many other languages like R, C++, Java, and Perl. Consider a for loop from a sorting algorithm:"
      ],
      "metadata": {
        "id": "DXzBX6vm_m8T"
      }
    },
    {
      "cell_type": "code",
      "source": [
        "array = [1,2,3,4,5,6,7,8,9,10,11,12,13,14,15]\n",
        "less, greater = [], []\n",
        "pivot = 5\n",
        "for x in array:\n",
        "    if x < pivot:\n",
        "        less.append(x)\n",
        "    else:\n",
        "        greater.append(x)\n",
        "\n",
        "less, greater"
      ],
      "metadata": {
        "colab": {
          "base_uri": "https://localhost:8080/"
        },
        "id": "6NrZ0AEa_jR4",
        "outputId": "873028f3-7cad-476b-83e1-e655a16f4b2b"
      },
      "execution_count": 5,
      "outputs": [
        {
          "output_type": "execute_result",
          "data": {
            "text/plain": [
              "([1, 2, 3, 4], [5, 6, 7, 8, 9, 10, 11, 12, 13, 14, 15])"
            ]
          },
          "metadata": {},
          "execution_count": 5
        }
      ]
    },
    {
      "cell_type": "markdown",
      "source": [
        "A colon denotes the start of an indented code block after which all of the code must be indented by the same amount until the end of the block.\n",
        "\n",
        "I strongly recommend using four spaces as your default indentation and replacing tabs with four spaces.\n",
        "\n",
        "As you can see by now, Python statements also do not need to be terminated by semicolons. Semicolons can be used, however, to separate multiple statements on a single line:\n",
        "\n",
        "a = 5; b = 6; c = 7\n",
        "\n",
        "An important characteristic of the Python language is the consistency of its object model. Every number, string, data structure, function, class, module, and so on exists in the Python interpreter in its own “box,” which is referred to as a Python object.\n",
        "\n",
        "**Comments**\n",
        "Any text preceded by the hash mark (pound sign) # is ignored by the Python interpreter. This is often used to add comments to code.\n",
        "\n",
        "You call functions using parentheses and passing zero or more arguments, optionally assigning the returned value to a variable\n",
        "\n",
        "**Dynamic references, strong types**\n",
        "Variables in Python have no inherent type associated with them; a variable can refer to a different type of object simply by doing an assignment."
      ],
      "metadata": {
        "id": "42BsIJIaAXZv"
      }
    },
    {
      "cell_type": "code",
      "source": [
        "a = 5\n",
        "\n",
        "print(type(a))\n",
        "\n",
        "a = \"foo\"\n",
        "\n",
        "print(type(a))"
      ],
      "metadata": {
        "colab": {
          "base_uri": "https://localhost:8080/"
        },
        "id": "KeSBax_0A8JH",
        "outputId": "db1c05ec-8cce-4b7f-98b9-20653e1a06b1"
      },
      "execution_count": 6,
      "outputs": [
        {
          "output_type": "stream",
          "name": "stdout",
          "text": [
            "<class 'int'>\n",
            "<class 'str'>\n"
          ]
        }
      ]
    },
    {
      "cell_type": "code",
      "source": [
        "def isiterable(obj):\n",
        "    try:\n",
        "        iter(obj)\n",
        "        return True\n",
        "    except TypeError: # not iterable\n",
        "        return False\n",
        "\n",
        "print(isiterable(False))\n",
        "print(isiterable(5))\n",
        "print(isiterable('String'))\n",
        "print(isiterable([1,2,3]))"
      ],
      "metadata": {
        "colab": {
          "base_uri": "https://localhost:8080/"
        },
        "id": "8a-1U7RIAbj8",
        "outputId": "f8e6932b-7223-4e76-a661-03e22ee4418f"
      },
      "execution_count": 7,
      "outputs": [
        {
          "output_type": "stream",
          "name": "stdout",
          "text": [
            "False\n",
            "False\n",
            "True\n",
            "True\n"
          ]
        }
      ]
    },
    {
      "cell_type": "markdown",
      "source": [
        "To check if two variables refer to the same object, use the is keyword. Use is not to check that two objects are not the same:"
      ],
      "metadata": {
        "id": "-yhuJR9eCTmt"
      }
    },
    {
      "cell_type": "code",
      "source": [
        "a = [1, 2, 3]\n",
        "b = a\n",
        "c = list(a)\n",
        "\n",
        "print(a is b)\n",
        "print(a is c)"
      ],
      "metadata": {
        "colab": {
          "base_uri": "https://localhost:8080/"
        },
        "id": "0DwpIeucCTP1",
        "outputId": "6c2604e5-8697-40ad-f645-5fb23050f2ac"
      },
      "execution_count": 8,
      "outputs": [
        {
          "output_type": "stream",
          "name": "stdout",
          "text": [
            "True\n",
            "False\n"
          ]
        }
      ]
    },
    {
      "cell_type": "code",
      "source": [
        "z = None\n",
        "print(type(z))\n",
        "print(z)"
      ],
      "metadata": {
        "colab": {
          "base_uri": "https://localhost:8080/"
        },
        "id": "kbD91oWFCmeK",
        "outputId": "1fc1e348-4b21-4804-e87a-decd21dcbbac"
      },
      "execution_count": 9,
      "outputs": [
        {
          "output_type": "stream",
          "name": "stdout",
          "text": [
            "<class 'NoneType'>\n",
            "None\n"
          ]
        }
      ]
    },
    {
      "cell_type": "code",
      "source": [
        "c = \"\"\"\n",
        "This is a longer string that\n",
        "spans multiple lines\n",
        "\"\"\"\n",
        "print(c)"
      ],
      "metadata": {
        "colab": {
          "base_uri": "https://localhost:8080/"
        },
        "id": "3URNVpf0DIZ8",
        "outputId": "ebeae30f-4ca4-4a19-b61b-d4806b67843f"
      },
      "execution_count": 10,
      "outputs": [
        {
          "output_type": "stream",
          "name": "stdout",
          "text": [
            "\n",
            "This is a longer string that\n",
            "spans multiple lines\n",
            "\n"
          ]
        }
      ]
    },
    {
      "cell_type": "code",
      "source": [
        "# Many Python objects can be converted to a string using the str function:\n",
        "\n",
        "a = 5.6\n",
        "s = str(a)\n",
        "print(s)"
      ],
      "metadata": {
        "colab": {
          "base_uri": "https://localhost:8080/"
        },
        "id": "Aky9_DCODR5C",
        "outputId": "ac0ea86a-0864-4e25-8bef-ad0458ecf5f9"
      },
      "execution_count": 11,
      "outputs": [
        {
          "output_type": "stream",
          "name": "stdout",
          "text": [
            "5.6\n"
          ]
        }
      ]
    },
    {
      "cell_type": "code",
      "source": [
        "# raw string\n",
        "s = r\"this\\has\\no\\special\\characters\"\n",
        "s"
      ],
      "metadata": {
        "colab": {
          "base_uri": "https://localhost:8080/",
          "height": 35
        },
        "id": "pMwDA2MCDeWE",
        "outputId": "b433559d-0337-4920-a9db-9b25bec05634"
      },
      "execution_count": 12,
      "outputs": [
        {
          "output_type": "execute_result",
          "data": {
            "text/plain": [
              "'this\\\\has\\\\no\\\\special\\\\characters'"
            ],
            "application/vnd.google.colaboratory.intrinsic+json": {
              "type": "string"
            }
          },
          "metadata": {},
          "execution_count": 12
        }
      ]
    },
    {
      "cell_type": "code",
      "source": [
        "template = \"{0:.2f} {1:s} are worth US${2:d}\"\n",
        "template.format(88.46, \"Argentine Pesos\", 1)"
      ],
      "metadata": {
        "colab": {
          "base_uri": "https://localhost:8080/",
          "height": 35
        },
        "id": "DXzAfCo1DolP",
        "outputId": "8d9f1796-12cd-4557-fd93-c2348ac53ae3"
      },
      "execution_count": 13,
      "outputs": [
        {
          "output_type": "execute_result",
          "data": {
            "text/plain": [
              "'88.46 Argentine Pesos are worth US$1'"
            ],
            "application/vnd.google.colaboratory.intrinsic+json": {
              "type": "string"
            }
          },
          "metadata": {},
          "execution_count": 13
        }
      ]
    },
    {
      "cell_type": "code",
      "source": [
        "amount = 10\n",
        "rate = 88.46\n",
        "currency = \"Pesos\"\n",
        "\n",
        "result = f\"{amount} {currency} is worth US${amount / rate}\"\n",
        "result"
      ],
      "metadata": {
        "colab": {
          "base_uri": "https://localhost:8080/",
          "height": 35
        },
        "id": "MiW5aemRDpCH",
        "outputId": "7d5a4f5d-b2d3-4dba-bb5a-60faa741dcc7"
      },
      "execution_count": 14,
      "outputs": [
        {
          "output_type": "execute_result",
          "data": {
            "text/plain": [
              "'10 Pesos is worth US$0.11304544426859599'"
            ],
            "application/vnd.google.colaboratory.intrinsic+json": {
              "type": "string"
            }
          },
          "metadata": {},
          "execution_count": 14
        }
      ]
    },
    {
      "cell_type": "code",
      "source": [
        "val = \"español\"\n",
        "val_utf8 = val.encode(\"utf-8\")\n",
        "print(val_utf8)\n",
        "print(type(val_utf8))"
      ],
      "metadata": {
        "colab": {
          "base_uri": "https://localhost:8080/"
        },
        "id": "jN5l8xNxD8wT",
        "outputId": "d85766ce-3ce9-495c-a45f-a4169ffa031c"
      },
      "execution_count": 15,
      "outputs": [
        {
          "output_type": "stream",
          "name": "stdout",
          "text": [
            "b'espa\\xc3\\xb1ol'\n",
            "<class 'bytes'>\n"
          ]
        }
      ]
    },
    {
      "cell_type": "code",
      "source": [
        "val2 = val_utf8.decode(\"utf-8\")\n",
        "print(val2)\n",
        "print(type(val2))\n",
        "\n",
        "print(val.encode(\"latin1\"))\n",
        "\n",
        "print(val.encode(\"utf-16\"))\n",
        "\n",
        "print(val.encode(\"utf-16le\"))"
      ],
      "metadata": {
        "colab": {
          "base_uri": "https://localhost:8080/"
        },
        "id": "YWKzjDgaEJEc",
        "outputId": "673984ac-e515-4945-ec82-bab8235f23ca"
      },
      "execution_count": 16,
      "outputs": [
        {
          "output_type": "stream",
          "name": "stdout",
          "text": [
            "español\n",
            "<class 'str'>\n",
            "b'espa\\xf1ol'\n",
            "b'\\xff\\xfee\\x00s\\x00p\\x00a\\x00\\xf1\\x00o\\x00l\\x00'\n",
            "b'e\\x00s\\x00p\\x00a\\x00\\xf1\\x00o\\x00l\\x00'\n"
          ]
        }
      ]
    },
    {
      "cell_type": "markdown",
      "source": [
        "## **Dates and times**"
      ],
      "metadata": {
        "id": "lXBvOAf7NbS0"
      }
    },
    {
      "cell_type": "code",
      "source": [
        "from datetime import datetime, date, time\n",
        "\n",
        "dt = datetime(2011, 10, 29, 20, 30, 21)\n",
        "print(dt.day)\n",
        "print(dt.minute)\n",
        "print(dt.date())\n",
        "print(dt.time())\n",
        "\n",
        "print(dt.strftime(\"%Y-%m-%d %H:%M\"))\n",
        "\n",
        "dt2 = datetime(2011, 11, 15, 22, 30)\n",
        "\n",
        "delta = dt2 - dt\n",
        "print(delta)\n",
        "print(type(delta))\n",
        "\n",
        "print(dt + delta)\n"
      ],
      "metadata": {
        "colab": {
          "base_uri": "https://localhost:8080/"
        },
        "id": "oRDRfXu6NeR7",
        "outputId": "4ebbb6bf-cb4a-4b69-c7ff-81a9e40aa861"
      },
      "execution_count": 17,
      "outputs": [
        {
          "output_type": "stream",
          "name": "stdout",
          "text": [
            "29\n",
            "30\n",
            "2011-10-29\n",
            "20:30:21\n",
            "2011-10-29 20:30\n",
            "17 days, 1:59:39\n",
            "<class 'datetime.timedelta'>\n",
            "2011-11-15 22:30:00\n"
          ]
        }
      ]
    },
    {
      "cell_type": "code",
      "source": [
        "dt_hour = dt.replace(minute=0, second=0)"
      ],
      "metadata": {
        "id": "9pSwm7efNyhF"
      },
      "execution_count": 18,
      "outputs": []
    },
    {
      "cell_type": "markdown",
      "source": [
        "## **Control Flow**\n",
        "\n",
        "Python has several built-in keywords for conditional logic, loops, and other standard control flow concepts found in other programming languages.\n",
        "\n",
        "### **if, elif, and else**"
      ],
      "metadata": {
        "id": "3tuv4ei3XJNj"
      }
    },
    {
      "cell_type": "code",
      "source": [
        "x = -7\n",
        "if x < 0:\n",
        "    print(\"x is negative\")"
      ],
      "metadata": {
        "colab": {
          "base_uri": "https://localhost:8080/"
        },
        "id": "_n272OW1XONy",
        "outputId": "2eb1f6ea-ecfe-41e8-cc2c-267f1dc36ae8"
      },
      "execution_count": 19,
      "outputs": [
        {
          "output_type": "stream",
          "name": "stdout",
          "text": [
            "x is negative\n"
          ]
        }
      ]
    },
    {
      "cell_type": "code",
      "source": [
        "x = 5\n",
        "\n",
        "if x < 0:\n",
        "    print(\"x is negative\")\n",
        "elif x == 0:\n",
        "    print(\"x is equals to zero\")\n",
        "elif 0 < x < 5:\n",
        "    print(\"x is positive but smaller than 5\")\n",
        "else:\n",
        "    print(\"x is positive and larger than or equal to 5\")"
      ],
      "metadata": {
        "colab": {
          "base_uri": "https://localhost:8080/"
        },
        "id": "TiQ1UJwaXWAn",
        "outputId": "ef6d0219-240e-4e62-9411-327d72c27447"
      },
      "execution_count": 20,
      "outputs": [
        {
          "output_type": "stream",
          "name": "stdout",
          "text": [
            "x is positive and larger than or equal to 5\n"
          ]
        }
      ]
    },
    {
      "cell_type": "code",
      "source": [
        "5 > 3 > 2 > 0"
      ],
      "metadata": {
        "colab": {
          "base_uri": "https://localhost:8080/"
        },
        "id": "9XE3WnOpXoNi",
        "outputId": "ec6d9360-fdf8-4e71-c358-eb7226fe1c04"
      },
      "execution_count": 21,
      "outputs": [
        {
          "output_type": "execute_result",
          "data": {
            "text/plain": [
              "True"
            ]
          },
          "metadata": {},
          "execution_count": 21
        }
      ]
    },
    {
      "cell_type": "code",
      "source": [
        "sequence = [1, 2, None, 4, None, 5]\n",
        "total = 0\n",
        "for value in sequence:\n",
        "    if value is None:\n",
        "        continue # skipping the rest of the block\n",
        "    total += value\n",
        "\n",
        "print(total)"
      ],
      "metadata": {
        "colab": {
          "base_uri": "https://localhost:8080/"
        },
        "id": "b-LRDsacXuJA",
        "outputId": "d9a6e77d-11c8-4d68-9311-8cd6bb9f13db"
      },
      "execution_count": 22,
      "outputs": [
        {
          "output_type": "stream",
          "name": "stdout",
          "text": [
            "12\n"
          ]
        }
      ]
    },
    {
      "cell_type": "code",
      "source": [
        "sequence = [1, 2, 0, 4, 6, 5, 2, 1]\n",
        "total_until_5 = 0\n",
        "for value in sequence:\n",
        "    if value == 5:\n",
        "        break # exiting the block altogether\n",
        "    total_until_5 += value\n",
        "print(total_until_5)\n",
        "\n",
        "# The break keyword only terminates the innermost for loop;\n",
        "# any outer for loops will continue to run:\n",
        "\n",
        "for i in range(4):\n",
        "    for j in range(4):\n",
        "        if j > i:\n",
        "            break\n",
        "        print((i, j))"
      ],
      "metadata": {
        "colab": {
          "base_uri": "https://localhost:8080/"
        },
        "id": "_JyC6s4LX-yX",
        "outputId": "159bc5fe-1774-4ce2-b2a3-71b4845bfa36"
      },
      "execution_count": 23,
      "outputs": [
        {
          "output_type": "stream",
          "name": "stdout",
          "text": [
            "13\n",
            "(0, 0)\n",
            "(1, 0)\n",
            "(1, 1)\n",
            "(2, 0)\n",
            "(2, 1)\n",
            "(2, 2)\n",
            "(3, 0)\n",
            "(3, 1)\n",
            "(3, 2)\n",
            "(3, 3)\n"
          ]
        }
      ]
    },
    {
      "cell_type": "code",
      "source": [
        "iterator = [(1,2,3),(4,5,6),(7,8,9)]\n",
        "for a, b, c in iterator:\n",
        "    print(a + b + c)"
      ],
      "metadata": {
        "colab": {
          "base_uri": "https://localhost:8080/"
        },
        "id": "-5BewIEmYnG9",
        "outputId": "b905d8d4-ed85-4e79-979b-aa3fc03ee9d7"
      },
      "execution_count": 24,
      "outputs": [
        {
          "output_type": "stream",
          "name": "stdout",
          "text": [
            "6\n",
            "15\n",
            "24\n"
          ]
        }
      ]
    },
    {
      "cell_type": "markdown",
      "source": [
        "### **while loops**\n",
        "A while loop specifies a condition and a block of code that is to be executed until the condition evaluates to False or the loop is explicitly ended with break:"
      ],
      "metadata": {
        "id": "Z9EptNsnY42-"
      }
    },
    {
      "cell_type": "code",
      "source": [
        "x = 256\n",
        "total = 0\n",
        "while x > 0:\n",
        "    if total > 500:\n",
        "        break\n",
        "    print(\"total = \" + str(total) + \" + \" + str(x) + \" = \" + str(total + x))\n",
        "    total += x\n",
        "    print(\"New value for x = \" + \"str(x // 2) = \" + str(x // 2))\n",
        "    x = x // 2"
      ],
      "metadata": {
        "colab": {
          "base_uri": "https://localhost:8080/"
        },
        "id": "RbeePugJY8pu",
        "outputId": "a7ffe423-b05a-4d8a-ac17-848ed8d41a99"
      },
      "execution_count": 25,
      "outputs": [
        {
          "output_type": "stream",
          "name": "stdout",
          "text": [
            "total = 0 + 256 = 256\n",
            "New value for x = str(x // 2) = 128\n",
            "total = 256 + 128 = 384\n",
            "New value for x = str(x // 2) = 64\n",
            "total = 384 + 64 = 448\n",
            "New value for x = str(x // 2) = 32\n",
            "total = 448 + 32 = 480\n",
            "New value for x = str(x // 2) = 16\n",
            "total = 480 + 16 = 496\n",
            "New value for x = str(x // 2) = 8\n",
            "total = 496 + 8 = 504\n",
            "New value for x = str(x // 2) = 4\n"
          ]
        }
      ]
    },
    {
      "cell_type": "markdown",
      "source": [
        "### **pass**\n",
        "pass is the “no-op” (or “do nothing”) statement in Python. It can be used in blocks where no action is to be taken (or as a placeholder for code not yet implemented); it is required only because Python uses whitespace to delimit blocks:"
      ],
      "metadata": {
        "id": "Lr4q49JfaQOn"
      }
    },
    {
      "cell_type": "code",
      "source": [
        "if x < 0:\n",
        "    print(\"negative!\")\n",
        "elif x == 0:\n",
        "    # TODO: put something smart here\n",
        "    pass\n",
        "else:\n",
        "    print(\"positive!\")"
      ],
      "metadata": {
        "colab": {
          "base_uri": "https://localhost:8080/"
        },
        "id": "uAnY8bjxaP8f",
        "outputId": "e04b97c3-e5c1-4761-a71c-c7a908c59528"
      },
      "execution_count": 26,
      "outputs": [
        {
          "output_type": "stream",
          "name": "stdout",
          "text": [
            "positive!\n"
          ]
        }
      ]
    },
    {
      "cell_type": "markdown",
      "source": [
        "## **range**\n",
        "The range function generates a sequence of evenly spaced integers:"
      ],
      "metadata": {
        "id": "G7kLVSXgamrU"
      }
    },
    {
      "cell_type": "code",
      "source": [
        "range(10)\n",
        "list(range(10))"
      ],
      "metadata": {
        "colab": {
          "base_uri": "https://localhost:8080/"
        },
        "id": "AQxByUfWapMi",
        "outputId": "dc1aab50-059d-4574-beb5-89790c08c837"
      },
      "execution_count": 27,
      "outputs": [
        {
          "output_type": "execute_result",
          "data": {
            "text/plain": [
              "[0, 1, 2, 3, 4, 5, 6, 7, 8, 9]"
            ]
          },
          "metadata": {},
          "execution_count": 27
        }
      ]
    },
    {
      "cell_type": "code",
      "source": [
        "list(range(0, 20, 2))"
      ],
      "metadata": {
        "colab": {
          "base_uri": "https://localhost:8080/"
        },
        "id": "eyMiNfRsayMS",
        "outputId": "d388a55f-62e7-4901-b9cd-956fc28c904f"
      },
      "execution_count": 28,
      "outputs": [
        {
          "output_type": "execute_result",
          "data": {
            "text/plain": [
              "[0, 2, 4, 6, 8, 10, 12, 14, 16, 18]"
            ]
          },
          "metadata": {},
          "execution_count": 28
        }
      ]
    },
    {
      "cell_type": "code",
      "source": [
        "# A common use of range is for iterating through sequences by index:\n",
        "seq = [1, 2, 3, 4]\n",
        "for i in range(len(seq)):\n",
        "    print(f\"element {i}: {seq[i]}\")"
      ],
      "metadata": {
        "colab": {
          "base_uri": "https://localhost:8080/"
        },
        "id": "pWyAWlOta6jf",
        "outputId": "6d8e7701-710a-41ed-defd-75173a63c8cd"
      },
      "execution_count": 29,
      "outputs": [
        {
          "output_type": "stream",
          "name": "stdout",
          "text": [
            "element 0: 1\n",
            "element 1: 2\n",
            "element 2: 3\n",
            "element 3: 4\n"
          ]
        }
      ]
    },
    {
      "cell_type": "markdown",
      "source": [
        "# Data Structures and Sequences\n",
        "\n",
        "Python’s data structures are simple but powerful. Mastering their use is a critical part of becoming a proficient Python programmer. We start with tuple, list, and dictionary, which are some of the most frequently used sequence types."
      ],
      "metadata": {
        "id": "xGF11AFQbT2Z"
      }
    },
    {
      "cell_type": "markdown",
      "source": [
        "## **Tuple**"
      ],
      "metadata": {
        "id": "3lvJ_dEQbdLd"
      }
    },
    {
      "cell_type": "code",
      "source": [
        "tup = (4, 5, 6)\n",
        "print(tup)\n",
        "print(type(tup))\n",
        "\n",
        "# also\n",
        "tup = 4, 5, 6\n",
        "print(tup)\n",
        "print(type(tup))"
      ],
      "metadata": {
        "colab": {
          "base_uri": "https://localhost:8080/"
        },
        "id": "yYuW7-NBbks4",
        "outputId": "161fe052-b8c1-4eff-cf09-b12febf46e96"
      },
      "execution_count": 30,
      "outputs": [
        {
          "output_type": "stream",
          "name": "stdout",
          "text": [
            "(4, 5, 6)\n",
            "<class 'tuple'>\n",
            "(4, 5, 6)\n",
            "<class 'tuple'>\n"
          ]
        }
      ]
    },
    {
      "cell_type": "code",
      "source": [
        "tup = tuple(\"string\")\n",
        "print(tup)\n",
        "print(tup[1])"
      ],
      "metadata": {
        "colab": {
          "base_uri": "https://localhost:8080/"
        },
        "id": "QbYjrxHNgyg4",
        "outputId": "ad21cc9a-8648-4daf-bda8-6b76b18a9cc4"
      },
      "execution_count": 32,
      "outputs": [
        {
          "output_type": "stream",
          "name": "stdout",
          "text": [
            "('s', 't', 'r', 'i', 'n', 'g')\n",
            "t\n"
          ]
        }
      ]
    },
    {
      "cell_type": "code",
      "source": [
        "nested_tup = (4, 5, 6), (7, 8)\n",
        "print(nested_tup[0])\n",
        "print(nested_tup[1][0])"
      ],
      "metadata": {
        "colab": {
          "base_uri": "https://localhost:8080/"
        },
        "id": "PTINm1EqheW1",
        "outputId": "2d8fca46-7bd9-4a4e-bb72-294f7edc2577"
      },
      "execution_count": 35,
      "outputs": [
        {
          "output_type": "stream",
          "name": "stdout",
          "text": [
            "(4, 5, 6)\n",
            "7\n"
          ]
        }
      ]
    },
    {
      "cell_type": "code",
      "source": [
        "tup = tuple(['foo', [1, 2], True])\n",
        "tup[1].append(3)\n",
        "tup"
      ],
      "metadata": {
        "colab": {
          "base_uri": "https://localhost:8080/"
        },
        "id": "l9Uc2_ffhmfy",
        "outputId": "37f152ac-553d-43d2-904c-d89a44657f91"
      },
      "execution_count": 38,
      "outputs": [
        {
          "output_type": "execute_result",
          "data": {
            "text/plain": [
              "('foo', [1, 2, 3], True)"
            ]
          },
          "metadata": {},
          "execution_count": 38
        }
      ]
    },
    {
      "cell_type": "code",
      "source": [
        "t = (4, None, 'foo') + (6, 0) + ('bar',)\n",
        "print(t)\n",
        "t = (3,5) * 15\n",
        "print(t)\n",
        "print(len(t))"
      ],
      "metadata": {
        "colab": {
          "base_uri": "https://localhost:8080/"
        },
        "id": "EKfv-9Oah1zR",
        "outputId": "288c3b64-5d52-48ca-a49d-8d9997b14596"
      },
      "execution_count": 43,
      "outputs": [
        {
          "output_type": "stream",
          "name": "stdout",
          "text": [
            "(4, None, 'foo', 6, 0, 'bar')\n",
            "(3, 5, 3, 5, 3, 5, 3, 5, 3, 5, 3, 5, 3, 5, 3, 5, 3, 5, 3, 5, 3, 5, 3, 5, 3, 5, 3, 5, 3, 5)\n",
            "30\n"
          ]
        }
      ]
    },
    {
      "cell_type": "code",
      "source": [
        "# A common use of variable unpacking is iterating over sequences of tuples or lists:\n",
        "seq = [(1, 2, 3), (4, 5, 6), (7, 8, 9)]\n",
        "for a, b, c in seq:\n",
        "    print(f'a={a}, b={b}, c={c}')"
      ],
      "metadata": {
        "colab": {
          "base_uri": "https://localhost:8080/"
        },
        "id": "P7H-wrP6ilFK",
        "outputId": "0942e66b-7499-4bbc-f32c-ba56dd5f6cbd"
      },
      "execution_count": 45,
      "outputs": [
        {
          "output_type": "stream",
          "name": "stdout",
          "text": [
            "a=1, b=2, c=3\n",
            "a=4, b=5, c=6\n",
            "a=7, b=8, c=9\n"
          ]
        }
      ]
    },
    {
      "cell_type": "code",
      "source": [
        "values = 1, 2, 3, 4, 5\n",
        "a, b, *rest = values\n",
        "rest\n",
        "\n",
        "# This rest bit is sometimes something you want to discard;\n",
        "# there is nothing special about the rest name.\n",
        "# As a matter of convention, many Python programmers\n",
        "# will use the underscore (_) for unwanted variables:\n",
        "a, b, *_ = values"
      ],
      "metadata": {
        "colab": {
          "base_uri": "https://localhost:8080/"
        },
        "id": "vuZgPHphisM4",
        "outputId": "34d8cd63-6ad6-4d78-b38f-ff35c97570de"
      },
      "execution_count": 46,
      "outputs": [
        {
          "output_type": "execute_result",
          "data": {
            "text/plain": [
              "[3, 4, 5]"
            ]
          },
          "metadata": {},
          "execution_count": 46
        }
      ]
    },
    {
      "cell_type": "code",
      "source": [
        "a = (1, 2, 2, 2, 3, 4, 2)\n",
        "a.count(2)"
      ],
      "metadata": {
        "colab": {
          "base_uri": "https://localhost:8080/"
        },
        "id": "6K2wAsr8i_qr",
        "outputId": "8289b1b1-fb1a-4ac5-f1e9-b535bdf581f7"
      },
      "execution_count": 51,
      "outputs": [
        {
          "output_type": "execute_result",
          "data": {
            "text/plain": [
              "4"
            ]
          },
          "metadata": {},
          "execution_count": 51
        }
      ]
    },
    {
      "cell_type": "markdown",
      "source": [
        "## **List**"
      ],
      "metadata": {
        "id": "oDIgb1EHjMsl"
      }
    },
    {
      "cell_type": "code",
      "source": [
        "https://learning.oreilly.com/library/view/python-for-data/9781098104023/ch03.html"
      ],
      "metadata": {
        "id": "P-4ksF8WjRLn"
      },
      "execution_count": null,
      "outputs": []
    }
  ]
}