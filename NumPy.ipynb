{
  "nbformat": 4,
  "nbformat_minor": 0,
  "metadata": {
    "colab": {
      "provenance": [],
      "toc_visible": true,
      "authorship_tag": "ABX9TyOhzjmy7XqIoa55cTxKIBGG",
      "include_colab_link": true
    },
    "kernelspec": {
      "name": "python3",
      "display_name": "Python 3"
    },
    "language_info": {
      "name": "python"
    }
  },
  "cells": [
    {
      "cell_type": "markdown",
      "metadata": {
        "id": "view-in-github",
        "colab_type": "text"
      },
      "source": [
        "<a href=\"https://colab.research.google.com/github/pablocurcodev/machine_learning/blob/main/NumPy.ipynb\" target=\"_parent\"><img src=\"https://colab.research.google.com/assets/colab-badge.svg\" alt=\"Open In Colab\"/></a>"
      ]
    },
    {
      "cell_type": "code",
      "execution_count": null,
      "metadata": {
        "id": "9dyK3EomgkhK"
      },
      "outputs": [],
      "source": []
    },
    {
      "cell_type": "markdown",
      "source": [
        "# **NumPy Basics: Arrays and Vectorized Computation**\n",
        "\n",
        "NumPy, short for Numerical Python, is one of the most important foundational packages for numerical computing in Python. Many computational packages providing scientific functionality use NumPy’s array objects as one of the standard interface lingua francas for data exchange. Much of the knowledge about NumPy that I cover is transferable to pandas as well.\n",
        "\n",
        "Here are some of the things you’ll find in NumPy:\n",
        "\n",
        "ndarray, an efficient multidimensional array providing fast array-oriented arithmetic operations and flexible broadcasting capabilities\n",
        "\n",
        "Mathematical functions for fast operations on entire arrays of data without having to write loops\n",
        "\n",
        "Tools for reading/writing array data to disk and working with memory-mapped files\n",
        "\n",
        "Linear algebra, random number generation, and Fourier transform capabilities\n",
        "\n",
        "A C API for connecting NumPy with libraries written in C, C++, or FORTRAN\n",
        "\n",
        "Source: https://learning.oreilly.com/library/view/python-for-data/9781098104023/ch04.html"
      ],
      "metadata": {
        "id": "Y-hBu_QOgpC_"
      }
    },
    {
      "cell_type": "markdown",
      "source": [
        "For most data analysis applications, the main areas of functionality are:\n",
        "\n",
        "Fast array-based operations for data munging and cleaning, subsetting and filtering, transformation, and any other kind of computation\n",
        "\n",
        "Common array algorithms like sorting, unique, and set operations\n",
        "\n",
        "Efficient descriptive statistics and aggregating/summarizing data\n",
        "\n",
        "Data alignment and relational data manipulations for merging and joining heterogeneous datasets\n",
        "\n",
        "Expressing conditional logic as array expressions instead of loops with if-elif-else branches\n",
        "\n",
        "Group-wise data manipulations (aggregation, transformation, and function application)"
      ],
      "metadata": {
        "id": "jA4BoF5phFb2"
      }
    },
    {
      "cell_type": "code",
      "source": [
        "import numpy as np\n",
        "\n",
        "my_arr = np.arange(1_000_000)\n",
        "\n",
        "my_list = list(range(1_000_000))\n",
        "\n",
        "%timeit my_arr2 = my_arr * 2\n",
        "\n",
        "%timeit my_list2 = [x * 2 for x in my_list]\n",
        "\n",
        "# NumPy-based algorithms are generally 10 to 100 times faster (or more) than their pure Python counterparts and use significantly less memory.\n"
      ],
      "metadata": {
        "colab": {
          "base_uri": "https://localhost:8080/"
        },
        "id": "OeWx9kgWg5rU",
        "outputId": "022358ac-93ed-4907-a5e8-b2e33410d1ae"
      },
      "execution_count": 6,
      "outputs": [
        {
          "output_type": "stream",
          "name": "stdout",
          "text": [
            "1.41 ms ± 340 µs per loop (mean ± std. dev. of 7 runs, 1000 loops each)\n",
            "77.5 ms ± 2.94 ms per loop (mean ± std. dev. of 7 runs, 10 loops each)\n"
          ]
        }
      ]
    },
    {
      "cell_type": "markdown",
      "source": [
        "## **The NumPy ndarray: A Multidimensional Array Object**\n",
        "\n",
        "One of the key features of NumPy is its N-dimensional array object, or ndarray, which is a fast, flexible container for large datasets in Python. Arrays enable you to perform mathematical operations on whole blocks of data using similar syntax to the equivalent operations between scalar elements."
      ],
      "metadata": {
        "id": "sdmsRcVNh575"
      }
    },
    {
      "cell_type": "code",
      "source": [
        "import numpy as np\n",
        "\n",
        "data = np.array([[1.5, -0.1, 3], [0, -3, 6.5]])\n",
        "\n",
        "print(data)\n",
        "\n",
        "print(data * 10)\n",
        "\n",
        "print(data + data)"
      ],
      "metadata": {
        "colab": {
          "base_uri": "https://localhost:8080/"
        },
        "id": "6kot5kgbh7lC",
        "outputId": "6543fdb8-cc2d-4111-8d4e-6385443d5cd7"
      },
      "execution_count": 8,
      "outputs": [
        {
          "output_type": "stream",
          "name": "stdout",
          "text": [
            "[[ 1.5 -0.1  3. ]\n",
            " [ 0.  -3.   6.5]]\n",
            "[[ 15.  -1.  30.]\n",
            " [  0. -30.  65.]]\n",
            "[[ 3.  -0.2  6. ]\n",
            " [ 0.  -6.  13. ]]\n"
          ]
        }
      ]
    },
    {
      "cell_type": "markdown",
      "source": [
        "An ndarray is a generic multidimensional container for homogeneous data; that is, all of the elements must be the same type. Every array has a shape, a tuple indicating the size of each dimension, and a dtype, an object describing the data type of the array"
      ],
      "metadata": {
        "id": "1AUT-CfOinct"
      }
    },
    {
      "cell_type": "code",
      "source": [
        "print(data.shape)\n",
        "print(data.dtype)"
      ],
      "metadata": {
        "colab": {
          "base_uri": "https://localhost:8080/"
        },
        "id": "wI7E0yXXikLr",
        "outputId": "66e03271-813c-4253-b748-27d32c2f7060"
      },
      "execution_count": 9,
      "outputs": [
        {
          "output_type": "stream",
          "name": "stdout",
          "text": [
            "(2, 3)\n",
            "float64\n"
          ]
        }
      ]
    },
    {
      "cell_type": "markdown",
      "source": [
        "The easiest way to create an array is to use the array function. This accepts any sequence-like object (including other arrays) and produces a new NumPy array containing the passed data. For example, a list is a good candidate for conversion"
      ],
      "metadata": {
        "id": "IbPF2R9AizkF"
      }
    },
    {
      "cell_type": "code",
      "source": [
        "data1 = [6, 7.5, 8, 0, 1]\n",
        "arr1 = np.array(data1)\n",
        "print(arr1)"
      ],
      "metadata": {
        "colab": {
          "base_uri": "https://localhost:8080/"
        },
        "id": "WLObDUh_ivUz",
        "outputId": "b6ca9532-ddca-4c25-fb2d-5900d47465c2"
      },
      "execution_count": 11,
      "outputs": [
        {
          "output_type": "stream",
          "name": "stdout",
          "text": [
            "[6.  7.5 8.  0.  1. ]\n"
          ]
        }
      ]
    },
    {
      "cell_type": "markdown",
      "source": [
        "Nested sequences, like a list of equal-length lists, will be converted into a multidimensional array:"
      ],
      "metadata": {
        "id": "lwqx2A2ojFox"
      }
    },
    {
      "cell_type": "code",
      "source": [
        "data2 = [[1, 2, 3, 4], [5, 6, 7, 8]]\n",
        "arr2 = np.array(data2)\n",
        "\n",
        "arr2"
      ],
      "metadata": {
        "colab": {
          "base_uri": "https://localhost:8080/"
        },
        "id": "GXoM_Zqwi3-F",
        "outputId": "a970dbbf-689d-4e02-bc5b-a9bc42e60360"
      },
      "execution_count": 12,
      "outputs": [
        {
          "output_type": "execute_result",
          "data": {
            "text/plain": [
              "array([[1, 2, 3, 4],\n",
              "       [5, 6, 7, 8]])"
            ]
          },
          "metadata": {},
          "execution_count": 12
        }
      ]
    },
    {
      "cell_type": "markdown",
      "source": [
        "Since data2 was a list of lists, the NumPy array arr2 has two dimensions, with shape inferred from the data. We can confirm this by inspecting the ndim and shape attributes"
      ],
      "metadata": {
        "id": "Jtp0UuSajRDD"
      }
    },
    {
      "cell_type": "code",
      "source": [
        "print(arr2.ndim)\n",
        "print(arr2.shape)"
      ],
      "metadata": {
        "colab": {
          "base_uri": "https://localhost:8080/"
        },
        "id": "LpbUxs4bjTQH",
        "outputId": "3d84bf93-a008-45df-c284-ac305eb6d0d5"
      },
      "execution_count": 14,
      "outputs": [
        {
          "output_type": "stream",
          "name": "stdout",
          "text": [
            "2\n",
            "(2, 4)\n"
          ]
        }
      ]
    }
  ]
}